{
 "cells": [
  {
   "cell_type": "markdown",
   "metadata": {},
   "source": [
    "# Reto para laboratorio 1: Administración activa Vs Administración pasiva del capital.\n",
    "\n",
    "<img src=\"https://www.google.com/search?q=iteso+imagenes&sxsrf=ACYBGNRuniJ0XQ3HCBjfq9sHJdF2JP0eAA:1568326542761&source=lnms&tbm=isch&sa=X&ved=0ahUKEwjnjuTTp8zkAhVSgK0KHT5VD-8Q_AUIEigB&biw=1280&bih=612#imgrc=_\">\n",
    "\n",
    "\n",
    "\n",
    "## Equipo E\n",
    "\n",
    "### Integrantes:\n",
    "\n",
    "Ana Paula Rangel Ochoa\n",
    "\n",
    "Paulina Rodriguez Guerrero\n",
    "\n",
    "José Luis Suárez de Alba\n",
    "\n",
    "Diego Velasco Sanchez\n",
    "\n",
    "\n",
    "\n",
    "### Situación:\n",
    "\n",
    "<div class=text-justify>  \n",
    "Acabas de entrar a trabajar a una operadora de fondos de inversión como analista financiero dentro de la mesa de análisis del mercado de renta variable. En la junta trimestral se plantea la posibilidad de crear un fondo propio con exposición al mercado de valores de USA tratando de replicar a los ETFs conocidos como ishares que la empresa BlackRock ofrece.\n",
    "\n",
    "   La idea es replicar un ETF con posiciones en directo. Te han asignado la tarea de hacer un ejercicio simple de replicar la construcción de un portafolio de inversión y un criterio de rebalanceo lo más parecido a un ETF de ishares que tu selecciones. Esto con la finalidad de comparar los resultados de haber rebanceado periódicamente el portafolio, ó, no haberlo hecho y continuar todo un año con las mismas posiciones.\n",
    "   \n",
    "</div>\n",
    "    \n",
    "### Caracteristicas:\n",
    "\n",
    "<div class=text-justify> \n",
    "   Debido a tu formación, te piden que este proceso que construyas sea repetible para cualquier ETF y también incluir 3 medidas de atribución al desempeño, tanto para el caso que el ETF nunca hubiese sido rebalanceado como para los casos donde sí.\n",
    "\n",
    "   En la mesa de análisis están interesados en conocer el proceso que sigues para adquirir, limpiar, dar formato y utilizar los datos, y a pesar que el equipo senior de análisis está compuesto por personal altamente calificado en temas de economía y finanzas, ellos no saben programar por lo que te piden que incluyas el código utilizado, y que sea de manera ordenada y explicando el sentido de las funciones y paqueterías que requeriste.\n",
    "   \n",
    "   * Comparar con 1 año de información: 1.3.17 al 1.3.18.\n",
    "\n",
    "   * Utilizar un ETF de Ishares para el mercado de renta varialbe de USA.\n",
    "\n",
    "   * Entregar un Jupyter Notebook con explicación y comentarios en el código.\n",
    "\n",
    "   * Crear y actualizar continuamente un repositorio en GitHub para el proyecto.\n",
    "</div>\n",
    "    \n",
    "    \n",
    "\n",
    "\n",
    "https://www.quandl.com/search?filters=%5B%22Mutual%20Funds%20%26%20ETFs%22%2C%22Free%22%2C%22United%20States%22%5D"
   ]
  },
  {
   "cell_type": "markdown",
   "metadata": {},
   "source": [
    "## ETF \n",
    "https://www.ishares.com/us/products/239770/\n",
    "\n",
    "<div class=text-justify> \n",
    "Obtener los rendimientos mensuales sacar la desviación estándar para tener la volatilidad de esta es diaria entonces es la desviación de los rendimientos diarios tenemos 12 meses, pero no se modifican ni el primero ni el ultimo con el peso calculamos la varianza desviación de cada mes usando la desviación de los diarios\n",
    "</div>\n",
    "<div class=text-justify> \n",
    "1.\tDescargar los datos mensuales de un año.\n",
    "2.\tRendimientos diarios y la desv estandar y el sharp (tasa libre de riesgo usa, treasury hold).\n",
    "3.\tNet asset value diario es l NAV (el precio diario de tu ETF) este sirve para sacar la volatilidad y ver si hubo picos si no hay está muy tranquilo (rendimientos diarios por los pesos mensuales para sacar el diario) --> de los 13 archivos.\n",
    "4.\tHacer 11 escenarios diferentes para ver cual habría sido la mejor situación.\n",
    "</div>\n",
    "Escenarios\n",
    " * Todo el año con los primeros pesos.\n",
    " * Rebalancear igual que el ETF.\n",
    " * Rebalancear cada mes."
   ]
  },
  {
   "cell_type": "markdown",
   "metadata": {},
   "source": [
    "### Importar librerias"
   ]
  },
  {
   "cell_type": "code",
   "execution_count": 10,
   "metadata": {},
   "outputs": [],
   "source": [
    "#pip install xlrd\n",
    "#pip install xlwt\n",
    "#pip install quandl\n",
    "import quandl\n",
    "import numpy as np\n",
    "import pandas as pd\n",
    "import scipy.stats as stats\n",
    "import matplotlib.pyplot as plt\n",
    "import datetime as dt"
   ]
  },
  {
   "cell_type": "markdown",
   "metadata": {},
   "source": [
    "### Información general del ETF"
   ]
  },
  {
   "cell_type": "code",
   "execution_count": 5,
   "metadata": {},
   "outputs": [],
   "source": [
    "etf_data=pd.read_csv(\"https://raw.githubusercontent.com/anapaurangel/MyST/master/Proyecto%20corregido/IGN_holdings.csv\",  skiprows = [0,1,2,3,4,5,6,7,8,9]) #descargar datos segundo mes\n",
    "# etf_data.drop(etf_data.index[[-1,-2]])\n",
    "etf=etf_data[:-2]\n",
    "etf\n",
    "# Obtener tickers\n",
    "tickers=etf.Ticker\n"
   ]
  },
  {
   "cell_type": "markdown",
   "metadata": {},
   "source": [
    "### Lectura de mis archivos"
   ]
  },
  {
   "cell_type": "code",
   "execution_count": 30,
   "metadata": {},
   "outputs": [],
   "source": [
    "#extraccion de los 13 meses archivos\n",
    "mes1    = pd.read_csv('https://raw.githubusercontent.com/anapaurangel/MyST/master/Proyecto%20corregido/mes1.csv',\n",
    "                   skiprows = [0,1,2,3,4,5,6,7]) \n",
    "mes2    = pd.read_csv('https://raw.githubusercontent.com/anapaurangel/MyST/master/Proyecto%20corregido/mes2.csv',\n",
    "                   skiprows = [0,1,2,3,4,5,6,7]) \n",
    "mes3    = pd.read_csv('https://raw.githubusercontent.com/anapaurangel/MyST/master/Proyecto%20corregido/mes3.csv',\n",
    "                   skiprows = [0,1,2,3,4,5,6,7]) \n",
    "mes4    = pd.read_csv('https://raw.githubusercontent.com/anapaurangel/MyST/master/Proyecto%20corregido/mes4.csv',\n",
    "                   skiprows = [0,1,2,3,4,5,6,7]) \n",
    "mes5    = pd.read_csv('https://raw.githubusercontent.com/anapaurangel/MyST/master/Proyecto%20corregido/mes5.csv',\n",
    "                   skiprows = [0,1,2,3,4,5,6,7]) \n",
    "mes6    = pd.read_csv('https://raw.githubusercontent.com/anapaurangel/MyST/master/Proyecto%20corregido/mes6.csv',\n",
    "                   skiprows = [0,1,2,3,4,5,6,7])\n",
    "mes7    = pd.read_csv('https://raw.githubusercontent.com/anapaurangel/MyST/master/Proyecto%20corregido/mes7.csv',\n",
    "                   skiprows = [0,1,2,3,4,5,6,7]) \n",
    "mes8    = pd.read_csv('https://raw.githubusercontent.com/anapaurangel/MyST/master/Proyecto%20corregido/mes8.csv',\n",
    "                   skiprows = [0,1,2,3,4,5,6,7]) \n",
    "mes9    = pd.read_csv('https://raw.githubusercontent.com/anapaurangel/MyST/master/Proyecto%20corregido/mes9.csv',\n",
    "                   skiprows = [0,1,2,3,4,5,6,7])\n",
    "mes10    = pd.read_csv('https://raw.githubusercontent.com/anapaurangel/MyST/master/Proyecto%20corregido/mes10.csv',\n",
    "                   skiprows = [0,1,2,3,4,5,6,7])\n",
    "mes11    = pd.read_csv('https://raw.githubusercontent.com/anapaurangel/MyST/master/Proyecto%20corregido/mes11.csv',\n",
    "                   skiprows = [0,1,2,3,4,5,6,7]) \n",
    "mes12    = pd.read_csv('https://raw.githubusercontent.com/anapaurangel/MyST/master/Proyecto%20corregido/mes12.csv',\n",
    "                   skiprows = [0,1,2,3,4,5,6,7]) \n",
    "mes13    = pd.read_csv('https://raw.githubusercontent.com/anapaurangel/MyST/master/Proyecto%20corregido/mes13.csv',\n",
    "                   skiprows = [0,1,2,3,4,5,6,7])"
   ]
  },
  {
   "cell_type": "markdown",
   "metadata": {},
   "source": [
    "### Separo mis tickers, precios y numero de acciones por mes"
   ]
  },
  {
   "cell_type": "code",
   "execution_count": 31,
   "metadata": {},
   "outputs": [],
   "source": [
    "xmes1   = mes1['Ticker'] #tickets primer mes\n",
    "price1  = mes1['Price'] #precios primer mes\n",
    "shares1  = mes1['Shares'] #shares primer mes\n",
    "\n",
    "xmes2   = mes2['Ticker'] \n",
    "price2  = mes2['Price'] \n",
    "shares2  = mes2['Shares'] \n",
    "\n",
    "xmes3   = mes3['Ticker'] \n",
    "price3  = mes3['Price'] \n",
    "shares3  = mes3['Shares']\n",
    "\n",
    "xmes4   = mes4['Ticker'] \n",
    "price4  = mes4['Price'] \n",
    "shares4  = mes4['Shares']\n",
    "\n",
    "xmes5   = mes5['Ticker'] \n",
    "price5  = mes5['Price'] \n",
    "shares5  = mes5['Shares']\n",
    "\n",
    "xmes6   = mes6['Ticker'] \n",
    "price6  = mes6['Price'] \n",
    "shares6  = mes6['Shares']\n",
    "\n",
    "xmes7   = mes7['Ticker'] \n",
    "price7  = mes7['Price'] \n",
    "shares7  = mes7['Shares']\n",
    "\n",
    "xmes8   = mes8['Ticker'] \n",
    "price8  = mes8['Price'] \n",
    "shares8  = mes8['Shares']\n",
    "\n",
    "xmes9   = mes9['Ticker'] \n",
    "price9  = mes9['Price'] \n",
    "shares9  = mes9['Shares']\n",
    "\n",
    "\n",
    "xmes10   = mes10['Ticker'] \n",
    "price10  = mes10['Price'] \n",
    "shares10  = mes10['Shares']\n",
    "\n",
    "xmes11   = mes11['Ticker'] \n",
    "price11  = mes11['Price'] \n",
    "shares11  = mes11['Shares']\n",
    "\n",
    "xmes12   = mes12['Ticker'] \n",
    "price12  = mes12['Price'] \n",
    "shares12  = mes12['Shares']\n",
    "\n",
    "xmes13   = mes13['Ticker'] \n",
    "price13  = mes13['Price'] \n",
    "shares13  = mes13['Shares']\n"
   ]
  },
  {
   "cell_type": "code",
   "execution_count": 86,
   "metadata": {},
   "outputs": [
    {
     "data": {
      "text/plain": [
       "pandas.core.series.Series"
      ]
     },
     "execution_count": 86,
     "metadata": {},
     "output_type": "execute_result"
    }
   ],
   "source": [
    "shares1=mes1['Shares']\n",
    "type(shares1)"
   ]
  },
  {
   "cell_type": "code",
   "execution_count": 87,
   "metadata": {},
   "outputs": [
    {
     "ename": "KeyError",
     "evalue": "'1.00'",
     "output_type": "error",
     "traceback": [
      "\u001b[1;31m---------------------------------------------------------------------------\u001b[0m",
      "\u001b[1;31mKeyError\u001b[0m                                  Traceback (most recent call last)",
      "\u001b[1;32m<ipython-input-87-e443980b1b5b>\u001b[0m in \u001b[0;36m<module>\u001b[1;34m()\u001b[0m\n\u001b[0;32m      2\u001b[0m \u001b[1;33m\u001b[0m\u001b[0m\n\u001b[0;32m      3\u001b[0m \u001b[1;32mfor\u001b[0m \u001b[0mi\u001b[0m \u001b[1;32min\u001b[0m \u001b[0mrange\u001b[0m\u001b[1;33m(\u001b[0m\u001b[0mlen\u001b[0m\u001b[1;33m(\u001b[0m\u001b[0mshares1\u001b[0m\u001b[1;33m)\u001b[0m\u001b[1;33m)\u001b[0m\u001b[1;33m:\u001b[0m\u001b[1;33m\u001b[0m\u001b[0m\n\u001b[1;32m----> 4\u001b[1;33m     \u001b[1;32mfor\u001b[0m \u001b[0mx\u001b[0m \u001b[1;32min\u001b[0m \u001b[0mshares1\u001b[0m\u001b[1;33m[\u001b[0m\u001b[0mx\u001b[0m\u001b[1;33m]\u001b[0m\u001b[1;33m:\u001b[0m\u001b[1;33m\u001b[0m\u001b[0m\n\u001b[0m\u001b[0;32m      5\u001b[0m         \u001b[0mx\u001b[0m\u001b[1;33m.\u001b[0m\u001b[0mreplace\u001b[0m\u001b[1;33m(\u001b[0m\u001b[1;34m\",\"\u001b[0m\u001b[1;33m,\u001b[0m\u001b[1;34m\"\"\u001b[0m\u001b[1;33m)\u001b[0m\u001b[1;33m\u001b[0m\u001b[0m\n\u001b[0;32m      6\u001b[0m         \u001b[1;32mprint\u001b[0m \u001b[0mx\u001b[0m\u001b[1;33m\u001b[0m\u001b[0m\n",
      "\u001b[1;32mC:\\Users\\Ana\\Anaconda2\\lib\\site-packages\\pandas\\core\\series.pyc\u001b[0m in \u001b[0;36m__getitem__\u001b[1;34m(self, key)\u001b[0m\n\u001b[0;32m    764\u001b[0m         \u001b[0mkey\u001b[0m \u001b[1;33m=\u001b[0m \u001b[0mcom\u001b[0m\u001b[1;33m.\u001b[0m\u001b[0m_apply_if_callable\u001b[0m\u001b[1;33m(\u001b[0m\u001b[0mkey\u001b[0m\u001b[1;33m,\u001b[0m \u001b[0mself\u001b[0m\u001b[1;33m)\u001b[0m\u001b[1;33m\u001b[0m\u001b[0m\n\u001b[0;32m    765\u001b[0m         \u001b[1;32mtry\u001b[0m\u001b[1;33m:\u001b[0m\u001b[1;33m\u001b[0m\u001b[0m\n\u001b[1;32m--> 766\u001b[1;33m             \u001b[0mresult\u001b[0m \u001b[1;33m=\u001b[0m \u001b[0mself\u001b[0m\u001b[1;33m.\u001b[0m\u001b[0mindex\u001b[0m\u001b[1;33m.\u001b[0m\u001b[0mget_value\u001b[0m\u001b[1;33m(\u001b[0m\u001b[0mself\u001b[0m\u001b[1;33m,\u001b[0m \u001b[0mkey\u001b[0m\u001b[1;33m)\u001b[0m\u001b[1;33m\u001b[0m\u001b[0m\n\u001b[0m\u001b[0;32m    767\u001b[0m \u001b[1;33m\u001b[0m\u001b[0m\n\u001b[0;32m    768\u001b[0m             \u001b[1;32mif\u001b[0m \u001b[1;32mnot\u001b[0m \u001b[0mis_scalar\u001b[0m\u001b[1;33m(\u001b[0m\u001b[0mresult\u001b[0m\u001b[1;33m)\u001b[0m\u001b[1;33m:\u001b[0m\u001b[1;33m\u001b[0m\u001b[0m\n",
      "\u001b[1;32mC:\\Users\\Ana\\Anaconda2\\lib\\site-packages\\pandas\\core\\indexes\\base.pyc\u001b[0m in \u001b[0;36mget_value\u001b[1;34m(self, series, key)\u001b[0m\n\u001b[0;32m   3101\u001b[0m         \u001b[1;32mtry\u001b[0m\u001b[1;33m:\u001b[0m\u001b[1;33m\u001b[0m\u001b[0m\n\u001b[0;32m   3102\u001b[0m             return self._engine.get_value(s, k,\n\u001b[1;32m-> 3103\u001b[1;33m                                           tz=getattr(series.dtype, 'tz', None))\n\u001b[0m\u001b[0;32m   3104\u001b[0m         \u001b[1;32mexcept\u001b[0m \u001b[0mKeyError\u001b[0m \u001b[1;32mas\u001b[0m \u001b[0me1\u001b[0m\u001b[1;33m:\u001b[0m\u001b[1;33m\u001b[0m\u001b[0m\n\u001b[0;32m   3105\u001b[0m             \u001b[1;32mif\u001b[0m \u001b[0mlen\u001b[0m\u001b[1;33m(\u001b[0m\u001b[0mself\u001b[0m\u001b[1;33m)\u001b[0m \u001b[1;33m>\u001b[0m \u001b[1;36m0\u001b[0m \u001b[1;32mand\u001b[0m \u001b[0mself\u001b[0m\u001b[1;33m.\u001b[0m\u001b[0minferred_type\u001b[0m \u001b[1;32min\u001b[0m \u001b[1;33m[\u001b[0m\u001b[1;34m'integer'\u001b[0m\u001b[1;33m,\u001b[0m \u001b[1;34m'boolean'\u001b[0m\u001b[1;33m]\u001b[0m\u001b[1;33m:\u001b[0m\u001b[1;33m\u001b[0m\u001b[0m\n",
      "\u001b[1;32mpandas\\_libs\\index.pyx\u001b[0m in \u001b[0;36mpandas._libs.index.IndexEngine.get_value\u001b[1;34m()\u001b[0m\n",
      "\u001b[1;32mpandas\\_libs\\index.pyx\u001b[0m in \u001b[0;36mpandas._libs.index.IndexEngine.get_value\u001b[1;34m()\u001b[0m\n",
      "\u001b[1;32mpandas\\_libs\\index.pyx\u001b[0m in \u001b[0;36mpandas._libs.index.IndexEngine.get_loc\u001b[1;34m()\u001b[0m\n",
      "\u001b[1;31mKeyError\u001b[0m: '1.00'"
     ]
    }
   ],
   "source": [
    "shares1=mes1['Shares'].replace(\",\",\"\")\n",
    "\n",
    "for i in range(len(shares1)):\n",
    "    for x in shares1[x]:\n",
    "        x.replace(\",\",\"\")\n",
    "        print x\n",
    "\n"
   ]
  },
  {
   "cell_type": "code",
   "execution_count": 59,
   "metadata": {},
   "outputs": [
    {
     "ename": "ValueError",
     "evalue": "invalid literal for float(): 1,577.00",
     "output_type": "error",
     "traceback": [
      "\u001b[1;31m---------------------------------------------------------------------------\u001b[0m",
      "\u001b[1;31mValueError\u001b[0m                                Traceback (most recent call last)",
      "\u001b[1;32m<ipython-input-59-071304fa67f3>\u001b[0m in \u001b[0;36m<module>\u001b[1;34m()\u001b[0m\n\u001b[0;32m      4\u001b[0m     \u001b[0mi\u001b[0m\u001b[1;33m.\u001b[0m\u001b[0mreplace\u001b[0m\u001b[1;33m(\u001b[0m\u001b[1;34m\",\"\u001b[0m\u001b[1;33m,\u001b[0m\u001b[1;34m\"\"\u001b[0m\u001b[1;33m)\u001b[0m\u001b[1;33m\u001b[0m\u001b[0m\n\u001b[0;32m      5\u001b[0m \u001b[1;33m\u001b[0m\u001b[0m\n\u001b[1;32m----> 6\u001b[1;33m \u001b[0mprice1\u001b[0m\u001b[1;33m=\u001b[0m\u001b[0mprice1\u001b[0m\u001b[1;33m.\u001b[0m\u001b[0mastype\u001b[0m\u001b[1;33m(\u001b[0m\u001b[0mfloat\u001b[0m\u001b[1;33m)\u001b[0m\u001b[1;33m\u001b[0m\u001b[0m\n\u001b[0m",
      "\u001b[1;32mC:\\Users\\Ana\\Anaconda2\\lib\\site-packages\\pandas\\util\\_decorators.pyc\u001b[0m in \u001b[0;36mwrapper\u001b[1;34m(*args, **kwargs)\u001b[0m\n\u001b[0;32m    175\u001b[0m                 \u001b[1;32melse\u001b[0m\u001b[1;33m:\u001b[0m\u001b[1;33m\u001b[0m\u001b[0m\n\u001b[0;32m    176\u001b[0m                     \u001b[0mkwargs\u001b[0m\u001b[1;33m[\u001b[0m\u001b[0mnew_arg_name\u001b[0m\u001b[1;33m]\u001b[0m \u001b[1;33m=\u001b[0m \u001b[0mnew_arg_value\u001b[0m\u001b[1;33m\u001b[0m\u001b[0m\n\u001b[1;32m--> 177\u001b[1;33m             \u001b[1;32mreturn\u001b[0m \u001b[0mfunc\u001b[0m\u001b[1;33m(\u001b[0m\u001b[1;33m*\u001b[0m\u001b[0margs\u001b[0m\u001b[1;33m,\u001b[0m \u001b[1;33m**\u001b[0m\u001b[0mkwargs\u001b[0m\u001b[1;33m)\u001b[0m\u001b[1;33m\u001b[0m\u001b[0m\n\u001b[0m\u001b[0;32m    178\u001b[0m         \u001b[1;32mreturn\u001b[0m \u001b[0mwrapper\u001b[0m\u001b[1;33m\u001b[0m\u001b[0m\n\u001b[0;32m    179\u001b[0m     \u001b[1;32mreturn\u001b[0m \u001b[0m_deprecate_kwarg\u001b[0m\u001b[1;33m\u001b[0m\u001b[0m\n",
      "\u001b[1;32mC:\\Users\\Ana\\Anaconda2\\lib\\site-packages\\pandas\\core\\generic.pyc\u001b[0m in \u001b[0;36mastype\u001b[1;34m(self, dtype, copy, errors, **kwargs)\u001b[0m\n\u001b[0;32m   4995\u001b[0m             \u001b[1;31m# else, only a single dtype is given\u001b[0m\u001b[1;33m\u001b[0m\u001b[1;33m\u001b[0m\u001b[0m\n\u001b[0;32m   4996\u001b[0m             new_data = self._data.astype(dtype=dtype, copy=copy, errors=errors,\n\u001b[1;32m-> 4997\u001b[1;33m                                          **kwargs)\n\u001b[0m\u001b[0;32m   4998\u001b[0m             \u001b[1;32mreturn\u001b[0m \u001b[0mself\u001b[0m\u001b[1;33m.\u001b[0m\u001b[0m_constructor\u001b[0m\u001b[1;33m(\u001b[0m\u001b[0mnew_data\u001b[0m\u001b[1;33m)\u001b[0m\u001b[1;33m.\u001b[0m\u001b[0m__finalize__\u001b[0m\u001b[1;33m(\u001b[0m\u001b[0mself\u001b[0m\u001b[1;33m)\u001b[0m\u001b[1;33m\u001b[0m\u001b[0m\n\u001b[0;32m   4999\u001b[0m \u001b[1;33m\u001b[0m\u001b[0m\n",
      "\u001b[1;32mC:\\Users\\Ana\\Anaconda2\\lib\\site-packages\\pandas\\core\\internals.pyc\u001b[0m in \u001b[0;36mastype\u001b[1;34m(self, dtype, **kwargs)\u001b[0m\n\u001b[0;32m   3712\u001b[0m \u001b[1;33m\u001b[0m\u001b[0m\n\u001b[0;32m   3713\u001b[0m     \u001b[1;32mdef\u001b[0m \u001b[0mastype\u001b[0m\u001b[1;33m(\u001b[0m\u001b[0mself\u001b[0m\u001b[1;33m,\u001b[0m \u001b[0mdtype\u001b[0m\u001b[1;33m,\u001b[0m \u001b[1;33m**\u001b[0m\u001b[0mkwargs\u001b[0m\u001b[1;33m)\u001b[0m\u001b[1;33m:\u001b[0m\u001b[1;33m\u001b[0m\u001b[0m\n\u001b[1;32m-> 3714\u001b[1;33m         \u001b[1;32mreturn\u001b[0m \u001b[0mself\u001b[0m\u001b[1;33m.\u001b[0m\u001b[0mapply\u001b[0m\u001b[1;33m(\u001b[0m\u001b[1;34m'astype'\u001b[0m\u001b[1;33m,\u001b[0m \u001b[0mdtype\u001b[0m\u001b[1;33m=\u001b[0m\u001b[0mdtype\u001b[0m\u001b[1;33m,\u001b[0m \u001b[1;33m**\u001b[0m\u001b[0mkwargs\u001b[0m\u001b[1;33m)\u001b[0m\u001b[1;33m\u001b[0m\u001b[0m\n\u001b[0m\u001b[0;32m   3715\u001b[0m \u001b[1;33m\u001b[0m\u001b[0m\n\u001b[0;32m   3716\u001b[0m     \u001b[1;32mdef\u001b[0m \u001b[0mconvert\u001b[0m\u001b[1;33m(\u001b[0m\u001b[0mself\u001b[0m\u001b[1;33m,\u001b[0m \u001b[1;33m**\u001b[0m\u001b[0mkwargs\u001b[0m\u001b[1;33m)\u001b[0m\u001b[1;33m:\u001b[0m\u001b[1;33m\u001b[0m\u001b[0m\n",
      "\u001b[1;32mC:\\Users\\Ana\\Anaconda2\\lib\\site-packages\\pandas\\core\\internals.pyc\u001b[0m in \u001b[0;36mapply\u001b[1;34m(self, f, axes, filter, do_integrity_check, consolidate, **kwargs)\u001b[0m\n\u001b[0;32m   3579\u001b[0m \u001b[1;33m\u001b[0m\u001b[0m\n\u001b[0;32m   3580\u001b[0m             \u001b[0mkwargs\u001b[0m\u001b[1;33m[\u001b[0m\u001b[1;34m'mgr'\u001b[0m\u001b[1;33m]\u001b[0m \u001b[1;33m=\u001b[0m \u001b[0mself\u001b[0m\u001b[1;33m\u001b[0m\u001b[0m\n\u001b[1;32m-> 3581\u001b[1;33m             \u001b[0mapplied\u001b[0m \u001b[1;33m=\u001b[0m \u001b[0mgetattr\u001b[0m\u001b[1;33m(\u001b[0m\u001b[0mb\u001b[0m\u001b[1;33m,\u001b[0m \u001b[0mf\u001b[0m\u001b[1;33m)\u001b[0m\u001b[1;33m(\u001b[0m\u001b[1;33m**\u001b[0m\u001b[0mkwargs\u001b[0m\u001b[1;33m)\u001b[0m\u001b[1;33m\u001b[0m\u001b[0m\n\u001b[0m\u001b[0;32m   3582\u001b[0m             \u001b[0mresult_blocks\u001b[0m \u001b[1;33m=\u001b[0m \u001b[0m_extend_blocks\u001b[0m\u001b[1;33m(\u001b[0m\u001b[0mapplied\u001b[0m\u001b[1;33m,\u001b[0m \u001b[0mresult_blocks\u001b[0m\u001b[1;33m)\u001b[0m\u001b[1;33m\u001b[0m\u001b[0m\n\u001b[0;32m   3583\u001b[0m \u001b[1;33m\u001b[0m\u001b[0m\n",
      "\u001b[1;32mC:\\Users\\Ana\\Anaconda2\\lib\\site-packages\\pandas\\core\\internals.pyc\u001b[0m in \u001b[0;36mastype\u001b[1;34m(self, dtype, copy, errors, values, **kwargs)\u001b[0m\n\u001b[0;32m    573\u001b[0m     \u001b[1;32mdef\u001b[0m \u001b[0mastype\u001b[0m\u001b[1;33m(\u001b[0m\u001b[0mself\u001b[0m\u001b[1;33m,\u001b[0m \u001b[0mdtype\u001b[0m\u001b[1;33m,\u001b[0m \u001b[0mcopy\u001b[0m\u001b[1;33m=\u001b[0m\u001b[0mFalse\u001b[0m\u001b[1;33m,\u001b[0m \u001b[0merrors\u001b[0m\u001b[1;33m=\u001b[0m\u001b[1;34m'raise'\u001b[0m\u001b[1;33m,\u001b[0m \u001b[0mvalues\u001b[0m\u001b[1;33m=\u001b[0m\u001b[0mNone\u001b[0m\u001b[1;33m,\u001b[0m \u001b[1;33m**\u001b[0m\u001b[0mkwargs\u001b[0m\u001b[1;33m)\u001b[0m\u001b[1;33m:\u001b[0m\u001b[1;33m\u001b[0m\u001b[0m\n\u001b[0;32m    574\u001b[0m         return self._astype(dtype, copy=copy, errors=errors, values=values,\n\u001b[1;32m--> 575\u001b[1;33m                             **kwargs)\n\u001b[0m\u001b[0;32m    576\u001b[0m \u001b[1;33m\u001b[0m\u001b[0m\n\u001b[0;32m    577\u001b[0m     def _astype(self, dtype, copy=False, errors='raise', values=None,\n",
      "\u001b[1;32mC:\\Users\\Ana\\Anaconda2\\lib\\site-packages\\pandas\\core\\internals.pyc\u001b[0m in \u001b[0;36m_astype\u001b[1;34m(self, dtype, copy, errors, values, klass, mgr, **kwargs)\u001b[0m\n\u001b[0;32m    662\u001b[0m \u001b[1;33m\u001b[0m\u001b[0m\n\u001b[0;32m    663\u001b[0m                 \u001b[1;31m# _astype_nansafe works fine with 1-d only\u001b[0m\u001b[1;33m\u001b[0m\u001b[1;33m\u001b[0m\u001b[0m\n\u001b[1;32m--> 664\u001b[1;33m                 \u001b[0mvalues\u001b[0m \u001b[1;33m=\u001b[0m \u001b[0mastype_nansafe\u001b[0m\u001b[1;33m(\u001b[0m\u001b[0mvalues\u001b[0m\u001b[1;33m.\u001b[0m\u001b[0mravel\u001b[0m\u001b[1;33m(\u001b[0m\u001b[1;33m)\u001b[0m\u001b[1;33m,\u001b[0m \u001b[0mdtype\u001b[0m\u001b[1;33m,\u001b[0m \u001b[0mcopy\u001b[0m\u001b[1;33m=\u001b[0m\u001b[0mTrue\u001b[0m\u001b[1;33m)\u001b[0m\u001b[1;33m\u001b[0m\u001b[0m\n\u001b[0m\u001b[0;32m    665\u001b[0m                 \u001b[0mvalues\u001b[0m \u001b[1;33m=\u001b[0m \u001b[0mvalues\u001b[0m\u001b[1;33m.\u001b[0m\u001b[0mreshape\u001b[0m\u001b[1;33m(\u001b[0m\u001b[0mself\u001b[0m\u001b[1;33m.\u001b[0m\u001b[0mshape\u001b[0m\u001b[1;33m)\u001b[0m\u001b[1;33m\u001b[0m\u001b[0m\n\u001b[0;32m    666\u001b[0m \u001b[1;33m\u001b[0m\u001b[0m\n",
      "\u001b[1;32mC:\\Users\\Ana\\Anaconda2\\lib\\site-packages\\pandas\\core\\dtypes\\cast.pyc\u001b[0m in \u001b[0;36mastype_nansafe\u001b[1;34m(arr, dtype, copy)\u001b[0m\n\u001b[0;32m    728\u001b[0m \u001b[1;33m\u001b[0m\u001b[0m\n\u001b[0;32m    729\u001b[0m     \u001b[1;32mif\u001b[0m \u001b[0mcopy\u001b[0m\u001b[1;33m:\u001b[0m\u001b[1;33m\u001b[0m\u001b[0m\n\u001b[1;32m--> 730\u001b[1;33m         \u001b[1;32mreturn\u001b[0m \u001b[0marr\u001b[0m\u001b[1;33m.\u001b[0m\u001b[0mastype\u001b[0m\u001b[1;33m(\u001b[0m\u001b[0mdtype\u001b[0m\u001b[1;33m,\u001b[0m \u001b[0mcopy\u001b[0m\u001b[1;33m=\u001b[0m\u001b[0mTrue\u001b[0m\u001b[1;33m)\u001b[0m\u001b[1;33m\u001b[0m\u001b[0m\n\u001b[0m\u001b[0;32m    731\u001b[0m     \u001b[1;32mreturn\u001b[0m \u001b[0marr\u001b[0m\u001b[1;33m.\u001b[0m\u001b[0mview\u001b[0m\u001b[1;33m(\u001b[0m\u001b[0mdtype\u001b[0m\u001b[1;33m)\u001b[0m\u001b[1;33m\u001b[0m\u001b[0m\n\u001b[0;32m    732\u001b[0m \u001b[1;33m\u001b[0m\u001b[0m\n",
      "\u001b[1;31mValueError\u001b[0m: invalid literal for float(): 1,577.00"
     ]
    }
   ],
   "source": [
    "price1=mes1['Price']\n",
    "\n",
    "for i in price1:\n",
    "    i.replace(\",\",\"\")\n",
    "\n",
    "price1=price1.astype(float)"
   ]
  },
  {
   "cell_type": "code",
   "execution_count": 60,
   "metadata": {},
   "outputs": [
    {
     "ename": "AttributeError",
     "evalue": "'Series' object has no attribute 'DataFrame'",
     "output_type": "error",
     "traceback": [
      "\u001b[1;31m---------------------------------------------------------------------------\u001b[0m",
      "\u001b[1;31mAttributeError\u001b[0m                            Traceback (most recent call last)",
      "\u001b[1;32m<ipython-input-60-d4202330a6d3>\u001b[0m in \u001b[0;36m<module>\u001b[1;34m()\u001b[0m\n\u001b[0;32m      2\u001b[0m \u001b[0mshares1\u001b[0m  \u001b[1;33m=\u001b[0m \u001b[0mmes1\u001b[0m\u001b[1;33m[\u001b[0m\u001b[1;34m'Shares'\u001b[0m\u001b[1;33m]\u001b[0m \u001b[1;31m#shares primer mes\u001b[0m\u001b[1;33m\u001b[0m\u001b[0m\n\u001b[0;32m      3\u001b[0m \u001b[1;33m\u001b[0m\u001b[0m\n\u001b[1;32m----> 4\u001b[1;33m \u001b[0mprice1\u001b[0m\u001b[1;33m=\u001b[0m\u001b[0mprice1\u001b[0m\u001b[1;33m.\u001b[0m\u001b[0mDataFrame\u001b[0m\u001b[1;33m(\u001b[0m\u001b[1;33m)\u001b[0m\u001b[1;33m\u001b[0m\u001b[0m\n\u001b[0m\u001b[0;32m      5\u001b[0m \u001b[0mShares1\u001b[0m\u001b[1;33m=\u001b[0m\u001b[0mShares1\u001b[0m\u001b[1;33m.\u001b[0m\u001b[0mDataFrame\u001b[0m\u001b[1;33m(\u001b[0m\u001b[1;33m)\u001b[0m\u001b[1;33m\u001b[0m\u001b[0m\n\u001b[0;32m      6\u001b[0m \u001b[1;33m\u001b[0m\u001b[0m\n",
      "\u001b[1;32mC:\\Users\\Ana\\Anaconda2\\lib\\site-packages\\pandas\\core\\generic.pyc\u001b[0m in \u001b[0;36m__getattr__\u001b[1;34m(self, name)\u001b[0m\n\u001b[0;32m   4370\u001b[0m             \u001b[1;32mif\u001b[0m \u001b[0mself\u001b[0m\u001b[1;33m.\u001b[0m\u001b[0m_info_axis\u001b[0m\u001b[1;33m.\u001b[0m\u001b[0m_can_hold_identifiers_and_holds_name\u001b[0m\u001b[1;33m(\u001b[0m\u001b[0mname\u001b[0m\u001b[1;33m)\u001b[0m\u001b[1;33m:\u001b[0m\u001b[1;33m\u001b[0m\u001b[0m\n\u001b[0;32m   4371\u001b[0m                 \u001b[1;32mreturn\u001b[0m \u001b[0mself\u001b[0m\u001b[1;33m[\u001b[0m\u001b[0mname\u001b[0m\u001b[1;33m]\u001b[0m\u001b[1;33m\u001b[0m\u001b[0m\n\u001b[1;32m-> 4372\u001b[1;33m             \u001b[1;32mreturn\u001b[0m \u001b[0mobject\u001b[0m\u001b[1;33m.\u001b[0m\u001b[0m__getattribute__\u001b[0m\u001b[1;33m(\u001b[0m\u001b[0mself\u001b[0m\u001b[1;33m,\u001b[0m \u001b[0mname\u001b[0m\u001b[1;33m)\u001b[0m\u001b[1;33m\u001b[0m\u001b[0m\n\u001b[0m\u001b[0;32m   4373\u001b[0m \u001b[1;33m\u001b[0m\u001b[0m\n\u001b[0;32m   4374\u001b[0m     \u001b[1;32mdef\u001b[0m \u001b[0m__setattr__\u001b[0m\u001b[1;33m(\u001b[0m\u001b[0mself\u001b[0m\u001b[1;33m,\u001b[0m \u001b[0mname\u001b[0m\u001b[1;33m,\u001b[0m \u001b[0mvalue\u001b[0m\u001b[1;33m)\u001b[0m\u001b[1;33m:\u001b[0m\u001b[1;33m\u001b[0m\u001b[0m\n",
      "\u001b[1;31mAttributeError\u001b[0m: 'Series' object has no attribute 'DataFrame'"
     ]
    }
   ],
   "source": [
    "price1  = mes1['Price'] #precios primer mes\n",
    "shares1  = mes1['Shares'] #shares primer mes\n",
    "\n",
    "price1=price1.DataFrame()\n",
    "Shares1=Shares1.DataFrame() \n",
    "\n",
    "for i in price1:\n",
    "    float(i.replace(\",\",\"\"))\n",
    " "
   ]
  },
  {
   "cell_type": "code",
   "execution_count": 15,
   "metadata": {},
   "outputs": [],
   "source": [
    "#extraccion de shares outstanding\n",
    "so1= pd.read_csv('https://raw.githubusercontent.com/anapaurangel/MyST/master/Proyecto%20corregido/mes1.csv')\n",
    "so2= pd.read_csv('https://raw.githubusercontent.com/anapaurangel/MyST/master/Proyecto%20corregido/mes2.csv')\n",
    "so3= pd.read_csv('https://raw.githubusercontent.com/anapaurangel/MyST/master/Proyecto%20corregido/mes3.csv')\n",
    "so4= pd.read_csv('https://raw.githubusercontent.com/anapaurangel/MyST/master/Proyecto%20corregido/mes4.csv')\n",
    "so5= pd.read_csv('https://raw.githubusercontent.com/anapaurangel/MyST/master/Proyecto%20corregido/mes5.csv')\n",
    "so6= pd.read_csv('https://raw.githubusercontent.com/anapaurangel/MyST/master/Proyecto%20corregido/mes6.csv')\n",
    "so7= pd.read_csv('https://raw.githubusercontent.com/anapaurangel/MyST/master/Proyecto%20corregido/mes7.csv')\n",
    "so8= pd.read_csv('https://raw.githubusercontent.com/anapaurangel/MyST/master/Proyecto%20corregido/mes8.csv')\n",
    "so9= pd.read_csv('https://raw.githubusercontent.com/anapaurangel/MyST/master/Proyecto%20corregido/mes9.csv')\n",
    "so10= pd.read_csv('https://raw.githubusercontent.com/anapaurangel/MyST/master/Proyecto%20corregido/mes10.csv')\n",
    "so11= pd.read_csv('https://raw.githubusercontent.com/anapaurangel/MyST/master/Proyecto%20corregido/mes11.csv')\n",
    "so12= pd.read_csv('https://raw.githubusercontent.com/anapaurangel/MyST/master/Proyecto%20corregido/mes12.csv')\n",
    "so13= pd.read_csv('https://raw.githubusercontent.com/anapaurangel/MyST/master/Proyecto%20corregido/mes13.csv')\n",
    "\n",
    "#posición del dato que queremos\n",
    "so1=so1.iloc[3,1]\n",
    "so2=so2.iloc[3,1]\n",
    "so3=so3.iloc[3,1]\n",
    "so4=so4.iloc[3,1]\n",
    "so5=so5.iloc[3,1]\n",
    "so6=so6.iloc[3,1]\n",
    "so7=so7.iloc[3,1]\n",
    "so8=so8.iloc[3,1]\n",
    "so9=so9.iloc[3,1]\n",
    "so10=so10.iloc[3,1]\n",
    "so11=so11.iloc[3,1]\n",
    "so12=so12.iloc[3,1]\n",
    "so13=so13.iloc[3,1]\n",
    "\n",
    "#quitar comas para poder convertir a float\n",
    "so1=so1.replace(',', '')\n",
    "so2=so2.replace(',', '')\n",
    "so3=so3.replace(',', '')\n",
    "so4=so4.replace(',', '')\n",
    "so5=so5.replace(',', '')\n",
    "so6=so6.replace(',', '')\n",
    "so7=so7.replace(',', '')\n",
    "so8=so8.replace(',', '')\n",
    "so9=so9.replace(',', '')\n",
    "so10=so10.replace(',', '')\n",
    "so11=so11.replace(',', '')\n",
    "so12=so12.replace(',', '')\n",
    "so13=so13.replace(',', '')\n",
    "\n",
    "SharesOustandings=[so1,so2,so3,so4,so5,so6,so7,so8,so9,so10,so11,so12,so13]\n",
    "SharesOustandings = np.array(SharesOustandings)\n",
    "\n",
    "#convertir numeros a float\n",
    "so1=float(so1)\n",
    "so2=float(so2)\n",
    "so3=float(so3)\n",
    "so4=float(so4)\n",
    "so5=float(so5)\n",
    "so6=float(so6)\n",
    "so7=float(so7)\n",
    "so8=float(so8)\n",
    "so9=float(so9)\n",
    "so10=float(so10)\n",
    "so11=float(so11)\n",
    "so12=float(so12)\n",
    "so13=float(so13)\n"
   ]
  },
  {
   "cell_type": "markdown",
   "metadata": {},
   "source": [
    "### Extraer datos de quandl"
   ]
  },
  {
   "cell_type": "code",
   "execution_count": 11,
   "metadata": {},
   "outputs": [],
   "source": [
    "\n",
    "quandl.ApiConfig.api_key = \"wzJyeSB_seJSjER5FGSA\" "
   ]
  },
  {
   "cell_type": "code",
   "execution_count": 12,
   "metadata": {},
   "outputs": [
    {
     "data": {
      "text/html": [
       "<div>\n",
       "<style scoped>\n",
       "    .dataframe tbody tr th:only-of-type {\n",
       "        vertical-align: middle;\n",
       "    }\n",
       "\n",
       "    .dataframe tbody tr th {\n",
       "        vertical-align: top;\n",
       "    }\n",
       "\n",
       "    .dataframe thead th {\n",
       "        text-align: right;\n",
       "    }\n",
       "</style>\n",
       "<table border=\"1\" class=\"dataframe\">\n",
       "  <thead>\n",
       "    <tr style=\"text-align: right;\">\n",
       "      <th></th>\n",
       "      <th>ticker</th>\n",
       "      <th>date</th>\n",
       "      <th>close</th>\n",
       "    </tr>\n",
       "    <tr>\n",
       "      <th>None</th>\n",
       "      <th></th>\n",
       "      <th></th>\n",
       "      <th></th>\n",
       "    </tr>\n",
       "  </thead>\n",
       "  <tbody>\n",
       "    <tr>\n",
       "      <th>0</th>\n",
       "      <td>VSAT</td>\n",
       "      <td>2018-03-27</td>\n",
       "      <td>68.30</td>\n",
       "    </tr>\n",
       "    <tr>\n",
       "      <th>1</th>\n",
       "      <td>VSAT</td>\n",
       "      <td>2018-03-26</td>\n",
       "      <td>70.36</td>\n",
       "    </tr>\n",
       "    <tr>\n",
       "      <th>2</th>\n",
       "      <td>VSAT</td>\n",
       "      <td>2018-03-23</td>\n",
       "      <td>69.13</td>\n",
       "    </tr>\n",
       "    <tr>\n",
       "      <th>3</th>\n",
       "      <td>VSAT</td>\n",
       "      <td>2018-03-22</td>\n",
       "      <td>71.09</td>\n",
       "    </tr>\n",
       "    <tr>\n",
       "      <th>4</th>\n",
       "      <td>VSAT</td>\n",
       "      <td>2018-03-21</td>\n",
       "      <td>72.17</td>\n",
       "    </tr>\n",
       "  </tbody>\n",
       "</table>\n",
       "</div>"
      ],
      "text/plain": [
       "     ticker       date  close\n",
       "None                         \n",
       "0      VSAT 2018-03-27  68.30\n",
       "1      VSAT 2018-03-26  70.36\n",
       "2      VSAT 2018-03-23  69.13\n",
       "3      VSAT 2018-03-22  71.09\n",
       "4      VSAT 2018-03-21  72.17"
      ]
     },
     "execution_count": 12,
     "metadata": {},
     "output_type": "execute_result"
    }
   ],
   "source": [
    "d_quandl = quandl.get_table('WIKI/PRICES', ticker = [tickers], qopts = {'columns': ['ticker', 'date', 'close']},\n",
    "                        date = {'gte': '2017-03-01', 'lte': '2018-04-01'}, paginate=True)\n",
    "d_quandl.head()"
   ]
  },
  {
   "cell_type": "code",
   "execution_count": 13,
   "metadata": {},
   "outputs": [
    {
     "ename": "NameError",
     "evalue": "name 'data' is not defined",
     "output_type": "error",
     "traceback": [
      "\u001b[1;31m---------------------------------------------------------------------------\u001b[0m",
      "\u001b[1;31mNameError\u001b[0m                                 Traceback (most recent call last)",
      "\u001b[1;32m<ipython-input-13-cca8cdd6a4a1>\u001b[0m in \u001b[0;36m<module>\u001b[1;34m()\u001b[0m\n\u001b[1;32m----> 1\u001b[1;33m \u001b[0mdaily_data\u001b[0m \u001b[1;33m=\u001b[0m \u001b[0mdata\u001b[0m\u001b[1;33m.\u001b[0m\u001b[0mset_index\u001b[0m\u001b[1;33m(\u001b[0m\u001b[1;34m'date'\u001b[0m\u001b[1;33m)\u001b[0m\u001b[1;33m\u001b[0m\u001b[0m\n\u001b[0m\u001b[0;32m      2\u001b[0m \u001b[0mdaily_data\u001b[0m \u001b[1;33m=\u001b[0m \u001b[0mdaily_data\u001b[0m\u001b[1;33m.\u001b[0m\u001b[0mpivot\u001b[0m\u001b[1;33m(\u001b[0m\u001b[0mcolumns\u001b[0m\u001b[1;33m=\u001b[0m\u001b[1;34m'ticker'\u001b[0m\u001b[1;33m)\u001b[0m\u001b[1;33m\u001b[0m\u001b[0m\n\u001b[0;32m      3\u001b[0m \u001b[0mdaily_data\u001b[0m\u001b[1;33m.\u001b[0m\u001b[0mdropna\u001b[0m\u001b[1;33m(\u001b[0m\u001b[1;33m)\u001b[0m\u001b[1;33m\u001b[0m\u001b[0m\n\u001b[0;32m      4\u001b[0m \u001b[0mdatos\u001b[0m\u001b[1;33m=\u001b[0m\u001b[0mdaily_data\u001b[0m\u001b[1;33m.\u001b[0m\u001b[0mT\u001b[0m\u001b[1;33m\u001b[0m\u001b[0m\n\u001b[0;32m      5\u001b[0m \u001b[0mdatos\u001b[0m\u001b[1;33m.\u001b[0m\u001b[0mrename\u001b[0m\u001b[1;33m(\u001b[0m\u001b[0mindex\u001b[0m\u001b[1;33m=\u001b[0m\u001b[1;33m{\u001b[0m\u001b[1;36m0\u001b[0m\u001b[1;33m:\u001b[0m\u001b[1;34m'Date'\u001b[0m\u001b[1;33m}\u001b[0m\u001b[1;33m,\u001b[0m \u001b[0mcolumns\u001b[0m\u001b[1;33m=\u001b[0m\u001b[1;33m{\u001b[0m\u001b[1;36m1\u001b[0m\u001b[1;33m:\u001b[0m\u001b[1;34m'SM'\u001b[0m\u001b[1;33m}\u001b[0m\u001b[1;33m,\u001b[0m \u001b[0minplace\u001b[0m\u001b[1;33m=\u001b[0m\u001b[0mTrue\u001b[0m\u001b[1;33m)\u001b[0m\u001b[1;33m\u001b[0m\u001b[0m\n",
      "\u001b[1;31mNameError\u001b[0m: name 'data' is not defined"
     ]
    }
   ],
   "source": [
    "daily_data = data.set_index('date')\n",
    "daily_data = daily_data.pivot(columns='ticker')\n",
    "daily_data.dropna()\n",
    "datos=daily_data.T\n",
    "datos.rename(index={0:'Date'}, columns={1:'SM'}, inplace=True)\n",
    "datos.index\n",
    "p=datos.reset_index(level=[0,1])\n",
    "p.head(10)\n"
   ]
  },
  {
   "cell_type": "code",
   "execution_count": 9,
   "metadata": {},
   "outputs": [
    {
     "ename": "AttributeError",
     "evalue": "'tuple' object has no attribute 'set_index'",
     "output_type": "error",
     "traceback": [
      "\u001b[1;31m---------------------------------------------------------------------------\u001b[0m",
      "\u001b[1;31mAttributeError\u001b[0m                            Traceback (most recent call last)",
      "\u001b[1;32m<ipython-input-9-094eeefda5c8>\u001b[0m in \u001b[0;36m<module>\u001b[1;34m\u001b[0m\n\u001b[1;32m----> 1\u001b[1;33m \u001b[0mhistoric_prices\u001b[0m \u001b[1;33m=\u001b[0m \u001b[0mdata\u001b[0m\u001b[1;33m.\u001b[0m\u001b[0mset_index\u001b[0m\u001b[1;33m(\u001b[0m\u001b[1;34m'date'\u001b[0m\u001b[1;33m)\u001b[0m\u001b[1;33m\u001b[0m\u001b[1;33m\u001b[0m\u001b[0m\n\u001b[0m\u001b[0;32m      2\u001b[0m \u001b[0mhistoric_prices\u001b[0m \u001b[1;33m=\u001b[0m \u001b[0mhistoric_prices\u001b[0m\u001b[1;33m.\u001b[0m\u001b[0mpivot\u001b[0m\u001b[1;33m(\u001b[0m\u001b[0mcolumns\u001b[0m\u001b[1;33m=\u001b[0m\u001b[1;34m'ticker'\u001b[0m\u001b[1;33m)\u001b[0m\u001b[1;33m\u001b[0m\u001b[1;33m\u001b[0m\u001b[0m\n\u001b[0;32m      3\u001b[0m \u001b[0mhistoric_prices\u001b[0m\u001b[1;33m\u001b[0m\u001b[1;33m\u001b[0m\u001b[0m\n",
      "\u001b[1;31mAttributeError\u001b[0m: 'tuple' object has no attribute 'set_index'"
     ]
    }
   ],
   "source": [
    "historic_prices = data.set_index('date')\n",
    "historic_prices = historic_prices.pivot(columns='ticker')\n",
    "historic_prices"
   ]
  },
  {
   "cell_type": "code",
   "execution_count": null,
   "metadata": {},
   "outputs": [],
   "source": [
    "historic_prices.columns=test.columns.droplevel(0)"
   ]
  },
  {
   "cell_type": "code",
   "execution_count": null,
   "metadata": {},
   "outputs": [],
   "source": [
    "#ana pau\n",
    "quandl.ApiConfig.api_key = 'wzJyeSB_seJSjER5FGSA'\n",
    "\n",
    "data = quandl.get_table('WIKI/PRICES', qopts = { 'columns': ['ticker', 'date', 'close'] }, \n",
    "                        ticker = [tickers], date = { 'gte': '2017-02-28', 'lte': '2018-02-28' })\n",
    "data (5)\n"
   ]
  }
 ],
 "metadata": {
  "kernelspec": {
   "display_name": "Python 2",
   "language": "python",
   "name": "python2"
  },
  "language_info": {
   "codemirror_mode": {
    "name": "ipython",
    "version": 2
   },
   "file_extension": ".py",
   "mimetype": "text/x-python",
   "name": "python",
   "nbconvert_exporter": "python",
   "pygments_lexer": "ipython2",
   "version": "2.7.15"
  }
 },
 "nbformat": 4,
 "nbformat_minor": 2
}
