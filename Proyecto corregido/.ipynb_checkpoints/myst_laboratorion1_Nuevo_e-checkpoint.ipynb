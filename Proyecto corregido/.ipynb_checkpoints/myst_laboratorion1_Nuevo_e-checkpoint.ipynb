{
 "cells": [
  {
   "cell_type": "markdown",
   "metadata": {},
   "source": [
    "# Reto para laboratorio 1: Administración activa Vs Administración pasiva del capital.\n",
    "\n",
    "<img src=\"https://www.google.com/search?q=iteso+imagenes&sxsrf=ACYBGNRuniJ0XQ3HCBjfq9sHJdF2JP0eAA:1568326542761&source=lnms&tbm=isch&sa=X&ved=0ahUKEwjnjuTTp8zkAhVSgK0KHT5VD-8Q_AUIEigB&biw=1280&bih=612#imgrc=_\">\n",
    "\n",
    "\n",
    "\n",
    "## Equipo E\n",
    "\n",
    "### Integrantes:\n",
    "\n",
    "Ana Paula Rangel Ochoa\n",
    "\n",
    "Paulina Rodriguez Guerrero\n",
    "\n",
    "José Luis Suárez de Alba\n",
    "\n",
    "Diego Velasco Sanchez\n",
    "\n",
    "\n",
    "\n",
    "### Situación:\n",
    "\n",
    "<div class=text-justify>  \n",
    "Acabas de entrar a trabajar a una operadora de fondos de inversión como analista financiero dentro de la mesa de análisis del mercado de renta variable. En la junta trimestral se plantea la posibilidad de crear un fondo propio con exposición al mercado de valores de USA tratando de replicar a los ETFs conocidos como ishares que la empresa BlackRock ofrece.\n",
    "\n",
    "   La idea es replicar un ETF con posiciones en directo. Te han asignado la tarea de hacer un ejercicio simple de replicar la construcción de un portafolio de inversión y un criterio de rebalanceo lo más parecido a un ETF de ishares que tu selecciones. Esto con la finalidad de comparar los resultados de haber rebanceado periódicamente el portafolio, ó, no haberlo hecho y continuar todo un año con las mismas posiciones.\n",
    "   \n",
    "</div>\n",
    "    \n",
    "### Caracteristicas:\n",
    "\n",
    "<div class=text-justify> \n",
    "   Debido a tu formación, te piden que este proceso que construyas sea repetible para cualquier ETF y también incluir 3 medidas de atribución al desempeño, tanto para el caso que el ETF nunca hubiese sido rebalanceado como para los casos donde sí.\n",
    "\n",
    "   En la mesa de análisis están interesados en conocer el proceso que sigues para adquirir, limpiar, dar formato y utilizar los datos, y a pesar que el equipo senior de análisis está compuesto por personal altamente calificado en temas de economía y finanzas, ellos no saben programar por lo que te piden que incluyas el código utilizado, y que sea de manera ordenada y explicando el sentido de las funciones y paqueterías que requeriste.\n",
    "   \n",
    "   * Comparar con 1 año de información: 1.3.17 al 1.3.18.\n",
    "\n",
    "   * Utilizar un ETF de Ishares para el mercado de renta varialbe de USA.\n",
    "\n",
    "   * Entregar un Jupyter Notebook con explicación y comentarios en el código.\n",
    "\n",
    "   * Crear y actualizar continuamente un repositorio en GitHub para el proyecto.\n",
    "</div>\n",
    "    \n",
    "    \n",
    "\n",
    "\n",
    "https://www.quandl.com/search?filters=%5B%22Mutual%20Funds%20%26%20ETFs%22%2C%22Free%22%2C%22United%20States%22%5D"
   ]
  },
  {
   "cell_type": "markdown",
   "metadata": {},
   "source": [
    "## ETF \n",
    "https://www.ishares.com/us/products/239770/\n",
    "\n",
    "<div class=text-justify> \n",
    "Obtener los rendimientos mensuales sacar la desviación estándar para tener la volatilidad de esta es diaria entonces es la desviación de los rendimientos diarios tenemos 12 meses, pero no se modifican ni el primero ni el ultimo con el peso calculamos la varianza desviación de cada mes usando la desviación de los diarios\n",
    "</div>\n",
    "<div class=text-justify> \n",
    "1.\tDescargar los datos mensuales de un año.\n",
    "2.\tRendimientos diarios y la desv estandar y el sharp (tasa libre de riesgo usa, treasury hold).\n",
    "3.\tNet asset value diario es l NAV (el precio diario de tu ETF) este sirve para sacar la volatilidad y ver si hubo picos si no hay está muy tranquilo (rendimientos diarios por los pesos mensuales para sacar el diario) --> de los 13 archivos.\n",
    "4.\tHacer 11 escenarios diferentes para ver cual habría sido la mejor situación.\n",
    "</div>\n",
    "Escenarios\n",
    " * Todo el año con los primeros pesos.\n",
    " * Rebalancear igual que el ETF.\n",
    " * Rebalancear cada mes."
   ]
  },
  {
   "cell_type": "markdown",
   "metadata": {},
   "source": [
    "### Importar librerias"
   ]
  },
  {
   "cell_type": "code",
   "execution_count": 1,
   "metadata": {},
   "outputs": [],
   "source": [
    "#pip install xlrd\n",
    "#pip install xlwt\n",
    "#pip install quandl\n",
    "import quandl\n",
    "import numpy as np\n",
    "import pandas as pd\n",
    "import scipy.stats as stats\n",
    "import matplotlib.pyplot as plt\n",
    "import datetime as dt"
   ]
  },
  {
   "cell_type": "code",
   "execution_count": 3,
   "metadata": {},
   "outputs": [],
   "source": [
    "etf_data=pd.read_csv(\"https://raw.githubusercontent.com/anapaurangel/MyST/master/Proyecto%20corregido/IGN_holdings.csv\",  skiprows = [0,1,2,3,4,5,6,7,8,9]) #descargar datos segundo mes\n",
    "# etf_data.drop(etf_data.index[[-1,-2]])\n",
    "etf=etf_data[:-2]\n",
    "etf\n",
    "# Obtener tickers\n",
    "tickers=etf.Ticker\n"
   ]
  },
  {
   "cell_type": "code",
   "execution_count": 13,
   "metadata": {},
   "outputs": [],
   "source": [
    "#antes\n",
    "quandl.ApiConfig.api_key = 'wzJyeSB_seJSjER5FGSA'\n",
    "data = quandl.get_table('WIKI/PRICES',qopts = { 'columns': ['ticker', 'date','close'] }, ticker = [tickers],\n",
    "                        date = { 'gte': '2017-02-28', 'lte': '2018-02-28' }, \n",
    "                        paginate=True),\n",
    "data=pd.DataFrame(data)"
   ]
  },
  {
   "cell_type": "code",
   "execution_count": 14,
   "metadata": {},
   "outputs": [
    {
     "ename": "KeyError",
     "evalue": "'date'",
     "output_type": "error",
     "traceback": [
      "\u001b[1;31m---------------------------------------------------------------------------\u001b[0m",
      "\u001b[1;31mKeyError\u001b[0m                                  Traceback (most recent call last)",
      "\u001b[1;32m~\\Documents\\anaconda\\lib\\site-packages\\pandas\\core\\indexes\\base.py\u001b[0m in \u001b[0;36mget_loc\u001b[1;34m(self, key, method, tolerance)\u001b[0m\n\u001b[0;32m   2656\u001b[0m             \u001b[1;32mtry\u001b[0m\u001b[1;33m:\u001b[0m\u001b[1;33m\u001b[0m\u001b[1;33m\u001b[0m\u001b[0m\n\u001b[1;32m-> 2657\u001b[1;33m                 \u001b[1;32mreturn\u001b[0m \u001b[0mself\u001b[0m\u001b[1;33m.\u001b[0m\u001b[0m_engine\u001b[0m\u001b[1;33m.\u001b[0m\u001b[0mget_loc\u001b[0m\u001b[1;33m(\u001b[0m\u001b[0mkey\u001b[0m\u001b[1;33m)\u001b[0m\u001b[1;33m\u001b[0m\u001b[1;33m\u001b[0m\u001b[0m\n\u001b[0m\u001b[0;32m   2658\u001b[0m             \u001b[1;32mexcept\u001b[0m \u001b[0mKeyError\u001b[0m\u001b[1;33m:\u001b[0m\u001b[1;33m\u001b[0m\u001b[1;33m\u001b[0m\u001b[0m\n",
      "\u001b[1;32mpandas/_libs/index.pyx\u001b[0m in \u001b[0;36mpandas._libs.index.IndexEngine.get_loc\u001b[1;34m()\u001b[0m\n",
      "\u001b[1;32mpandas/_libs/index.pyx\u001b[0m in \u001b[0;36mpandas._libs.index.IndexEngine.get_loc\u001b[1;34m()\u001b[0m\n",
      "\u001b[1;32mpandas/_libs/index_class_helper.pxi\u001b[0m in \u001b[0;36mpandas._libs.index.Int64Engine._check_type\u001b[1;34m()\u001b[0m\n",
      "\u001b[1;31mKeyError\u001b[0m: 'date'",
      "\nDuring handling of the above exception, another exception occurred:\n",
      "\u001b[1;31mKeyError\u001b[0m                                  Traceback (most recent call last)",
      "\u001b[1;32m<ipython-input-14-cca8cdd6a4a1>\u001b[0m in \u001b[0;36m<module>\u001b[1;34m\u001b[0m\n\u001b[1;32m----> 1\u001b[1;33m \u001b[0mdaily_data\u001b[0m \u001b[1;33m=\u001b[0m \u001b[0mdata\u001b[0m\u001b[1;33m.\u001b[0m\u001b[0mset_index\u001b[0m\u001b[1;33m(\u001b[0m\u001b[1;34m'date'\u001b[0m\u001b[1;33m)\u001b[0m\u001b[1;33m\u001b[0m\u001b[1;33m\u001b[0m\u001b[0m\n\u001b[0m\u001b[0;32m      2\u001b[0m \u001b[0mdaily_data\u001b[0m \u001b[1;33m=\u001b[0m \u001b[0mdaily_data\u001b[0m\u001b[1;33m.\u001b[0m\u001b[0mpivot\u001b[0m\u001b[1;33m(\u001b[0m\u001b[0mcolumns\u001b[0m\u001b[1;33m=\u001b[0m\u001b[1;34m'ticker'\u001b[0m\u001b[1;33m)\u001b[0m\u001b[1;33m\u001b[0m\u001b[1;33m\u001b[0m\u001b[0m\n\u001b[0;32m      3\u001b[0m \u001b[0mdaily_data\u001b[0m\u001b[1;33m.\u001b[0m\u001b[0mdropna\u001b[0m\u001b[1;33m(\u001b[0m\u001b[1;33m)\u001b[0m\u001b[1;33m\u001b[0m\u001b[1;33m\u001b[0m\u001b[0m\n\u001b[0;32m      4\u001b[0m \u001b[0mdatos\u001b[0m\u001b[1;33m=\u001b[0m\u001b[0mdaily_data\u001b[0m\u001b[1;33m.\u001b[0m\u001b[0mT\u001b[0m\u001b[1;33m\u001b[0m\u001b[1;33m\u001b[0m\u001b[0m\n\u001b[0;32m      5\u001b[0m \u001b[0mdatos\u001b[0m\u001b[1;33m.\u001b[0m\u001b[0mrename\u001b[0m\u001b[1;33m(\u001b[0m\u001b[0mindex\u001b[0m\u001b[1;33m=\u001b[0m\u001b[1;33m{\u001b[0m\u001b[1;36m0\u001b[0m\u001b[1;33m:\u001b[0m\u001b[1;34m'Date'\u001b[0m\u001b[1;33m}\u001b[0m\u001b[1;33m,\u001b[0m \u001b[0mcolumns\u001b[0m\u001b[1;33m=\u001b[0m\u001b[1;33m{\u001b[0m\u001b[1;36m1\u001b[0m\u001b[1;33m:\u001b[0m\u001b[1;34m'SM'\u001b[0m\u001b[1;33m}\u001b[0m\u001b[1;33m,\u001b[0m \u001b[0minplace\u001b[0m\u001b[1;33m=\u001b[0m\u001b[1;32mTrue\u001b[0m\u001b[1;33m)\u001b[0m\u001b[1;33m\u001b[0m\u001b[1;33m\u001b[0m\u001b[0m\n",
      "\u001b[1;32m~\\Documents\\anaconda\\lib\\site-packages\\pandas\\core\\frame.py\u001b[0m in \u001b[0;36mset_index\u001b[1;34m(self, keys, drop, append, inplace, verify_integrity)\u001b[0m\n\u001b[0;32m   4176\u001b[0m                 \u001b[0mnames\u001b[0m\u001b[1;33m.\u001b[0m\u001b[0mappend\u001b[0m\u001b[1;33m(\u001b[0m\u001b[1;32mNone\u001b[0m\u001b[1;33m)\u001b[0m\u001b[1;33m\u001b[0m\u001b[1;33m\u001b[0m\u001b[0m\n\u001b[0;32m   4177\u001b[0m             \u001b[1;32melse\u001b[0m\u001b[1;33m:\u001b[0m\u001b[1;33m\u001b[0m\u001b[1;33m\u001b[0m\u001b[0m\n\u001b[1;32m-> 4178\u001b[1;33m                 \u001b[0mlevel\u001b[0m \u001b[1;33m=\u001b[0m \u001b[0mframe\u001b[0m\u001b[1;33m[\u001b[0m\u001b[0mcol\u001b[0m\u001b[1;33m]\u001b[0m\u001b[1;33m.\u001b[0m\u001b[0m_values\u001b[0m\u001b[1;33m\u001b[0m\u001b[1;33m\u001b[0m\u001b[0m\n\u001b[0m\u001b[0;32m   4179\u001b[0m                 \u001b[0mnames\u001b[0m\u001b[1;33m.\u001b[0m\u001b[0mappend\u001b[0m\u001b[1;33m(\u001b[0m\u001b[0mcol\u001b[0m\u001b[1;33m)\u001b[0m\u001b[1;33m\u001b[0m\u001b[1;33m\u001b[0m\u001b[0m\n\u001b[0;32m   4180\u001b[0m                 \u001b[1;32mif\u001b[0m \u001b[0mdrop\u001b[0m\u001b[1;33m:\u001b[0m\u001b[1;33m\u001b[0m\u001b[1;33m\u001b[0m\u001b[0m\n",
      "\u001b[1;32m~\\Documents\\anaconda\\lib\\site-packages\\pandas\\core\\frame.py\u001b[0m in \u001b[0;36m__getitem__\u001b[1;34m(self, key)\u001b[0m\n\u001b[0;32m   2925\u001b[0m             \u001b[1;32mif\u001b[0m \u001b[0mself\u001b[0m\u001b[1;33m.\u001b[0m\u001b[0mcolumns\u001b[0m\u001b[1;33m.\u001b[0m\u001b[0mnlevels\u001b[0m \u001b[1;33m>\u001b[0m \u001b[1;36m1\u001b[0m\u001b[1;33m:\u001b[0m\u001b[1;33m\u001b[0m\u001b[1;33m\u001b[0m\u001b[0m\n\u001b[0;32m   2926\u001b[0m                 \u001b[1;32mreturn\u001b[0m \u001b[0mself\u001b[0m\u001b[1;33m.\u001b[0m\u001b[0m_getitem_multilevel\u001b[0m\u001b[1;33m(\u001b[0m\u001b[0mkey\u001b[0m\u001b[1;33m)\u001b[0m\u001b[1;33m\u001b[0m\u001b[1;33m\u001b[0m\u001b[0m\n\u001b[1;32m-> 2927\u001b[1;33m             \u001b[0mindexer\u001b[0m \u001b[1;33m=\u001b[0m \u001b[0mself\u001b[0m\u001b[1;33m.\u001b[0m\u001b[0mcolumns\u001b[0m\u001b[1;33m.\u001b[0m\u001b[0mget_loc\u001b[0m\u001b[1;33m(\u001b[0m\u001b[0mkey\u001b[0m\u001b[1;33m)\u001b[0m\u001b[1;33m\u001b[0m\u001b[1;33m\u001b[0m\u001b[0m\n\u001b[0m\u001b[0;32m   2928\u001b[0m             \u001b[1;32mif\u001b[0m \u001b[0mis_integer\u001b[0m\u001b[1;33m(\u001b[0m\u001b[0mindexer\u001b[0m\u001b[1;33m)\u001b[0m\u001b[1;33m:\u001b[0m\u001b[1;33m\u001b[0m\u001b[1;33m\u001b[0m\u001b[0m\n\u001b[0;32m   2929\u001b[0m                 \u001b[0mindexer\u001b[0m \u001b[1;33m=\u001b[0m \u001b[1;33m[\u001b[0m\u001b[0mindexer\u001b[0m\u001b[1;33m]\u001b[0m\u001b[1;33m\u001b[0m\u001b[1;33m\u001b[0m\u001b[0m\n",
      "\u001b[1;32m~\\Documents\\anaconda\\lib\\site-packages\\pandas\\core\\indexes\\base.py\u001b[0m in \u001b[0;36mget_loc\u001b[1;34m(self, key, method, tolerance)\u001b[0m\n\u001b[0;32m   2657\u001b[0m                 \u001b[1;32mreturn\u001b[0m \u001b[0mself\u001b[0m\u001b[1;33m.\u001b[0m\u001b[0m_engine\u001b[0m\u001b[1;33m.\u001b[0m\u001b[0mget_loc\u001b[0m\u001b[1;33m(\u001b[0m\u001b[0mkey\u001b[0m\u001b[1;33m)\u001b[0m\u001b[1;33m\u001b[0m\u001b[1;33m\u001b[0m\u001b[0m\n\u001b[0;32m   2658\u001b[0m             \u001b[1;32mexcept\u001b[0m \u001b[0mKeyError\u001b[0m\u001b[1;33m:\u001b[0m\u001b[1;33m\u001b[0m\u001b[1;33m\u001b[0m\u001b[0m\n\u001b[1;32m-> 2659\u001b[1;33m                 \u001b[1;32mreturn\u001b[0m \u001b[0mself\u001b[0m\u001b[1;33m.\u001b[0m\u001b[0m_engine\u001b[0m\u001b[1;33m.\u001b[0m\u001b[0mget_loc\u001b[0m\u001b[1;33m(\u001b[0m\u001b[0mself\u001b[0m\u001b[1;33m.\u001b[0m\u001b[0m_maybe_cast_indexer\u001b[0m\u001b[1;33m(\u001b[0m\u001b[0mkey\u001b[0m\u001b[1;33m)\u001b[0m\u001b[1;33m)\u001b[0m\u001b[1;33m\u001b[0m\u001b[1;33m\u001b[0m\u001b[0m\n\u001b[0m\u001b[0;32m   2660\u001b[0m         \u001b[0mindexer\u001b[0m \u001b[1;33m=\u001b[0m \u001b[0mself\u001b[0m\u001b[1;33m.\u001b[0m\u001b[0mget_indexer\u001b[0m\u001b[1;33m(\u001b[0m\u001b[1;33m[\u001b[0m\u001b[0mkey\u001b[0m\u001b[1;33m]\u001b[0m\u001b[1;33m,\u001b[0m \u001b[0mmethod\u001b[0m\u001b[1;33m=\u001b[0m\u001b[0mmethod\u001b[0m\u001b[1;33m,\u001b[0m \u001b[0mtolerance\u001b[0m\u001b[1;33m=\u001b[0m\u001b[0mtolerance\u001b[0m\u001b[1;33m)\u001b[0m\u001b[1;33m\u001b[0m\u001b[1;33m\u001b[0m\u001b[0m\n\u001b[0;32m   2661\u001b[0m         \u001b[1;32mif\u001b[0m \u001b[0mindexer\u001b[0m\u001b[1;33m.\u001b[0m\u001b[0mndim\u001b[0m \u001b[1;33m>\u001b[0m \u001b[1;36m1\u001b[0m \u001b[1;32mor\u001b[0m \u001b[0mindexer\u001b[0m\u001b[1;33m.\u001b[0m\u001b[0msize\u001b[0m \u001b[1;33m>\u001b[0m \u001b[1;36m1\u001b[0m\u001b[1;33m:\u001b[0m\u001b[1;33m\u001b[0m\u001b[1;33m\u001b[0m\u001b[0m\n",
      "\u001b[1;32mpandas/_libs/index.pyx\u001b[0m in \u001b[0;36mpandas._libs.index.IndexEngine.get_loc\u001b[1;34m()\u001b[0m\n",
      "\u001b[1;32mpandas/_libs/index.pyx\u001b[0m in \u001b[0;36mpandas._libs.index.IndexEngine.get_loc\u001b[1;34m()\u001b[0m\n",
      "\u001b[1;32mpandas/_libs/index_class_helper.pxi\u001b[0m in \u001b[0;36mpandas._libs.index.Int64Engine._check_type\u001b[1;34m()\u001b[0m\n",
      "\u001b[1;31mKeyError\u001b[0m: 'date'"
     ]
    }
   ],
   "source": [
    "daily_data = data.set_index('date')\n",
    "daily_data = daily_data.pivot(columns='ticker')\n",
    "daily_data.dropna()\n",
    "datos=daily_data.T\n",
    "datos.rename(index={0:'Date'}, columns={1:'SM'}, inplace=True)\n",
    "datos.index\n",
    "p=datos.reset_index(level=[0,1])\n",
    "p.head(10)\n"
   ]
  },
  {
   "cell_type": "code",
   "execution_count": 9,
   "metadata": {},
   "outputs": [
    {
     "ename": "AttributeError",
     "evalue": "'tuple' object has no attribute 'set_index'",
     "output_type": "error",
     "traceback": [
      "\u001b[1;31m---------------------------------------------------------------------------\u001b[0m",
      "\u001b[1;31mAttributeError\u001b[0m                            Traceback (most recent call last)",
      "\u001b[1;32m<ipython-input-9-094eeefda5c8>\u001b[0m in \u001b[0;36m<module>\u001b[1;34m\u001b[0m\n\u001b[1;32m----> 1\u001b[1;33m \u001b[0mhistoric_prices\u001b[0m \u001b[1;33m=\u001b[0m \u001b[0mdata\u001b[0m\u001b[1;33m.\u001b[0m\u001b[0mset_index\u001b[0m\u001b[1;33m(\u001b[0m\u001b[1;34m'date'\u001b[0m\u001b[1;33m)\u001b[0m\u001b[1;33m\u001b[0m\u001b[1;33m\u001b[0m\u001b[0m\n\u001b[0m\u001b[0;32m      2\u001b[0m \u001b[0mhistoric_prices\u001b[0m \u001b[1;33m=\u001b[0m \u001b[0mhistoric_prices\u001b[0m\u001b[1;33m.\u001b[0m\u001b[0mpivot\u001b[0m\u001b[1;33m(\u001b[0m\u001b[0mcolumns\u001b[0m\u001b[1;33m=\u001b[0m\u001b[1;34m'ticker'\u001b[0m\u001b[1;33m)\u001b[0m\u001b[1;33m\u001b[0m\u001b[1;33m\u001b[0m\u001b[0m\n\u001b[0;32m      3\u001b[0m \u001b[0mhistoric_prices\u001b[0m\u001b[1;33m\u001b[0m\u001b[1;33m\u001b[0m\u001b[0m\n",
      "\u001b[1;31mAttributeError\u001b[0m: 'tuple' object has no attribute 'set_index'"
     ]
    }
   ],
   "source": [
    "historic_prices = data.set_index('date')\n",
    "historic_prices = historic_prices.pivot(columns='ticker')\n",
    "historic_prices"
   ]
  },
  {
   "cell_type": "code",
   "execution_count": null,
   "metadata": {},
   "outputs": [],
   "source": [
    "historic_prices.columns=test.columns.droplevel(0)"
   ]
  },
  {
   "cell_type": "code",
   "execution_count": 10,
   "metadata": {},
   "outputs": [],
   "source": [
    "#extraccion de los 13 meses archivos\n",
    "mes1    = pd.read_csv('https://raw.githubusercontent.com/anapaurangel/MyST/master/Proyecto%20corregido/mes1.csv',\n",
    "                   skiprows = [0,1,2,3,4,5,6,7,8,9]) #descargar datos primer mes\n",
    "mes2    = pd.read_csv('https://raw.githubusercontent.com/anapaurangel/MyST/master/Proyecto%20corregido/mes2.csv',\n",
    "                   skiprows = [0,1,2,3,4,5,6,7,8,9]) #descargar datos primer mes\n",
    "mes3    = pd.read_csv('https://raw.githubusercontent.com/anapaurangel/MyST/master/Proyecto%20corregido/mes3.csv',\n",
    "                   skiprows = [0,1,2,3,4,5,6,7,8,9]) #descargar datos primer mes\n",
    "mes4    = pd.read_csv('https://raw.githubusercontent.com/anapaurangel/MyST/master/Proyecto%20corregido/mes4.csv',\n",
    "                   skiprows = [0,1,2,3,4,5,6,7,8,9]) #descargar datos primer mes\n",
    "mes5    = pd.read_csv('https://raw.githubusercontent.com/anapaurangel/MyST/master/Proyecto%20corregido/mes5.csv',\n",
    "                   skiprows = [0,1,2,3,4,5,6,7,8,9]) #descargar datos primer mes\n",
    "mes6    = pd.read_csv('https://raw.githubusercontent.com/anapaurangel/MyST/master/Proyecto%20corregido/mes6.csv',\n",
    "                   skiprows = [0,1,2,3,4,5,6,7,8,9]) #descargar datos primer mes\n",
    "mes7    = pd.read_csv('https://raw.githubusercontent.com/anapaurangel/MyST/master/Proyecto%20corregido/mes7.csv',\n",
    "                   skiprows = [0,1,2,3,4,5,6,7,8,9]) #descargar datos primer mes\n",
    "mes8    = pd.read_csv('https://raw.githubusercontent.com/anapaurangel/MyST/master/Proyecto%20corregido/mes8.csv',\n",
    "                   skiprows = [0,1,2,3,4,5,6,7,8,9]) #descargar datos primer mes\n",
    "mes9    = pd.read_csv('https://raw.githubusercontent.com/anapaurangel/MyST/master/Proyecto%20corregido/mes9.csv',\n",
    "                   skiprows = [0,1,2,3,4,5,6,7,8,9]) #descargar datos primer mes\n",
    "mes10    = pd.read_csv('https://raw.githubusercontent.com/anapaurangel/MyST/master/Proyecto%20corregido/mes10.csv',\n",
    "                   skiprows = [0,1,2,3,4,5,6,7,8,9]) #descargar datos primer mes\n",
    "mes11    = pd.read_csv('https://raw.githubusercontent.com/anapaurangel/MyST/master/Proyecto%20corregido/mes11.csv',\n",
    "                   skiprows = [0,1,2,3,4,5,6,7,8,9]) #descargar datos primer mes\n",
    "mes12    = pd.read_csv('https://raw.githubusercontent.com/anapaurangel/MyST/master/Proyecto%20corregido/mes12.csv',\n",
    "                   skiprows = [0,1,2,3,4,5,6,7,8,9]) #descargar datos primer mes\n",
    "mes13    = pd.read_csv('https://raw.githubusercontent.com/anapaurangel/MyST/master/Proyecto%20corregido/mes13.csv',\n",
    "                   skiprows = [0,1,2,3,4,5,6,7,8,9]) #descargar datos primer mes"
   ]
  },
  {
   "cell_type": "code",
   "execution_count": 11,
   "metadata": {},
   "outputs": [],
   "source": [
    "#extraccion de shares outstanding\n",
    "\n",
    "so1=mes1.iloc[3,1]\n",
    "so2= mes2.iloc[3,1]\n",
    "so3= mes3.iloc[3,1]\n",
    "so4= mes4.iloc[3,1]\n",
    "so5= mes5.iloc[3,1]\n",
    "so6= mes6.iloc[3,1]\n",
    "so7= mes7.iloc[3,1]\n",
    "so8= mes8.iloc[3,1]\n",
    "so9= mes9.iloc[3,1]\n",
    "so10= mes10.iloc[3,1]\n",
    "so11= mes11.iloc[3,1]\n",
    "so12= mes12.iloc[3,1]\n",
    "so13= mes13.iloc[3,1]"
   ]
  },
  {
   "cell_type": "code",
   "execution_count": null,
   "metadata": {},
   "outputs": [],
   "source": [
    "#ana pau\n",
    "quandl.ApiConfig.api_key = 'wzJyeSB_seJSjER5FGSA'\n",
    "\n",
    "data = quandl.get_table('WIKI/PRICES', qopts = { 'columns': ['ticker', 'date', 'close'] }, \n",
    "                        ticker = [tickers], date = { 'gte': '2017-02-28', 'lte': '2018-02-28' })\n",
    "data (5)\n"
   ]
  }
 ],
 "metadata": {
  "kernelspec": {
   "display_name": "Python 3",
   "language": "python",
   "name": "python3"
  },
  "language_info": {
   "codemirror_mode": {
    "name": "ipython",
    "version": 3
   },
   "file_extension": ".py",
   "mimetype": "text/x-python",
   "name": "python",
   "nbconvert_exporter": "python",
   "pygments_lexer": "ipython3",
   "version": "3.7.3"
  }
 },
 "nbformat": 4,
 "nbformat_minor": 2
}
