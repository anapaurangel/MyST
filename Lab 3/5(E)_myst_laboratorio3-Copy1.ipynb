{
 "cells": [
  {
   "cell_type": "markdown",
   "metadata": {},
   "source": [
    "<img style=\"float: right; margin: 0px 0px 15px 15px;\" src=\"https://www.carrerasenlinea.mx/logos/original/logo-instituto-tecnologico-y-de-estudios-superiores-de-occidente.png\" width=\"150px\" height=\"100px\" />\n",
    "\n",
    "# Laboratorio 3: Behavioral Economics en Trading.\n",
    "\n",
    "\n",
    "- El propósito: Que utilices la información histórica de la cuenta de trading manual y, mediante la formulación y programación de 3 \"Sesgos cognitivos\", realices una evaluación del desempeño de la cuenta utilizando el marco de \"Behavioral economics\". Con la finalidad de inferir si al momento de tomar las decisiones que se tomaron en esa cuenta, se estuvo incurriendo en esos \"Sesgos cognitivos\" y su impacto en el resultado final.\n",
    "\n",
    "\n",
    "Equipo 5:\n",
    "\n",
    "* Luis Ontaneda \n",
    "* Alejandro Preciado\n",
    "* José Antonio Quintero\n",
    "* Ana Paula Rangel\n"
   ]
  },
  {
   "cell_type": "markdown",
   "metadata": {},
   "source": [
    "## Sesgo cognitivo elegido: Overconfidence"
   ]
  },
  {
   "cell_type": "markdown",
   "metadata": {},
   "source": [
    "Los sesgos cognitivos se basan en diferencias a la hora de interpretar la información.\n",
    "\n",
    "Este sesgo consiste en la creer tener mas información de la seguridad con la que se toma una decisión, basada en una decisión propia del pasado. Esto pasa por que lleva a creer que tenemos más información que el resto para la toma de decisiones, lo que lleva a pensar que la probabilidad de fracaso es menor a la real.\n",
    "\n",
    "En el ambito financiero una persona puede llegar a sobreestimar las ganancias esperadas.\n",
    "\n",
    "Ejemplo genérico: \n",
    "\n",
    "    •\tMartingala\n",
    "\n",
    "Aplicación a trading:\n",
    "\n",
    "    •\tRepetir posiciones en mayor cantidad \n",
    "\n"
   ]
  },
  {
   "cell_type": "markdown",
   "metadata": {},
   "source": [
    "## Pseudocódigo\n"
   ]
  },
  {
   "cell_type": "markdown",
   "metadata": {},
   "source": [
    "El objetivo del proyecto es identificar cuantas veces incurrio al sesgo de sobre confianza, en que semana del año incurrio y durante todo el periodo de transacciones.\n",
    "\n",
    "Pasos a seguir:\n",
    "\n",
    "1. Leer el archivo de datos.\n",
    "2. Hacer limpieza de datos.\n",
    "3. Cambiar las fechas de formato.\n",
    "4. Convertir los datos a numéricos.\n",
    "1. Agrupar por semanas las transacciones.\n",
    "2. Observar en cuales transacciones tuvo retornos positivos.\n",
    "3. Observar en cuales de ellos se repitió una orden, con el mismo instrumento, pero con mayor volumen.\n",
    "4. Si ambas condiciones se cumplen, el sujeto tuvo sobre confianza en sus posisciones anteriores.\n",
    "5. Se hace un conteo del número de veces que el sujeto incurrió en sobreconfianza, de manera semanal."
   ]
  },
  {
   "cell_type": "code",
   "execution_count": 13,
   "metadata": {},
   "outputs": [],
   "source": [
    "#se importan las funciones\n",
    "import f_datosent as f_datosent\n",
    "import f_bf_overconfidence as f_bf_overconfidence"
   ]
  },
  {
   "cell_type": "code",
   "execution_count": 14,
   "metadata": {},
   "outputs": [],
   "source": [
    "f_datosent.f_datosent('archivo_tradeview_2.xlsx').get(\"datos\")"
   ]
  },
  {
   "cell_type": "code",
   "execution_count": 15,
   "metadata": {
    "scrolled": true
   },
   "outputs": [
    {
     "ename": "NameError",
     "evalue": "name 'f_datosent' is not defined",
     "output_type": "error",
     "traceback": [
      "\u001b[1;31m---------------------------------------------------------------------------\u001b[0m",
      "\u001b[1;31mNameError\u001b[0m                                 Traceback (most recent call last)",
      "\u001b[1;32m<ipython-input-15-69f51ada83f8>\u001b[0m in \u001b[0;36m<module>\u001b[1;34m\u001b[0m\n\u001b[1;32m----> 1\u001b[1;33m \u001b[0mf_bf_overconfidence\u001b[0m\u001b[1;33m.\u001b[0m\u001b[0mf_bf_overconfidence\u001b[0m\u001b[1;33m(\u001b[0m\u001b[1;34m'archivo_tradeview_2.xlsx'\u001b[0m\u001b[1;33m)\u001b[0m\u001b[1;33m.\u001b[0m\u001b[0mget\u001b[0m\u001b[1;33m(\u001b[0m\u001b[1;34m\"grafica\"\u001b[0m\u001b[1;33m)\u001b[0m\u001b[1;33m\u001b[0m\u001b[1;33m\u001b[0m\u001b[0m\n\u001b[0m",
      "\u001b[1;32m~\\Documents\\MyST\\Lab 3\\f_bf_overconfidence.py\u001b[0m in \u001b[0;36mf_bf_overconfidence\u001b[1;34m(file)\u001b[0m\n\u001b[0;32m     25\u001b[0m     \"\"\"\n\u001b[0;32m     26\u001b[0m \u001b[1;33m\u001b[0m\u001b[0m\n\u001b[1;32m---> 27\u001b[1;33m \u001b[1;33m\u001b[0m\u001b[0m\n\u001b[0m\u001b[0;32m     28\u001b[0m     \u001b[0mdf\u001b[0m\u001b[1;33m=\u001b[0m\u001b[0mf_datosent\u001b[0m\u001b[1;33m.\u001b[0m\u001b[0mf_datosent\u001b[0m\u001b[1;33m(\u001b[0m\u001b[0mdf_datos\u001b[0m\u001b[1;33m)\u001b[0m \u001b[1;31m#archivo\u001b[0m\u001b[1;33m\u001b[0m\u001b[1;33m\u001b[0m\u001b[0m\n\u001b[0;32m     29\u001b[0m     \u001b[0mfile_type\u001b[0m \u001b[1;33m=\u001b[0m \u001b[0mdf_datos\u001b[0m\u001b[1;33m[\u001b[0m\u001b[1;33m-\u001b[0m\u001b[1;36m4\u001b[0m\u001b[1;33m:\u001b[0m\u001b[1;33m]\u001b[0m\u001b[1;33m\u001b[0m\u001b[1;33m\u001b[0m\u001b[0m\n",
      "\u001b[1;31mNameError\u001b[0m: name 'f_datosent' is not defined"
     ]
    }
   ],
   "source": [
    "f_bf_overconfidence.f_bf_overconfidence('archivo_tradeview_2.xlsx').get(\"grafica\")"
   ]
  },
  {
   "cell_type": "code",
   "execution_count": null,
   "metadata": {},
   "outputs": [],
   "source": [
    "f_bf_overconfidence(\"archivo_tradeview_2.xlsx\").get(\"explicacion\")"
   ]
  },
  {
   "cell_type": "code",
   "execution_count": null,
   "metadata": {},
   "outputs": [],
   "source": [
    "f_bf_overconfidence(\"archivo_tradeview_2.xlsx\").get(\"escala\")"
   ]
  },
  {
   "cell_type": "code",
   "execution_count": null,
   "metadata": {},
   "outputs": [],
   "source": []
  }
 ],
 "metadata": {
  "kernelspec": {
   "display_name": "Python 3",
   "language": "python",
   "name": "python3"
  },
  "language_info": {
   "codemirror_mode": {
    "name": "ipython",
    "version": 3
   },
   "file_extension": ".py",
   "mimetype": "text/x-python",
   "name": "python",
   "nbconvert_exporter": "python",
   "pygments_lexer": "ipython3",
   "version": "3.7.1"
  }
 },
 "nbformat": 4,
 "nbformat_minor": 2
}
