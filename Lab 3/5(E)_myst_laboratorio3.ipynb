{
 "cells": [
  {
   "cell_type": "markdown",
   "metadata": {},
   "source": [
    "<img style=\"float: right; margin: 0px 0px 15px 15px;\" src=\"https://www.carrerasenlinea.mx/logos/original/logo-instituto-tecnologico-y-de-estudios-superiores-de-occidente.png\" width=\"150px\" height=\"100px\" />\n",
    "\n",
    "# Laboratorio 3: Behavioral Economics en Trading.\n",
    "\n",
    "\n",
    "- El propósito: Que utilices la información histórica de la cuenta de trading manual y, mediante la formulación y programación de 3 \"Sesgos cognitivos\", realices una evaluación del desempeño de la cuenta utilizando el marco de \"Behavioral economics\". Con la finalidad de inferir si al momento de tomar las decisiones que se tomaron en esa cuenta, se estuvo incurriendo en esos \"Sesgos cognitivos\" y su impacto en el resultado final.\n",
    "\n",
    "\n",
    "Equipo 5:\n",
    "\n",
    "* Luis Ontaneda \n",
    "* Alejandro Preciado\n",
    "* Jose Antonio Quintero\n",
    "* Ana Paula Rangel\n"
   ]
  },
  {
   "cell_type": "markdown",
   "metadata": {},
   "source": [
    "## Sesgo cognitivo elegido: Overconfidence"
   ]
  },
  {
   "cell_type": "markdown",
   "metadata": {},
   "source": [
    "Los sesgos cognitivos se basan en diferencias a la hora de interpretar la información.\n",
    "\n",
    "Este sesgo consiste en la creer tener mas información de la seguridad con la que se toma una decisión, basada en una decisión propia del pasado. Esto pasa por que lleva a creer que tenemos más información que el resto para la toma de decisiones, lo que lleva a pensar que la probabilidad de fracaso es menor a la real.\n",
    "\n",
    "En el ambito financiero una persona puede llegar a sobreestimar las ganancias esperadas.\n",
    "\n",
    "Ejemplo genérico: \n",
    "\n",
    "    •\tMartingala\n",
    "\n",
    "Aplicación a trading:\n",
    "\n",
    "    •\tRepetir posiciones en mayor cantidad \n",
    "\n"
   ]
  },
  {
   "cell_type": "markdown",
   "metadata": {},
   "source": [
    "## Pseudocodigo\n"
   ]
  },
  {
   "cell_type": "markdown",
   "metadata": {},
   "source": [
    "El objetivo del proyecto es identificar cuantas veces incurrio al sesgo de sobre confianza, en que semana del año incurrio y durante todo el periodo de transacciones. \n",
    "Lo primero fue agrupar por semanas las transacciones,  observar en cuales transacciones tuvo retornos positivos, y de ahi en aquellos que tuvieron dichos retornos, observar si se repitio una orden en el mismo instrumento pero con mayor volumen, esto indicaria que el sujeto tuvo sobreconfianza por haber obtenido rendimientos positivos."
   ]
  },
  {
   "cell_type": "code",
   "execution_count": 2,
   "metadata": {
    "collapsed": true
   },
   "outputs": [],
   "source": [
    "#se importan las librerias\n",
    "import pandas as pd\n",
    "import numpy as np\n",
    "import json #leer el archivo\n",
    "from datetime import datetime #Para separar las fechas por semanas \n",
    "import pandas as pd\n",
    "import matplotlib.pyplot as plt #para las graficas\n",
    "import matplotlib\n",
    "import plotly.express as px\n",
    "import plotly.graph_objs as go\n"
   ]
  },
  {
   "cell_type": "code",
   "execution_count": 3,
   "metadata": {
    "collapsed": true
   },
   "outputs": [],
   "source": [
    "\n",
    "def f_datosent(P0_archivo):\n",
    "    \"\"\"\n",
    "    :param p0_archivo: archivo de entrada\n",
    "    :return resultado\n",
    "    \n",
    "    debbuging\n",
    "    p0_archivo = 'archivo_tradeview_2.xlsx'\n",
    "    \n",
    "    \"\"\"\n",
    "    import pandas as pd\n",
    "    import numpy as np\n",
    "    import json\n",
    "    \n",
    "    file_type = P0_archivo[-4:]\n",
    "    # Opciones para visualizar data frames en consola\n",
    "    pd.set_option('display.max_rows',5000)\n",
    "    pd.set_option('display.max_columns',500)\n",
    "    pd.set_option('display.width',1000)\n",
    "    \n",
    "    # Ingreso de datos de entrada: Leer archivo JSON\n",
    "    archivo = P0_archivo\n",
    "    \n",
    "    if file_type == 'json':\n",
    "        with open(archivo, encoding='utf-8-sig') as json_file:\n",
    "            datos_2 = json.load(json_file)['data']\n",
    "            \n",
    "        # Seleccionar la seccion de 'closedTransactions' que es la de interes\n",
    "        df_datos = pd.DataFrame(datos_2['closedTransactions']['list'])\n",
    "        \n",
    "        # Seleccionar solo los renglones de operaciones\n",
    "        df_datos = df_datos[(df_datos['type'] == 'buy') | (df_datos['type'] == 'sell') | (df_datos['type'] == 's/l') |\n",
    "                (df_datos['type'] == 't/p')]\n",
    "        \n",
    "        # Resetear index para tener todos los numeros de indice completos\n",
    "        df_datos = df_datos.reset_index()\n",
    "        \n",
    "        # Eliminar columnas 'info' e 'index'\n",
    "        df_datos = df_datos.drop(['info', 'index'], 1)\n",
    "        \n",
    "        # Renombrar columnas\n",
    "        df_datos.rename(columns = {'SL': 'sl', 'TP':'tp', 'price':'openPrice', 'price2':'closePrice', 'item':'Instrument'},\n",
    "                        inplace=True)\n",
    "        return df_datos\n",
    "    elif file_type == 'xlsx':\n",
    "        df_datos = pd.read_excel(archivo, sheet_name = 'Hoja1', col_header=0)\n",
    "        return df_datos"
   ]
  },
  {
   "cell_type": "code",
   "execution_count": 4,
   "metadata": {
    "collapsed": true
   },
   "outputs": [],
   "source": [
    "#import untitled1\n",
    "#f_datosent(P0_archivo=\"archivo_tradeview_0.json\")"
   ]
  },
  {
   "cell_type": "code",
   "execution_count": 24,
   "metadata": {
    "collapsed": true
   },
   "outputs": [],
   "source": [
    "def f_bf_overconfidence(file):\n",
    "    from datetime import datetime #Numeros a formato de fecha\n",
    "    import pandas as pd\n",
    "    \n",
    "    \n",
    "    df=f_datosent(file) #archivo\n",
    "    file_type = file[-4:]\n",
    "    \n",
    "    \n",
    "    if file_type == 'json': ## función sí los datos vienen en formato json\n",
    "        \n",
    "        df[\"size\"]=df[\"size\"].apply(pd.to_numeric) #convertir datos a numericos\n",
    "        df[\"profit\"]=df[\"profit\"].apply(pd.to_numeric)\n",
    "        \n",
    "    \n",
    "\n",
    "        df[\"closeTime\"] = df[\"closeTime\"].apply(lambda x: datetime.strptime(x, '%Y.%m.%d %H:%M:%S')) #Convertimos los numeros en formato de fecha\n",
    "        weekly = df.groupby(pd.Grouper(key='closeTime', freq='W'))\n",
    "        weekly = [weekly.get_group(x) for x in weekly.groups] #agrupamos por semana\n",
    "\n",
    "        oc = 0\n",
    "        w = []\n",
    "        dfs = []\n",
    "        c = 0\n",
    "        week= []\n",
    "        for z in range(len(weekly)):\n",
    "            wtype = weekly[z].groupby([\"type\",\"Instrument\"]) ## agrupamos por semana nuestras variables a usar\n",
    "            wtype = [wtype.get_group(y) for y in wtype.groups] \n",
    "            for x in range(len(wtype)):\n",
    "                for i in range(1,len(wtype[x])):\n",
    "                    c += 1\n",
    "                    if wtype[x].reset_index().loc[i-1,\"profit\"] > 0: ## condicion para observar si hubo profit y asi el sujeto es mas propenso a hacer el sesgo\n",
    "                        if wtype[x].reset_index().loc[i-1,\"size\"] < wtype[x].reset_index().loc[i,\"size\"]: ## condición que muestra que el volumen ha subido ya que registro ganancia en ese mismo instrumento\n",
    "                            oc += 1\n",
    "                            w.append(z)\n",
    "                            week.append(wtype[x][\"closeTime\"].iloc[0])\n",
    "                            dfs.append(wtype[x]) \n",
    "        dfs = pd.concat(dfs)           \n",
    "        week = pd.DataFrame(week,columns=[\"closeTime\"])\n",
    "        fig = px.histogram(week, x=\"closeTime\",title=\"Histograma de sobreconfianza\")\n",
    "        p = oc/c\n",
    "        \n",
    "\n",
    "        return {\"Dataframe\": dfs, \"Grafica\": fig, \"Explicacion\": \"Nuestro sesgo es el de Overconfidence el cual consiste en que gracias al exito de una persona en transacciones pasadas esta misma piensa que su habilidad es infalible por lo que empieza a tomar mas riesgo\",\n",
    "                \"Porcentaje\": \"{:.1%}\".format(p)}\n",
    "                \n",
    "    \n",
    "    elif file_type == 'xlsx': ## función sí los datos vienen en formato excel\n",
    "\n",
    "        df[\"closeTime\"] = df[\"closeTime\"].apply(lambda x: datetime.strptime(x, '%Y.%m.%d %H:%M:%S'))\n",
    "        weekly = df.groupby(pd.Grouper(key='closeTime', freq='W'))\n",
    "        weekly = [weekly.get_group(x) for x in weekly.groups]\n",
    "\n",
    "        oc = 0\n",
    "        c = 0\n",
    "        w = []\n",
    "        dfs = []\n",
    "        week=[]\n",
    "        for z in range(len(weekly)):\n",
    "            wtype = weekly[z].groupby([\"Type\",\"Symbol\"]) ## agrupamos por semana nuestras variables a usar\n",
    "            wtype = [wtype.get_group(y) for y in wtype.groups] \n",
    "            for x in range(len(wtype)):\n",
    "                for i in range(1,len(wtype[x])):\n",
    "                    c += 1\n",
    "                    if wtype[x].reset_index().loc[i-1,\"Profit\"] > 0: ## condicion para observar si hubo profit y asi el sujeto es mas propenso a hacer el sesgo\n",
    "                        if wtype[x].reset_index().loc[i-1,\"Size\"] < wtype[x].reset_index().loc[i,\"Size\"]: ## condición que muestra que el volumen ha subido ya que registro ganancia en ese mismo instrumento\n",
    "                            oc += 1\n",
    "                            w.append(z)\n",
    "                            week.append(wtype[x][\"closeTime\"].iloc[0])\n",
    "                            dfs.append(wtype[x])\n",
    "    dfs = pd.concat(dfs)\n",
    "    week = pd.DataFrame(week,columns=[\"closeTime\"])\n",
    "    fig = px.histogram(week, x=\"closeTime\",title=\"Histograma de sobreconfianza\")\n",
    "    p = oc/c\n",
    "    \n",
    "    return {\"Dataframe\": dfs, \"Grafica\": fig, \"Explicacion\": \"Nuestro sesgo es el de Sobreconfianza el cual consiste en que gracias al exito de una persona en transacciones pasadas esta misma piensa que su habilidad es infalible por lo que empieza a tomar mas riesgo\",\n",
    "                \"Porcentaje\": \"Incurrencia por numero de transacciones {:.1%}\".format(p)}"
   ]
  },
  {
   "cell_type": "code",
   "execution_count": 25,
   "metadata": {},
   "outputs": [
    {
     "data": {
      "text/plain": [
       "'Incurrencia por numero de transacciones 16.0%'"
      ]
     },
     "execution_count": 25,
     "metadata": {},
     "output_type": "execute_result"
    }
   ],
   "source": [
    "f_bf_overconfidence(\"archivo_tradeview_2.xlsx\").get(\"Porcentaje\")"
   ]
  },
  {
   "cell_type": "raw",
   "metadata": {},
   "source": [
    "f_bf_overconfidence(\"archivo_tradeview_0.json\")"
   ]
  },
  {
   "cell_type": "code",
   "execution_count": 26,
   "metadata": {},
   "outputs": [
    {
     "ename": "NameError",
     "evalue": "name 'p' is not defined",
     "output_type": "error",
     "traceback": [
      "\u001b[1;31m---------------------------------------------------------------------------\u001b[0m",
      "\u001b[1;31mNameError\u001b[0m                                 Traceback (most recent call last)",
      "\u001b[1;32m<ipython-input-26-20a82a3ca09f>\u001b[0m in \u001b[0;36m<module>\u001b[1;34m()\u001b[0m\n\u001b[1;32m----> 1\u001b[1;33m \u001b[1;34m\"{:.1%}\"\u001b[0m\u001b[1;33m.\u001b[0m\u001b[0mformat\u001b[0m\u001b[1;33m(\u001b[0m\u001b[0mp\u001b[0m\u001b[1;33m)\u001b[0m\u001b[1;33m\u001b[0m\u001b[0m\n\u001b[0m",
      "\u001b[1;31mNameError\u001b[0m: name 'p' is not defined"
     ]
    }
   ],
   "source": [
    "\"{:.1%}\".format(p)"
   ]
  },
  {
   "cell_type": "code",
   "execution_count": null,
   "metadata": {
    "collapsed": true
   },
   "outputs": [],
   "source": []
  }
 ],
 "metadata": {
  "kernelspec": {
   "display_name": "Python 3",
   "language": "python",
   "name": "python3"
  },
  "language_info": {
   "codemirror_mode": {
    "name": "ipython",
    "version": 3
   },
   "file_extension": ".py",
   "mimetype": "text/x-python",
   "name": "python",
   "nbconvert_exporter": "python",
   "pygments_lexer": "ipython3",
   "version": "3.6.2"
  }
 },
 "nbformat": 4,
 "nbformat_minor": 2
}
