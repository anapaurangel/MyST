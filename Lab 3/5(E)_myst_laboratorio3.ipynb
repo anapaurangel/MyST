{
 "cells": [
  {
   "cell_type": "markdown",
   "metadata": {},
   "source": [
    "<img style=\"float: right; margin: 0px 0px 15px 15px;\" src=\"https://www.carrerasenlinea.mx/logos/original/logo-instituto-tecnologico-y-de-estudios-superiores-de-occidente.png\" width=\"150px\" height=\"100px\" />\n",
    "\n",
    "# Laboratorio 3: Behavioral Economics en Trading.\n",
    "\n",
    "\n",
    "- El propósito: Que utilices la información histórica de la cuenta de trading manual y, mediante la formulación y programación de 3 \"Sesgos cognitivos\", realices una evaluación del desempeño de la cuenta utilizando el marco de \"Behavioral economics\". Con la finalidad de inferir si al momento de tomar las decisiones que se tomaron en esa cuenta, se estuvo incurriendo en esos \"Sesgos cognitivos\" y su impacto en el resultado final.\n",
    "\n",
    "\n",
    "Equipo 5:\n",
    "\n",
    "* Luis Ontaneda \n",
    "* Alejandro Preciado\n",
    "* Jose Antonio Quintero\n",
    "* Ana Paula Rangel\n"
   ]
  },
  {
   "cell_type": "markdown",
   "metadata": {},
   "source": [
    "## Sesgo cognitivo elegido: Overconfidence"
   ]
  },
  {
   "cell_type": "markdown",
   "metadata": {},
   "source": [
    "Los sesgos cognitivos se basan en diferencias a la hora de interpretar la información.\n",
    "\n",
    "Este sesgo consiste en la creer tener mas información de la seguridad con la que se toma una decisión, basada en una decisión propia del pasado. Esto pasa por que lleva a creer que tenemos más información que el resto para la toma de decisiones, lo que lleva a pensar que la probabilidad de fracaso es menor a la real.\n",
    "\n",
    "En el ambito financiero una persona puede llegar a sobreestimar las ganancias esperadas.\n",
    "\n",
    "Ejemplo genérico: \n",
    "\n",
    "    •\tMartingala\n",
    "\n",
    "Aplicación a trading:\n",
    "\n",
    "    •\tRepetir posiciones en mayor cantidad \n",
    "\n"
   ]
  },
  {
   "cell_type": "code",
   "execution_count": 3,
   "metadata": {},
   "outputs": [],
   "source": [
    "#se importan las librerias\n",
    "import pandas as pd\n",
    "import numpy as np\n",
    "import json #leer el archivo\n",
    "from datetime import datetime #Para separar las fechas por semanas \n",
    "import pandas as pd\n",
    "import matplotlib.pyplot as plt #para las graficas\n",
    "import matplotlib\n",
    "import plotly.express as px\n",
    "import plotly.graph_objs as go\n"
   ]
  },
  {
   "cell_type": "code",
   "execution_count": 4,
   "metadata": {},
   "outputs": [],
   "source": [
    "\n",
    "def f_datosent(P0_archivo):\n",
    "    \"\"\"\n",
    "    :param p0_archivo: archivo de entrada\n",
    "    :return resultado\n",
    "    \n",
    "    debbuging\n",
    "    p0_archivo = 'archivo_tradeview_2.xlsx'\n",
    "    \n",
    "    \"\"\"\n",
    "    import pandas as pd\n",
    "    import numpy as np\n",
    "    import json\n",
    "    \n",
    "    file_type = P0_archivo[-4:]\n",
    "    # Opciones para visualizar data frames en consola\n",
    "    pd.set_option('display.max_rows',5000)\n",
    "    pd.set_option('display.max_columns',500)\n",
    "    pd.set_option('display.width',1000)\n",
    "    \n",
    "    # Ingreso de datos de entrada: Leer archivo JSON\n",
    "    archivo = P0_archivo\n",
    "    \n",
    "    if file_type == 'json':\n",
    "        with open(archivo, encoding='utf-8-sig') as json_file:\n",
    "            datos_2 = json.load(json_file)['data']\n",
    "            \n",
    "        # Seleccionar la seccion de 'closedTransactions' que es la de interes\n",
    "        df_datos = pd.DataFrame(datos_2['closedTransactions']['list'])\n",
    "        \n",
    "        # Seleccionar solo los renglones de operaciones\n",
    "        df_datos = df_datos[(df_datos['type'] == 'buy') | (df_datos['type'] == 'sell') | (df_datos['type'] == 's/l') |\n",
    "                (df_datos['type'] == 't/p')]\n",
    "        \n",
    "        # Resetear index para tener todos los numeros de indice completos\n",
    "        df_datos = df_datos.reset_index()\n",
    "        \n",
    "        # Eliminar columnas 'info' e 'index'\n",
    "        df_datos = df_datos.drop(['info', 'index'], 1)\n",
    "        \n",
    "        # Renombrar columnas\n",
    "        df_datos.rename(columns = {'SL': 'sl', 'TP':'tp', 'price':'openPrice', 'price2':'closePrice', 'item':'Instrument'},\n",
    "                        inplace=True)\n",
    "        return df_datos\n",
    "    elif file_type == 'xlsx':\n",
    "        df_datos = pd.read_excel(archivo, sheet_name = 'Hoja1', col_header=0)\n",
    "        return df_datos"
   ]
  },
  {
   "cell_type": "code",
   "execution_count": 5,
   "metadata": {},
   "outputs": [],
   "source": [
    "#import untitled1\n",
    "#f_datosent(P0_archivo=\"archivo_tradeview_0.json\")"
   ]
  },
  {
   "cell_type": "code",
   "execution_count": 6,
   "metadata": {},
   "outputs": [],
   "source": [
    "def f_bf_overconfidence(file):\n",
    "    from datetime import datetime #Numeros a formato de fecha\n",
    "    import pandas as pd\n",
    "    \n",
    "    \n",
    "    df=f_datosent(file) #archivo\n",
    "    file_type = file[-4:]\n",
    "    \n",
    "    \n",
    "    if file_type == 'json': ## función sí los datos vienen en formato json\n",
    "        \n",
    "        df[\"size\"]=df[\"size\"].apply(pd.to_numeric) #convertir datos a numericos\n",
    "        df[\"profit\"]=df[\"profit\"].apply(pd.to_numeric)\n",
    "        \n",
    "    \n",
    "\n",
    "        df[\"closeTime\"] = df[\"closeTime\"].apply(lambda x: datetime.strptime(x, '%Y.%m.%d %H:%M:%S')) #Convertimos los numeros en formato de fecha\n",
    "        weekly = df.groupby(pd.Grouper(key='closeTime', freq='W'))\n",
    "        weekly = [weekly.get_group(x) for x in weekly.groups] #agrupamos por semana\n",
    "\n",
    "        oc = 0\n",
    "        w = []\n",
    "        dfs = []\n",
    "        week= []\n",
    "        for z in range(len(weekly)):\n",
    "            wtype = weekly[z].groupby([\"type\",\"Instrument\"]) ## agrupamos por semana nuestras variables a usar\n",
    "            wtype = [wtype.get_group(y) for y in wtype.groups] \n",
    "            for x in range(len(wtype)):\n",
    "                for i in range(1,len(wtype[x])):\n",
    "                    if wtype[x].reset_index().loc[i-1,\"profit\"] > 0: ## condicion para observar si hubo profit y asi el sujeto es mas propenso a hacer el sesgo\n",
    "                        if wtype[x].reset_index().loc[i-1,\"size\"] < wtype[x].reset_index().loc[i,\"size\"]: ## condición que muestra que el volumen ha subido ya que registro ganancia en ese mismo instrumento\n",
    "                            oc += 1\n",
    "                            w.append(z)\n",
    "                            week.append(wtype[x][\"closeTime\"].iloc[0])\n",
    "                            dfs.append(wtype[x]) \n",
    "        dfs = pd.concat(dfs)           \n",
    "        plt.hist(week)\n",
    "        plt.title('Sesgo de sobreconfianza', fontsize = \"16\")\n",
    "        plt.xticks(rotation=30, color = \"red\")\n",
    "        plt.xlabel(\"fechas en que realizó el sesgo\")\n",
    "        plt.ylabel(\"veces que realizó el sesgo\")\n",
    "        plt.show()\n",
    "        \n",
    "\n",
    "        return dfs\n",
    "        \n",
    "    \n",
    "    \n",
    "    \n",
    "    elif file_type == 'xlsx': ## función sí los datos vienen en formato excel\n",
    "\n",
    "        df[\"closeTime\"] = df[\"closeTime\"].apply(lambda x: datetime.strptime(x, '%Y.%m.%d %H:%M:%S'))\n",
    "        weekly = df.groupby(pd.Grouper(key='closeTime', freq='W'))\n",
    "        weekly = [weekly.get_group(x) for x in weekly.groups]\n",
    "\n",
    "        oc = 0\n",
    "        w = []\n",
    "        dfs = []\n",
    "        week=[]\n",
    "        for z in range(len(weekly)):\n",
    "            wtype = weekly[z].groupby([\"Type\",\"Symbol\"]) ## agrupamos por semana nuestras variables a usar\n",
    "            wtype = [wtype.get_group(y) for y in wtype.groups] \n",
    "            for x in range(len(wtype)):\n",
    "                for i in range(1,len(wtype[x])):\n",
    "                    if wtype[x].reset_index().loc[i-1,\"Profit\"] > 0: ## condicion para observar si hubo profit y asi el sujeto es mas propenso a hacer el sesgo\n",
    "                        if wtype[x].reset_index().loc[i-1,\"Size\"] < wtype[x].reset_index().loc[i,\"Size\"]: ## condición que muestra que el volumen ha subido ya que registro ganancia en ese mismo instrumento\n",
    "                            oc += 1\n",
    "                            w.append(z)\n",
    "                            week.append(wtype[x][\"closeTime\"].iloc[0])\n",
    "                            dfs.append(wtype[x])\n",
    "    dfs = pd.concat(dfs)\n",
    "    plt.hist(week)\n",
    "    plt.title('Sesgo de sobreconfianza', fontsize = \"16\")\n",
    "    plt.xticks(rotation=30, color = \"red\")\n",
    "    plt.xlabel(\"fechas en que realizó el sesgo\")\n",
    "    plt.ylabel(\"veces que realizó el sesgo\")\n",
    "    #plt.ylim(0,5) No es necesario hacer el eje de la y más grande debido a que va contando los \"overconfidence\" de 1 en 1 aunque sean seguidos\n",
    "    plt.show()\n",
    "\n",
    "    return (dfs)"
   ]
  },
  {
   "cell_type": "code",
   "execution_count": 56,
   "metadata": {},
   "outputs": [],
   "source": [
    "def f_bf_overconfidence(file):\n",
    "    from datetime import datetime #Numeros a formato de fecha\n",
    "    import pandas as pd\n",
    "    \n",
    "    \n",
    "    df=f_datosent(file) #archivo\n",
    "    file_type = file[-4:]\n",
    "    \n",
    "    \n",
    "    if file_type == 'json': ## función sí los datos vienen en formato json\n",
    "        \n",
    "        df[\"size\"]=df[\"size\"].apply(pd.to_numeric) #convertir datos a numericos\n",
    "        df[\"profit\"]=df[\"profit\"].apply(pd.to_numeric)\n",
    "        \n",
    "    \n",
    "\n",
    "        df[\"closeTime\"] = df[\"closeTime\"].apply(lambda x: datetime.strptime(x, '%Y.%m.%d %H:%M:%S')) #Convertimos los numeros en formato de fecha\n",
    "        weekly = df.groupby(pd.Grouper(key='closeTime', freq='W'))\n",
    "        weekly = [weekly.get_group(x) for x in weekly.groups] #agrupamos por semana\n",
    "\n",
    "        oc = 0\n",
    "        w = []\n",
    "        dfs = []\n",
    "        c = 0\n",
    "        week= []\n",
    "        for z in range(len(weekly)):\n",
    "            wtype = weekly[z].groupby([\"type\",\"Instrument\"]) ## agrupamos por semana nuestras variables a usar\n",
    "            wtype = [wtype.get_group(y) for y in wtype.groups] \n",
    "            for x in range(len(wtype)):\n",
    "                for i in range(1,len(wtype[x])):\n",
    "                    c += 1\n",
    "                    if wtype[x].reset_index().loc[i-1,\"profit\"] > 0: ## condicion para observar si hubo profit y asi el sujeto es mas propenso a hacer el sesgo\n",
    "                        if wtype[x].reset_index().loc[i-1,\"size\"] < wtype[x].reset_index().loc[i,\"size\"]: ## condición que muestra que el volumen ha subido ya que registro ganancia en ese mismo instrumento\n",
    "                            oc += 1\n",
    "                            w.append(z)\n",
    "                            week.append(wtype[x][\"closeTime\"].iloc[0])\n",
    "                            dfs.append(wtype[x]) \n",
    "        dfs = pd.concat(dfs)           \n",
    "        week = pd.DataFrame(week,columns=[\"closeTime\"])\n",
    "        fig = px.histogram(week, x=\"closeTime\")\n",
    "        p = oc/c\n",
    "        \n",
    "\n",
    "        return {\"Dataframe\": dfs, \"Grafica\": fig, \"Explicacion\": \"Nuestro sesgo es el de Overconfidence el cual consiste en que gracias al exito de una persona en transacciones pasadas esta misma piensa que su habilidad es infalible por lo que empieza a tomar mas riesgo\",\n",
    "                \"Porcentaje\": \"{:.1%}\".format(p)}\n",
    "                \n",
    "    \n",
    "    elif file_type == 'xlsx': ## función sí los datos vienen en formato excel\n",
    "\n",
    "        df[\"closeTime\"] = df[\"closeTime\"].apply(lambda x: datetime.strptime(x, '%Y.%m.%d %H:%M:%S'))\n",
    "        weekly = df.groupby(pd.Grouper(key='closeTime', freq='W'))\n",
    "        weekly = [weekly.get_group(x) for x in weekly.groups]\n",
    "\n",
    "        oc = 0\n",
    "        c = 0\n",
    "        w = []\n",
    "        dfs = []\n",
    "        week=[]\n",
    "        for z in range(len(weekly)):\n",
    "            wtype = weekly[z].groupby([\"Type\",\"Symbol\"]) ## agrupamos por semana nuestras variables a usar\n",
    "            wtype = [wtype.get_group(y) for y in wtype.groups] \n",
    "            for x in range(len(wtype)):\n",
    "                for i in range(1,len(wtype[x])):\n",
    "                    c += 1\n",
    "                    if wtype[x].reset_index().loc[i-1,\"Profit\"] > 0: ## condicion para observar si hubo profit y asi el sujeto es mas propenso a hacer el sesgo\n",
    "                        if wtype[x].reset_index().loc[i-1,\"Size\"] < wtype[x].reset_index().loc[i,\"Size\"]: ## condición que muestra que el volumen ha subido ya que registro ganancia en ese mismo instrumento\n",
    "                            oc += 1\n",
    "                            w.append(z)\n",
    "                            week.append(wtype[x][\"closeTime\"].iloc[0])\n",
    "                            dfs.append(wtype[x])\n",
    "    dfs = pd.concat(dfs)\n",
    "    week = pd.DataFrame(week,columns=[\"closeTime\"])\n",
    "    fig = px.histogram(week, x=\"closeTime\")\n",
    "    p = oc/c\n",
    "    \n",
    "    return {\"Dataframe\": dfs, \"Grafica\": fig, \"Explicacion\": \"Nuestro sesgo es el de Overconfidence el cual consiste en que gracias al exito de una persona en transacciones pasadas esta misma piensa que su habilidad es infalible por lo que empieza a tomar mas riesgo\",\n",
    "                \"Porcentaje\": \"{:.1%}\".format(p)}"
   ]
  },
  {
   "cell_type": "code",
   "execution_count": 60,
   "metadata": {},
   "outputs": [
    {
     "data": {
      "application/vnd.plotly.v1+json": {
       "config": {
        "plotlyServerURL": "https://plot.ly"
       },
       "data": [
        {
         "alignmentgroup": "True",
         "bingroup": "x",
         "hoverlabel": {
          "namelength": 0
         },
         "hovertemplate": "closeTime=%{x}<br>count=%{y}",
         "legendgroup": "",
         "marker": {
          "color": "#636efa"
         },
         "name": "",
         "offsetgroup": "",
         "orientation": "v",
         "showlegend": false,
         "type": "histogram",
         "x": [
          "2019-08-29T06:38:28",
          "2019-08-27T09:16:01",
          "2019-08-30T02:53:33",
          "2019-09-11T01:52:25",
          "2019-09-11T01:54:40",
          "2019-09-25T15:24:28",
          "2019-09-24T01:10:35",
          "2019-09-24T01:10:35"
         ],
         "xaxis": "x",
         "yaxis": "y"
        }
       ],
       "layout": {
        "barmode": "relative",
        "height": 600,
        "legend": {
         "tracegroupgap": 0
        },
        "margin": {
         "t": 60
        },
        "template": {
         "data": {
          "bar": [
           {
            "error_x": {
             "color": "#2a3f5f"
            },
            "error_y": {
             "color": "#2a3f5f"
            },
            "marker": {
             "line": {
              "color": "#E5ECF6",
              "width": 0.5
             }
            },
            "type": "bar"
           }
          ],
          "barpolar": [
           {
            "marker": {
             "line": {
              "color": "#E5ECF6",
              "width": 0.5
             }
            },
            "type": "barpolar"
           }
          ],
          "carpet": [
           {
            "aaxis": {
             "endlinecolor": "#2a3f5f",
             "gridcolor": "white",
             "linecolor": "white",
             "minorgridcolor": "white",
             "startlinecolor": "#2a3f5f"
            },
            "baxis": {
             "endlinecolor": "#2a3f5f",
             "gridcolor": "white",
             "linecolor": "white",
             "minorgridcolor": "white",
             "startlinecolor": "#2a3f5f"
            },
            "type": "carpet"
           }
          ],
          "choropleth": [
           {
            "colorbar": {
             "outlinewidth": 0,
             "ticks": ""
            },
            "type": "choropleth"
           }
          ],
          "contour": [
           {
            "colorbar": {
             "outlinewidth": 0,
             "ticks": ""
            },
            "colorscale": [
             [
              0,
              "#0d0887"
             ],
             [
              0.1111111111111111,
              "#46039f"
             ],
             [
              0.2222222222222222,
              "#7201a8"
             ],
             [
              0.3333333333333333,
              "#9c179e"
             ],
             [
              0.4444444444444444,
              "#bd3786"
             ],
             [
              0.5555555555555556,
              "#d8576b"
             ],
             [
              0.6666666666666666,
              "#ed7953"
             ],
             [
              0.7777777777777778,
              "#fb9f3a"
             ],
             [
              0.8888888888888888,
              "#fdca26"
             ],
             [
              1,
              "#f0f921"
             ]
            ],
            "type": "contour"
           }
          ],
          "contourcarpet": [
           {
            "colorbar": {
             "outlinewidth": 0,
             "ticks": ""
            },
            "type": "contourcarpet"
           }
          ],
          "heatmap": [
           {
            "colorbar": {
             "outlinewidth": 0,
             "ticks": ""
            },
            "colorscale": [
             [
              0,
              "#0d0887"
             ],
             [
              0.1111111111111111,
              "#46039f"
             ],
             [
              0.2222222222222222,
              "#7201a8"
             ],
             [
              0.3333333333333333,
              "#9c179e"
             ],
             [
              0.4444444444444444,
              "#bd3786"
             ],
             [
              0.5555555555555556,
              "#d8576b"
             ],
             [
              0.6666666666666666,
              "#ed7953"
             ],
             [
              0.7777777777777778,
              "#fb9f3a"
             ],
             [
              0.8888888888888888,
              "#fdca26"
             ],
             [
              1,
              "#f0f921"
             ]
            ],
            "type": "heatmap"
           }
          ],
          "heatmapgl": [
           {
            "colorbar": {
             "outlinewidth": 0,
             "ticks": ""
            },
            "colorscale": [
             [
              0,
              "#0d0887"
             ],
             [
              0.1111111111111111,
              "#46039f"
             ],
             [
              0.2222222222222222,
              "#7201a8"
             ],
             [
              0.3333333333333333,
              "#9c179e"
             ],
             [
              0.4444444444444444,
              "#bd3786"
             ],
             [
              0.5555555555555556,
              "#d8576b"
             ],
             [
              0.6666666666666666,
              "#ed7953"
             ],
             [
              0.7777777777777778,
              "#fb9f3a"
             ],
             [
              0.8888888888888888,
              "#fdca26"
             ],
             [
              1,
              "#f0f921"
             ]
            ],
            "type": "heatmapgl"
           }
          ],
          "histogram": [
           {
            "marker": {
             "colorbar": {
              "outlinewidth": 0,
              "ticks": ""
             }
            },
            "type": "histogram"
           }
          ],
          "histogram2d": [
           {
            "colorbar": {
             "outlinewidth": 0,
             "ticks": ""
            },
            "colorscale": [
             [
              0,
              "#0d0887"
             ],
             [
              0.1111111111111111,
              "#46039f"
             ],
             [
              0.2222222222222222,
              "#7201a8"
             ],
             [
              0.3333333333333333,
              "#9c179e"
             ],
             [
              0.4444444444444444,
              "#bd3786"
             ],
             [
              0.5555555555555556,
              "#d8576b"
             ],
             [
              0.6666666666666666,
              "#ed7953"
             ],
             [
              0.7777777777777778,
              "#fb9f3a"
             ],
             [
              0.8888888888888888,
              "#fdca26"
             ],
             [
              1,
              "#f0f921"
             ]
            ],
            "type": "histogram2d"
           }
          ],
          "histogram2dcontour": [
           {
            "colorbar": {
             "outlinewidth": 0,
             "ticks": ""
            },
            "colorscale": [
             [
              0,
              "#0d0887"
             ],
             [
              0.1111111111111111,
              "#46039f"
             ],
             [
              0.2222222222222222,
              "#7201a8"
             ],
             [
              0.3333333333333333,
              "#9c179e"
             ],
             [
              0.4444444444444444,
              "#bd3786"
             ],
             [
              0.5555555555555556,
              "#d8576b"
             ],
             [
              0.6666666666666666,
              "#ed7953"
             ],
             [
              0.7777777777777778,
              "#fb9f3a"
             ],
             [
              0.8888888888888888,
              "#fdca26"
             ],
             [
              1,
              "#f0f921"
             ]
            ],
            "type": "histogram2dcontour"
           }
          ],
          "mesh3d": [
           {
            "colorbar": {
             "outlinewidth": 0,
             "ticks": ""
            },
            "type": "mesh3d"
           }
          ],
          "parcoords": [
           {
            "line": {
             "colorbar": {
              "outlinewidth": 0,
              "ticks": ""
             }
            },
            "type": "parcoords"
           }
          ],
          "scatter": [
           {
            "marker": {
             "colorbar": {
              "outlinewidth": 0,
              "ticks": ""
             }
            },
            "type": "scatter"
           }
          ],
          "scatter3d": [
           {
            "line": {
             "colorbar": {
              "outlinewidth": 0,
              "ticks": ""
             }
            },
            "marker": {
             "colorbar": {
              "outlinewidth": 0,
              "ticks": ""
             }
            },
            "type": "scatter3d"
           }
          ],
          "scattercarpet": [
           {
            "marker": {
             "colorbar": {
              "outlinewidth": 0,
              "ticks": ""
             }
            },
            "type": "scattercarpet"
           }
          ],
          "scattergeo": [
           {
            "marker": {
             "colorbar": {
              "outlinewidth": 0,
              "ticks": ""
             }
            },
            "type": "scattergeo"
           }
          ],
          "scattergl": [
           {
            "marker": {
             "colorbar": {
              "outlinewidth": 0,
              "ticks": ""
             }
            },
            "type": "scattergl"
           }
          ],
          "scattermapbox": [
           {
            "marker": {
             "colorbar": {
              "outlinewidth": 0,
              "ticks": ""
             }
            },
            "type": "scattermapbox"
           }
          ],
          "scatterpolar": [
           {
            "marker": {
             "colorbar": {
              "outlinewidth": 0,
              "ticks": ""
             }
            },
            "type": "scatterpolar"
           }
          ],
          "scatterpolargl": [
           {
            "marker": {
             "colorbar": {
              "outlinewidth": 0,
              "ticks": ""
             }
            },
            "type": "scatterpolargl"
           }
          ],
          "scatterternary": [
           {
            "marker": {
             "colorbar": {
              "outlinewidth": 0,
              "ticks": ""
             }
            },
            "type": "scatterternary"
           }
          ],
          "surface": [
           {
            "colorbar": {
             "outlinewidth": 0,
             "ticks": ""
            },
            "colorscale": [
             [
              0,
              "#0d0887"
             ],
             [
              0.1111111111111111,
              "#46039f"
             ],
             [
              0.2222222222222222,
              "#7201a8"
             ],
             [
              0.3333333333333333,
              "#9c179e"
             ],
             [
              0.4444444444444444,
              "#bd3786"
             ],
             [
              0.5555555555555556,
              "#d8576b"
             ],
             [
              0.6666666666666666,
              "#ed7953"
             ],
             [
              0.7777777777777778,
              "#fb9f3a"
             ],
             [
              0.8888888888888888,
              "#fdca26"
             ],
             [
              1,
              "#f0f921"
             ]
            ],
            "type": "surface"
           }
          ],
          "table": [
           {
            "cells": {
             "fill": {
              "color": "#EBF0F8"
             },
             "line": {
              "color": "white"
             }
            },
            "header": {
             "fill": {
              "color": "#C8D4E3"
             },
             "line": {
              "color": "white"
             }
            },
            "type": "table"
           }
          ]
         },
         "layout": {
          "annotationdefaults": {
           "arrowcolor": "#2a3f5f",
           "arrowhead": 0,
           "arrowwidth": 1
          },
          "colorscale": {
           "diverging": [
            [
             0,
             "#8e0152"
            ],
            [
             0.1,
             "#c51b7d"
            ],
            [
             0.2,
             "#de77ae"
            ],
            [
             0.3,
             "#f1b6da"
            ],
            [
             0.4,
             "#fde0ef"
            ],
            [
             0.5,
             "#f7f7f7"
            ],
            [
             0.6,
             "#e6f5d0"
            ],
            [
             0.7,
             "#b8e186"
            ],
            [
             0.8,
             "#7fbc41"
            ],
            [
             0.9,
             "#4d9221"
            ],
            [
             1,
             "#276419"
            ]
           ],
           "sequential": [
            [
             0,
             "#0d0887"
            ],
            [
             0.1111111111111111,
             "#46039f"
            ],
            [
             0.2222222222222222,
             "#7201a8"
            ],
            [
             0.3333333333333333,
             "#9c179e"
            ],
            [
             0.4444444444444444,
             "#bd3786"
            ],
            [
             0.5555555555555556,
             "#d8576b"
            ],
            [
             0.6666666666666666,
             "#ed7953"
            ],
            [
             0.7777777777777778,
             "#fb9f3a"
            ],
            [
             0.8888888888888888,
             "#fdca26"
            ],
            [
             1,
             "#f0f921"
            ]
           ],
           "sequentialminus": [
            [
             0,
             "#0d0887"
            ],
            [
             0.1111111111111111,
             "#46039f"
            ],
            [
             0.2222222222222222,
             "#7201a8"
            ],
            [
             0.3333333333333333,
             "#9c179e"
            ],
            [
             0.4444444444444444,
             "#bd3786"
            ],
            [
             0.5555555555555556,
             "#d8576b"
            ],
            [
             0.6666666666666666,
             "#ed7953"
            ],
            [
             0.7777777777777778,
             "#fb9f3a"
            ],
            [
             0.8888888888888888,
             "#fdca26"
            ],
            [
             1,
             "#f0f921"
            ]
           ]
          },
          "colorway": [
           "#636efa",
           "#EF553B",
           "#00cc96",
           "#ab63fa",
           "#FFA15A",
           "#19d3f3",
           "#FF6692",
           "#B6E880",
           "#FF97FF",
           "#FECB52"
          ],
          "font": {
           "color": "#2a3f5f"
          },
          "geo": {
           "bgcolor": "white",
           "lakecolor": "white",
           "landcolor": "#E5ECF6",
           "showlakes": true,
           "showland": true,
           "subunitcolor": "white"
          },
          "hoverlabel": {
           "align": "left"
          },
          "hovermode": "closest",
          "mapbox": {
           "style": "light"
          },
          "paper_bgcolor": "white",
          "plot_bgcolor": "#E5ECF6",
          "polar": {
           "angularaxis": {
            "gridcolor": "white",
            "linecolor": "white",
            "ticks": ""
           },
           "bgcolor": "#E5ECF6",
           "radialaxis": {
            "gridcolor": "white",
            "linecolor": "white",
            "ticks": ""
           }
          },
          "scene": {
           "xaxis": {
            "backgroundcolor": "#E5ECF6",
            "gridcolor": "white",
            "gridwidth": 2,
            "linecolor": "white",
            "showbackground": true,
            "ticks": "",
            "zerolinecolor": "white"
           },
           "yaxis": {
            "backgroundcolor": "#E5ECF6",
            "gridcolor": "white",
            "gridwidth": 2,
            "linecolor": "white",
            "showbackground": true,
            "ticks": "",
            "zerolinecolor": "white"
           },
           "zaxis": {
            "backgroundcolor": "#E5ECF6",
            "gridcolor": "white",
            "gridwidth": 2,
            "linecolor": "white",
            "showbackground": true,
            "ticks": "",
            "zerolinecolor": "white"
           }
          },
          "shapedefaults": {
           "line": {
            "color": "#2a3f5f"
           }
          },
          "ternary": {
           "aaxis": {
            "gridcolor": "white",
            "linecolor": "white",
            "ticks": ""
           },
           "baxis": {
            "gridcolor": "white",
            "linecolor": "white",
            "ticks": ""
           },
           "bgcolor": "#E5ECF6",
           "caxis": {
            "gridcolor": "white",
            "linecolor": "white",
            "ticks": ""
           }
          },
          "title": {
           "x": 0.05
          },
          "xaxis": {
           "automargin": true,
           "gridcolor": "white",
           "linecolor": "white",
           "ticks": "",
           "zerolinecolor": "white",
           "zerolinewidth": 2
          },
          "yaxis": {
           "automargin": true,
           "gridcolor": "white",
           "linecolor": "white",
           "ticks": "",
           "zerolinecolor": "white",
           "zerolinewidth": 2
          }
         }
        },
        "xaxis": {
         "anchor": "y",
         "domain": [
          0,
          0.98
         ],
         "title": {
          "text": "closeTime"
         }
        },
        "yaxis": {
         "anchor": "x",
         "domain": [
          0,
          1
         ],
         "title": {
          "text": "count"
         }
        }
       }
      },
      "text/html": [
       "<div>\n",
       "        \n",
       "        \n",
       "            <div id=\"9b7a773a-8a14-477b-8feb-7355f102bbd1\" class=\"plotly-graph-div\" style=\"height:600px; width:100%;\"></div>\n",
       "            <script type=\"text/javascript\">\n",
       "                require([\"plotly\"], function(Plotly) {\n",
       "                    window.PLOTLYENV=window.PLOTLYENV || {};\n",
       "                    \n",
       "                if (document.getElementById(\"9b7a773a-8a14-477b-8feb-7355f102bbd1\")) {\n",
       "                    Plotly.newPlot(\n",
       "                        '9b7a773a-8a14-477b-8feb-7355f102bbd1',\n",
       "                        [{\"alignmentgroup\": \"True\", \"bingroup\": \"x\", \"hoverlabel\": {\"namelength\": 0}, \"hovertemplate\": \"closeTime=%{x}<br>count=%{y}\", \"legendgroup\": \"\", \"marker\": {\"color\": \"#636efa\"}, \"name\": \"\", \"offsetgroup\": \"\", \"orientation\": \"v\", \"showlegend\": false, \"type\": \"histogram\", \"x\": [\"2019-08-29T06:38:28\", \"2019-08-27T09:16:01\", \"2019-08-30T02:53:33\", \"2019-09-11T01:52:25\", \"2019-09-11T01:54:40\", \"2019-09-25T15:24:28\", \"2019-09-24T01:10:35\", \"2019-09-24T01:10:35\"], \"xaxis\": \"x\", \"yaxis\": \"y\"}],\n",
       "                        {\"barmode\": \"relative\", \"height\": 600, \"legend\": {\"tracegroupgap\": 0}, \"margin\": {\"t\": 60}, \"template\": {\"data\": {\"bar\": [{\"error_x\": {\"color\": \"#2a3f5f\"}, \"error_y\": {\"color\": \"#2a3f5f\"}, \"marker\": {\"line\": {\"color\": \"#E5ECF6\", \"width\": 0.5}}, \"type\": \"bar\"}], \"barpolar\": [{\"marker\": {\"line\": {\"color\": \"#E5ECF6\", \"width\": 0.5}}, \"type\": \"barpolar\"}], \"carpet\": [{\"aaxis\": {\"endlinecolor\": \"#2a3f5f\", \"gridcolor\": \"white\", \"linecolor\": \"white\", \"minorgridcolor\": \"white\", \"startlinecolor\": \"#2a3f5f\"}, \"baxis\": {\"endlinecolor\": \"#2a3f5f\", \"gridcolor\": \"white\", \"linecolor\": \"white\", \"minorgridcolor\": \"white\", \"startlinecolor\": \"#2a3f5f\"}, \"type\": \"carpet\"}], \"choropleth\": [{\"colorbar\": {\"outlinewidth\": 0, \"ticks\": \"\"}, \"type\": \"choropleth\"}], \"contour\": [{\"colorbar\": {\"outlinewidth\": 0, \"ticks\": \"\"}, \"colorscale\": [[0.0, \"#0d0887\"], [0.1111111111111111, \"#46039f\"], [0.2222222222222222, \"#7201a8\"], [0.3333333333333333, \"#9c179e\"], [0.4444444444444444, \"#bd3786\"], [0.5555555555555556, \"#d8576b\"], [0.6666666666666666, \"#ed7953\"], [0.7777777777777778, \"#fb9f3a\"], [0.8888888888888888, \"#fdca26\"], [1.0, \"#f0f921\"]], \"type\": \"contour\"}], \"contourcarpet\": [{\"colorbar\": {\"outlinewidth\": 0, \"ticks\": \"\"}, \"type\": \"contourcarpet\"}], \"heatmap\": [{\"colorbar\": {\"outlinewidth\": 0, \"ticks\": \"\"}, \"colorscale\": [[0.0, \"#0d0887\"], [0.1111111111111111, \"#46039f\"], [0.2222222222222222, \"#7201a8\"], [0.3333333333333333, \"#9c179e\"], [0.4444444444444444, \"#bd3786\"], [0.5555555555555556, \"#d8576b\"], [0.6666666666666666, \"#ed7953\"], [0.7777777777777778, \"#fb9f3a\"], [0.8888888888888888, \"#fdca26\"], [1.0, \"#f0f921\"]], \"type\": \"heatmap\"}], \"heatmapgl\": [{\"colorbar\": {\"outlinewidth\": 0, \"ticks\": \"\"}, \"colorscale\": [[0.0, \"#0d0887\"], [0.1111111111111111, \"#46039f\"], [0.2222222222222222, \"#7201a8\"], [0.3333333333333333, \"#9c179e\"], [0.4444444444444444, \"#bd3786\"], [0.5555555555555556, \"#d8576b\"], [0.6666666666666666, \"#ed7953\"], [0.7777777777777778, \"#fb9f3a\"], [0.8888888888888888, \"#fdca26\"], [1.0, \"#f0f921\"]], \"type\": \"heatmapgl\"}], \"histogram\": [{\"marker\": {\"colorbar\": {\"outlinewidth\": 0, \"ticks\": \"\"}}, \"type\": \"histogram\"}], \"histogram2d\": [{\"colorbar\": {\"outlinewidth\": 0, \"ticks\": \"\"}, \"colorscale\": [[0.0, \"#0d0887\"], [0.1111111111111111, \"#46039f\"], [0.2222222222222222, \"#7201a8\"], [0.3333333333333333, \"#9c179e\"], [0.4444444444444444, \"#bd3786\"], [0.5555555555555556, \"#d8576b\"], [0.6666666666666666, \"#ed7953\"], [0.7777777777777778, \"#fb9f3a\"], [0.8888888888888888, \"#fdca26\"], [1.0, \"#f0f921\"]], \"type\": \"histogram2d\"}], \"histogram2dcontour\": [{\"colorbar\": {\"outlinewidth\": 0, \"ticks\": \"\"}, \"colorscale\": [[0.0, \"#0d0887\"], [0.1111111111111111, \"#46039f\"], [0.2222222222222222, \"#7201a8\"], [0.3333333333333333, \"#9c179e\"], [0.4444444444444444, \"#bd3786\"], [0.5555555555555556, \"#d8576b\"], [0.6666666666666666, \"#ed7953\"], [0.7777777777777778, \"#fb9f3a\"], [0.8888888888888888, \"#fdca26\"], [1.0, \"#f0f921\"]], \"type\": \"histogram2dcontour\"}], \"mesh3d\": [{\"colorbar\": {\"outlinewidth\": 0, \"ticks\": \"\"}, \"type\": \"mesh3d\"}], \"parcoords\": [{\"line\": {\"colorbar\": {\"outlinewidth\": 0, \"ticks\": \"\"}}, \"type\": \"parcoords\"}], \"scatter\": [{\"marker\": {\"colorbar\": {\"outlinewidth\": 0, \"ticks\": \"\"}}, \"type\": \"scatter\"}], \"scatter3d\": [{\"line\": {\"colorbar\": {\"outlinewidth\": 0, \"ticks\": \"\"}}, \"marker\": {\"colorbar\": {\"outlinewidth\": 0, \"ticks\": \"\"}}, \"type\": \"scatter3d\"}], \"scattercarpet\": [{\"marker\": {\"colorbar\": {\"outlinewidth\": 0, \"ticks\": \"\"}}, \"type\": \"scattercarpet\"}], \"scattergeo\": [{\"marker\": {\"colorbar\": {\"outlinewidth\": 0, \"ticks\": \"\"}}, \"type\": \"scattergeo\"}], \"scattergl\": [{\"marker\": {\"colorbar\": {\"outlinewidth\": 0, \"ticks\": \"\"}}, \"type\": \"scattergl\"}], \"scattermapbox\": [{\"marker\": {\"colorbar\": {\"outlinewidth\": 0, \"ticks\": \"\"}}, \"type\": \"scattermapbox\"}], \"scatterpolar\": [{\"marker\": {\"colorbar\": {\"outlinewidth\": 0, \"ticks\": \"\"}}, \"type\": \"scatterpolar\"}], \"scatterpolargl\": [{\"marker\": {\"colorbar\": {\"outlinewidth\": 0, \"ticks\": \"\"}}, \"type\": \"scatterpolargl\"}], \"scatterternary\": [{\"marker\": {\"colorbar\": {\"outlinewidth\": 0, \"ticks\": \"\"}}, \"type\": \"scatterternary\"}], \"surface\": [{\"colorbar\": {\"outlinewidth\": 0, \"ticks\": \"\"}, \"colorscale\": [[0.0, \"#0d0887\"], [0.1111111111111111, \"#46039f\"], [0.2222222222222222, \"#7201a8\"], [0.3333333333333333, \"#9c179e\"], [0.4444444444444444, \"#bd3786\"], [0.5555555555555556, \"#d8576b\"], [0.6666666666666666, \"#ed7953\"], [0.7777777777777778, \"#fb9f3a\"], [0.8888888888888888, \"#fdca26\"], [1.0, \"#f0f921\"]], \"type\": \"surface\"}], \"table\": [{\"cells\": {\"fill\": {\"color\": \"#EBF0F8\"}, \"line\": {\"color\": \"white\"}}, \"header\": {\"fill\": {\"color\": \"#C8D4E3\"}, \"line\": {\"color\": \"white\"}}, \"type\": \"table\"}]}, \"layout\": {\"annotationdefaults\": {\"arrowcolor\": \"#2a3f5f\", \"arrowhead\": 0, \"arrowwidth\": 1}, \"colorscale\": {\"diverging\": [[0, \"#8e0152\"], [0.1, \"#c51b7d\"], [0.2, \"#de77ae\"], [0.3, \"#f1b6da\"], [0.4, \"#fde0ef\"], [0.5, \"#f7f7f7\"], [0.6, \"#e6f5d0\"], [0.7, \"#b8e186\"], [0.8, \"#7fbc41\"], [0.9, \"#4d9221\"], [1, \"#276419\"]], \"sequential\": [[0.0, \"#0d0887\"], [0.1111111111111111, \"#46039f\"], [0.2222222222222222, \"#7201a8\"], [0.3333333333333333, \"#9c179e\"], [0.4444444444444444, \"#bd3786\"], [0.5555555555555556, \"#d8576b\"], [0.6666666666666666, \"#ed7953\"], [0.7777777777777778, \"#fb9f3a\"], [0.8888888888888888, \"#fdca26\"], [1.0, \"#f0f921\"]], \"sequentialminus\": [[0.0, \"#0d0887\"], [0.1111111111111111, \"#46039f\"], [0.2222222222222222, \"#7201a8\"], [0.3333333333333333, \"#9c179e\"], [0.4444444444444444, \"#bd3786\"], [0.5555555555555556, \"#d8576b\"], [0.6666666666666666, \"#ed7953\"], [0.7777777777777778, \"#fb9f3a\"], [0.8888888888888888, \"#fdca26\"], [1.0, \"#f0f921\"]]}, \"colorway\": [\"#636efa\", \"#EF553B\", \"#00cc96\", \"#ab63fa\", \"#FFA15A\", \"#19d3f3\", \"#FF6692\", \"#B6E880\", \"#FF97FF\", \"#FECB52\"], \"font\": {\"color\": \"#2a3f5f\"}, \"geo\": {\"bgcolor\": \"white\", \"lakecolor\": \"white\", \"landcolor\": \"#E5ECF6\", \"showlakes\": true, \"showland\": true, \"subunitcolor\": \"white\"}, \"hoverlabel\": {\"align\": \"left\"}, \"hovermode\": \"closest\", \"mapbox\": {\"style\": \"light\"}, \"paper_bgcolor\": \"white\", \"plot_bgcolor\": \"#E5ECF6\", \"polar\": {\"angularaxis\": {\"gridcolor\": \"white\", \"linecolor\": \"white\", \"ticks\": \"\"}, \"bgcolor\": \"#E5ECF6\", \"radialaxis\": {\"gridcolor\": \"white\", \"linecolor\": \"white\", \"ticks\": \"\"}}, \"scene\": {\"xaxis\": {\"backgroundcolor\": \"#E5ECF6\", \"gridcolor\": \"white\", \"gridwidth\": 2, \"linecolor\": \"white\", \"showbackground\": true, \"ticks\": \"\", \"zerolinecolor\": \"white\"}, \"yaxis\": {\"backgroundcolor\": \"#E5ECF6\", \"gridcolor\": \"white\", \"gridwidth\": 2, \"linecolor\": \"white\", \"showbackground\": true, \"ticks\": \"\", \"zerolinecolor\": \"white\"}, \"zaxis\": {\"backgroundcolor\": \"#E5ECF6\", \"gridcolor\": \"white\", \"gridwidth\": 2, \"linecolor\": \"white\", \"showbackground\": true, \"ticks\": \"\", \"zerolinecolor\": \"white\"}}, \"shapedefaults\": {\"line\": {\"color\": \"#2a3f5f\"}}, \"ternary\": {\"aaxis\": {\"gridcolor\": \"white\", \"linecolor\": \"white\", \"ticks\": \"\"}, \"baxis\": {\"gridcolor\": \"white\", \"linecolor\": \"white\", \"ticks\": \"\"}, \"bgcolor\": \"#E5ECF6\", \"caxis\": {\"gridcolor\": \"white\", \"linecolor\": \"white\", \"ticks\": \"\"}}, \"title\": {\"x\": 0.05}, \"xaxis\": {\"automargin\": true, \"gridcolor\": \"white\", \"linecolor\": \"white\", \"ticks\": \"\", \"zerolinecolor\": \"white\", \"zerolinewidth\": 2}, \"yaxis\": {\"automargin\": true, \"gridcolor\": \"white\", \"linecolor\": \"white\", \"ticks\": \"\", \"zerolinecolor\": \"white\", \"zerolinewidth\": 2}}}, \"xaxis\": {\"anchor\": \"y\", \"domain\": [0.0, 0.98], \"title\": {\"text\": \"closeTime\"}}, \"yaxis\": {\"anchor\": \"x\", \"domain\": [0.0, 1.0], \"title\": {\"text\": \"count\"}}},\n",
       "                        {\"responsive\": true}\n",
       "                    ).then(function(){\n",
       "                            \n",
       "var gd = document.getElementById('9b7a773a-8a14-477b-8feb-7355f102bbd1');\n",
       "var x = new MutationObserver(function (mutations, observer) {{\n",
       "        var display = window.getComputedStyle(gd).display;\n",
       "        if (!display || display === 'none') {{\n",
       "            console.log([gd, 'removed!']);\n",
       "            Plotly.purge(gd);\n",
       "            observer.disconnect();\n",
       "        }}\n",
       "}});\n",
       "\n",
       "// Listen for the removal of the full notebook cells\n",
       "var notebookContainer = gd.closest('#notebook-container');\n",
       "if (notebookContainer) {{\n",
       "    x.observe(notebookContainer, {childList: true});\n",
       "}}\n",
       "\n",
       "// Listen for the clearing of the current output cell\n",
       "var outputEl = gd.closest('.output');\n",
       "if (outputEl) {{\n",
       "    x.observe(outputEl, {childList: true});\n",
       "}}\n",
       "\n",
       "                        })\n",
       "                };\n",
       "                });\n",
       "            </script>\n",
       "        </div>"
      ]
     },
     "metadata": {},
     "output_type": "display_data"
    }
   ],
   "source": [
    "f_bf_overconfidence(\"archivo_tradeview_2.xlsx\").get(\"Grafica\")"
   ]
  },
  {
   "cell_type": "raw",
   "metadata": {},
   "source": [
    "f_bf_overconfidence(\"archivo_tradeview_0.json\")"
   ]
  },
  {
   "cell_type": "code",
   "execution_count": null,
   "metadata": {},
   "outputs": [],
   "source": [
    "\"{:.1%}\".format(p)"
   ]
  },
  {
   "cell_type": "code",
   "execution_count": null,
   "metadata": {},
   "outputs": [],
   "source": []
  }
 ],
 "metadata": {
  "kernelspec": {
   "display_name": "Python 3",
   "language": "python",
   "name": "python3"
  },
  "language_info": {
   "codemirror_mode": {
    "name": "ipython",
    "version": 3
   },
   "file_extension": ".py",
   "mimetype": "text/x-python",
   "name": "python",
   "nbconvert_exporter": "python",
   "pygments_lexer": "ipython3",
   "version": "3.6.4"
  }
 },
 "nbformat": 4,
 "nbformat_minor": 2
}
