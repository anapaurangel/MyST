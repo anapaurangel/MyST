{
 "cells": [
  {
   "cell_type": "markdown",
   "metadata": {},
   "source": [
    "# Laboratorio 3: Behavioral Economics en Trading.\n",
    "\n",
    "\n",
    "- El propósito: Que utilices la información histórica de la cuenta de trading manual y, mediante la formulación y programación de 3 \"Sesgos cognitivos\", realices una evaluación del desempeño de la cuenta utilizando el marco de \"Behavioral economics\". Con la finalidad de inferir si al momento de tomar las decisiones que se tomaron en esa cuenta, se estuvo incurriendo en esos 3 \"Sesgos cognitivos\" y su impacto en el resultado final.\n",
    "\n",
    "\n",
    "Equipo 5:\n",
    "\n",
    "* Luis Ontaneda \n",
    "* Alejandro Preciado\n",
    "* Jose Antonio Quintero\n",
    "* Ana Paula Rangel\n"
   ]
  },
  {
   "cell_type": "code",
   "execution_count": null,
   "metadata": {},
   "outputs": [],
   "source": [
    "\n",
    "def f_datosent(P0_archivo):\n",
    "    import pandas as pd\n",
    "    import json\n",
    "    \n",
    "    #Opciones para visualizar data drames en consola \n",
    "    pd.set_option('display.max_row',5000)\n",
    "    pd.set_option('display.max_columns',500)\n",
    "    pd.set_option('display.width',1000)\n",
    "    \n",
    "    #datos=pd.read_excel('Histórico.xlsx',sheet_name='Hoja1')\n",
    "    \n",
    "    with open(P0_archivo, encoding='utf-8-sig') as json_file:\n",
    "        datos_2 = json.load(json_file)['data']\n",
    "    \n",
    "    #Seleccionar la sección de 'closedTransactions' que es la de interés\n",
    "        df_datos=pd.DataFrame(datos_2['closedTransactions']['list'])\n",
    "    \n",
    "    #Seleccionar solo los renglones de operaciones\n",
    "    df_datos=df_datos[(df_datos['type']=='buy')|(df_datos['type']=='sell')|(df_datos['type']=='s/L')|\n",
    "            (df_datos['type']=='t/p')]\n",
    "    \n",
    "    #Resetear index para tener todos los numeros de indice completos\n",
    "    df_datos=df_datos.reset_index()\n",
    "    \n",
    "    #Eliminar columnas 'info' e index\n",
    "    df_datos=df_datos.drop(['info','index'],1)\n",
    "    \n",
    "    #renombrar columnas\n",
    "    df_datos.rename(columns={'SL':'sl','TP':'tp','price':'openPrice','price2':'closePrice',\n",
    "                             'item':'Instrument'},inplace=True)\n",
    "    \n",
    "    return(df_datos)"
   ]
  },
  {
   "cell_type": "code",
   "execution_count": null,
   "metadata": {},
   "outputs": [],
   "source": [
    "import untitled1\n",
    "f_datosent(P0_archivo=\"archivo_tradeview_0.json\")"
   ]
  }
 ],
 "metadata": {
  "kernelspec": {
   "display_name": "Python 3",
   "language": "python",
   "name": "python3"
  },
  "language_info": {
   "codemirror_mode": {
    "name": "ipython",
    "version": 3
   },
   "file_extension": ".py",
   "mimetype": "text/x-python",
   "name": "python",
   "nbconvert_exporter": "python",
   "pygments_lexer": "ipython3",
   "version": "3.7.1"
  }
 },
 "nbformat": 4,
 "nbformat_minor": 2
}
