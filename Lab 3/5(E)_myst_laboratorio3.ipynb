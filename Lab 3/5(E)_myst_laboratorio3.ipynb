{
 "cells": [
  {
   "cell_type": "markdown",
   "metadata": {},
   "source": [
    "# Laboratorio 3: Behavioral Economics en Trading.\n",
    "\n",
    "\n",
    "- El propósito: Que utilices la información histórica de la cuenta de trading manual y, mediante la formulación y programación de 3 \"Sesgos cognitivos\", realices una evaluación del desempeño de la cuenta utilizando el marco de \"Behavioral economics\". Con la finalidad de inferir si al momento de tomar las decisiones que se tomaron en esa cuenta, se estuvo incurriendo en esos 3 \"Sesgos cognitivos\" y su impacto en el resultado final.\n",
    "\n",
    "\n",
    "Equipo 5:\n",
    "\n",
    "* Luis Ontaneda \n",
    "* Alejandro Preciado\n",
    "* Jose Antonio Quintero\n",
    "* Ana Paula Rangel\n"
   ]
  },
  {
   "cell_type": "code",
   "execution_count": 50,
   "metadata": {
    "collapsed": true
   },
   "outputs": [],
   "source": [
    "import pandas as pd\n",
    "import numpy as np\n",
    "import json\n",
    "from datetime import datetime\n",
    "import pandas as pd\n",
    "    "
   ]
  },
  {
   "cell_type": "code",
   "execution_count": 51,
   "metadata": {
    "collapsed": true
   },
   "outputs": [],
   "source": [
    "\n",
    "def f_datosent(P0_archivo):\n",
    "    \"\"\"\n",
    "    :param p0_archivo: archivo de entrada\n",
    "    :return resultado\n",
    "    \n",
    "    debbuging\n",
    "    p0_archivo = 'archivo_tradeview_2.xlsx'\n",
    "    \n",
    "    \"\"\"\n",
    "    import pandas as pd\n",
    "    import numpy as np\n",
    "    import json\n",
    "    \n",
    "    file_type = P0_archivo[-4:]\n",
    "    # Opciones para visualizar data frames en consola\n",
    "    pd.set_option('display.max_rows',5000)\n",
    "    pd.set_option('display.max_columns',500)\n",
    "    pd.set_option('display.width',1000)\n",
    "    \n",
    "    # Ingreso de datos de entrada: Leer archivo JSON\n",
    "    archivo = P0_archivo\n",
    "    \n",
    "    if file_type == 'json':\n",
    "        with open(archivo, encoding='utf-8-sig') as json_file:\n",
    "            datos_2 = json.load(json_file)['data']\n",
    "            \n",
    "        # Seleccionar la seccion de 'closedTransactions' que es la de interes\n",
    "        df_datos = pd.DataFrame(datos_2['closedTransactions']['list'])\n",
    "        \n",
    "        # Seleccionar solo los renglones de operaciones\n",
    "        df_datos = df_datos[(df_datos['type'] == 'buy') | (df_datos['type'] == 'sell') | (df_datos['type'] == 's/l') |\n",
    "                (df_datos['type'] == 't/p')]\n",
    "        \n",
    "        # Resetear index para tener todos los numeros de indice completos\n",
    "        df_datos = df_datos.reset_index()\n",
    "        \n",
    "        # Eliminar columnas 'info' e 'index'\n",
    "        df_datos = df_datos.drop(['info', 'index'], 1)\n",
    "        \n",
    "        # Renombrar columnas\n",
    "        df_datos.rename(columns = {'SL': 'sl', 'TP':'tp', 'price':'openPrice', 'price2':'closePrice', 'item':'Instrument'},\n",
    "                        inplace=True)\n",
    "        return df_datos\n",
    "    elif file_type == 'xlsx':\n",
    "        df_datos = pd.read_excel(archivo, sheet_name = 'Hoja1', col_header=0)\n",
    "        return df_datos"
   ]
  },
  {
   "cell_type": "code",
   "execution_count": 52,
   "metadata": {
    "collapsed": true
   },
   "outputs": [],
   "source": [
    "#import untitled1\n",
    "#f_datosent(P0_archivo=\"archivo_tradeview_0.json\")"
   ]
  },
  {
   "cell_type": "code",
   "execution_count": 53,
   "metadata": {
    "collapsed": true
   },
   "outputs": [],
   "source": [
    "df =pd.get_dummies(df, columns=[\"Symbol\"])"
   ]
  },
  {
   "cell_type": "code",
   "execution_count": 54,
   "metadata": {},
   "outputs": [
    {
     "name": "stderr",
     "output_type": "stream",
     "text": [
      "C:\\Users\\preci\\Anaconda\\lib\\site-packages\\pandas\\io\\excel.py:527: FutureWarning: Passing in an integer for `usecols` has been deprecated. Please pass in a list of int from 0 to `usecols` inclusive instead.\n",
      "  usecols = _maybe_convert_usecols(usecols)\n"
     ]
    }
   ],
   "source": [
    "from datetime import datetime\n",
    "import pandas as pd\n",
    "df = pd.read_excel(\"archivo_tradeview_2.xlsx\", usecols=13)\n",
    "\n",
    "df[\"closeTime\"] = df[\"closeTime\"].apply(lambda x: datetime.strptime(x, '%Y.%m.%d %H:%M:%S'))\n",
    "weekly = df.groupby(pd.Grouper(key='closeTime', freq='W'))\n",
    "weekly = [weekly.get_group(x) for x in weekly.groups]"
   ]
  },
  {
   "cell_type": "code",
   "execution_count": 55,
   "metadata": {
    "collapsed": true
   },
   "outputs": [],
   "source": [
    "oc = 0\n",
    "w = []\n",
    "dfs = []\n",
    "for z in range(len(weekly)):\n",
    "    wtype = weekly[z].groupby([\"Type\",\"Symbol\"]) ## agrupamos por semana nuestras variables a usar\n",
    "    wtype = [wtype.get_group(y) for y in wtype.groups] \n",
    "    for x in range(len(wtype)):\n",
    "        for i in range(1,len(wtype[x])):\n",
    "            if wtype[x].reset_index().loc[i-1,\"Profit\"] > 0:\n",
    "                if wtype[x].reset_index().loc[i-1,\"Size\"] < wtype[x].reset_index().loc[i,\"Size\"]:\n",
    "                    oc += 1\n",
    "                    w.append(z)\n",
    "                    dfs.append(wtype[x])"
   ]
  },
  {
   "cell_type": "code",
   "execution_count": 56,
   "metadata": {},
   "outputs": [
    {
     "data": {
      "text/plain": [
       "[       Order             openTime Type  Size  Symbol  openPrice     S/L  \\\n",
       " 3   24373260  2019.08.28 17:11:33  buy  0.01  eurusd    1.10791  1.1040   \n",
       " 10  24416172  2019.08.29 19:56:26  buy  0.04  eurusd    1.10543  1.1040   \n",
       " 11  24416187  2019.08.29 19:57:00  buy  0.05  eurusd    1.10545  1.1015   \n",
       " 9   24392456  2019.08.28 17:11:33  buy  0.04  eurusd    1.10791  1.1015   \n",
       " \n",
       "        T/P           closeTime  closePrice  Commission  Taxes  Swap  Profit  \n",
       " 3   1.1175 2019-08-29 06:38:28     1.10818         0.0      0     0    0.27  \n",
       " 10  0.0000 2019-08-29 19:56:51     1.10518         0.0      0     0   -1.00  \n",
       " 11  0.0000 2019-08-30 17:57:14     1.10150         0.0      0     0  -19.75  \n",
       " 9   1.1175 2019-08-30 17:57:15     1.10150         0.0      0     0  -25.64  ,\n",
       "        Order             openTime Type  Size  Symbol  openPrice     S/L  \\\n",
       " 0   24316034  2019.08.27 06:57:50  buy  0.04  xauusd    1529.21  1523.0   \n",
       " 12  24417804  2019.08.29 20:33:00  buy  0.05  xauusd    1528.76  1524.0   \n",
       " 13  24432348  2019.08.30 06:55:31  buy  0.05  xauusd    1525.05  1515.0   \n",
       " \n",
       "        T/P           closeTime  closePrice  Commission  Taxes  Swap  Profit  \n",
       " 0   1543.0 2019-08-27 09:16:01     1533.69         0.0      0     0   17.92  \n",
       " 12  1555.0 2019-08-29 21:11:08     1523.80         0.0      0     0  -24.80  \n",
       " 13  1560.0 2019-08-30 17:02:21     1528.61         0.0      0     0   17.80  ,\n",
       "        Order             openTime  Type  Size  Symbol  openPrice    S/L  T/P  \\\n",
       " 48  24427784  2019.08.30 02:42:53  sell  0.02  usdjpy    106.495  106.8  0.0   \n",
       " 49  24428006  2019.08.30 02:42:53  sell  0.06  usdjpy    106.495  106.8  0.0   \n",
       " \n",
       "              closeTime  closePrice  Commission  Taxes  Swap  Profit  \n",
       " 48 2019-08-30 02:53:33     106.477         0.0      0     0    0.34  \n",
       " 49 2019-08-30 17:02:18     106.140         0.0      0     0   20.07  ,\n",
       "        Order             openTime Type  Size  Symbol  openPrice     S/L  T/P  \\\n",
       " 23  24766404  2019.09.11 01:52:07  buy  0.01  xauusd    1487.63  1473.0  0.0   \n",
       " 24  24766410  2019.09.11 01:52:07  buy  0.04  xauusd    1487.63  1473.0  0.0   \n",
       " 27  24853645  2019.09.13 05:27:30  buy  0.06  xauusd    1497.97  1491.0  0.0   \n",
       " 29  24883777  2019.09.13 22:01:23  buy  0.06  xauusd    1487.17     0.0  0.0   \n",
       " \n",
       "              closeTime  closePrice  Commission  Taxes  Swap  Profit  \n",
       " 23 2019-09-11 01:52:25     1487.05         0.0      0     0   -0.58  \n",
       " 24 2019-09-11 14:11:29     1492.74         0.0      0     0   20.44  \n",
       " 27 2019-09-13 10:58:49     1504.48         0.0      0     0   39.06  \n",
       " 29 2019-09-13 23:48:34     1488.57         0.0      0     0    8.40  ,\n",
       "        Order             openTime  Type  Size  Symbol  openPrice    S/L  T/P  \\\n",
       " 62  24766416  2019.09.11 01:54:34  sell  0.01  eurusd    1.10473  1.112  0.0   \n",
       " 63  24766426  2019.09.11 01:54:34  sell  0.04  eurusd    1.10473  1.112  0.0   \n",
       " 65  24778151  2019.09.11 14:26:37  sell  0.06  eurusd    1.10042  1.103  0.0   \n",
       " 67  24868147  2019.09.13 13:43:31  sell  0.06  eurusd    1.10976  1.113  0.0   \n",
       " \n",
       "              closeTime  closePrice  Commission  Taxes  Swap  Profit  \n",
       " 62 2019-09-11 01:54:40     1.10499         0.0      0     0   -0.26  \n",
       " 63 2019-09-11 14:11:23     1.10122         0.0      0     0   14.04  \n",
       " 65 2019-09-11 17:18:40     1.09901         0.0      0     0    8.46  \n",
       " 67 2019-09-13 16:47:28     1.10689         0.0      0     0   17.22  ,\n",
       "        Order             openTime Type  Size  Symbol  openPrice    S/L   T/P  \\\n",
       " 26  24850230  2019.09.13 00:14:20  buy  0.06  usdmxn   19.44123   0.00   0.0   \n",
       " 35  25188529  2019.09.25 18:22:33  buy  0.08  usdmxn   19.56233  19.59  19.9   \n",
       " 36  25188553  2019.09.25 18:23:20  buy  0.01  usdmxn   19.56103  19.59  19.9   \n",
       " \n",
       "              closeTime  closePrice  Commission  Taxes  Swap  Profit  \n",
       " 26 2019-09-25 15:24:28    19.58155         0.0      0     0   43.00  \n",
       " 35 2019-09-26 21:00:44    19.57897         0.0      0     0    6.80  \n",
       " 36 2019-09-26 21:00:44    19.58247         0.0      0     0    1.09  ,\n",
       "        Order             openTime  Type  Size  Symbol  openPrice     S/L  \\\n",
       " 75  25115634  2019.09.24 01:09:37  sell  0.08  xauusd    1522.78  1532.0   \n",
       " 76  25115653  2019.09.24 01:10:44  sell  0.04  xauusd    1522.80     0.0   \n",
       " 77  25115668  2019.09.24 01:10:44  sell  0.03  xauusd    1522.80  1522.2   \n",
       " 78  25115680  2019.09.24 01:13:04  sell  0.02  xauusd    1522.75  1522.3   \n",
       " 79  25148355  2019.09.24 20:09:52  sell  0.06  xauusd    1532.02  1538.0   \n",
       " 80  25148480  2019.09.24 20:11:20  sell  0.02  xauusd    1531.50  1538.0   \n",
       " 81  25148522  2019.09.24 20:12:41  sell  0.01  xauusd    1531.86  1538.0   \n",
       " 82  25159294  2019.09.25 01:53:47  sell  0.06  xauusd    1531.06  1537.0   \n",
       " 83  25159303  2019.09.25 01:54:46  sell  0.01  xauusd    1531.28  1537.0   \n",
       " \n",
       "        T/P           closeTime  closePrice  Commission  Taxes  Swap  Profit  \n",
       " 75     0.0 2019-09-24 01:10:35     1523.39         0.0      0     0   -4.88  \n",
       " 76     0.0 2019-09-24 01:12:25     1523.59         0.0      0     0   -3.16  \n",
       " 77  1508.0 2019-09-24 17:01:38     1522.35         0.0      0     0    1.35  \n",
       " 78  1508.0 2019-09-24 17:01:38     1522.31         0.0      0     0    0.88  \n",
       " 79     0.0 2019-09-24 21:18:43     1525.66         0.0      0     0   38.16  \n",
       " 80     0.0 2019-09-24 21:18:46     1525.63         0.0      0     0   11.74  \n",
       " 81     0.0 2019-09-24 21:18:49     1525.66         0.0      0     0    6.20  \n",
       " 82     0.0 2019-09-25 15:24:31     1527.40         0.0      0     0   21.96  \n",
       " 83     0.0 2019-09-25 15:24:35     1527.36         0.0      0     0    3.92  ,\n",
       "        Order             openTime  Type  Size  Symbol  openPrice     S/L  \\\n",
       " 75  25115634  2019.09.24 01:09:37  sell  0.08  xauusd    1522.78  1532.0   \n",
       " 76  25115653  2019.09.24 01:10:44  sell  0.04  xauusd    1522.80     0.0   \n",
       " 77  25115668  2019.09.24 01:10:44  sell  0.03  xauusd    1522.80  1522.2   \n",
       " 78  25115680  2019.09.24 01:13:04  sell  0.02  xauusd    1522.75  1522.3   \n",
       " 79  25148355  2019.09.24 20:09:52  sell  0.06  xauusd    1532.02  1538.0   \n",
       " 80  25148480  2019.09.24 20:11:20  sell  0.02  xauusd    1531.50  1538.0   \n",
       " 81  25148522  2019.09.24 20:12:41  sell  0.01  xauusd    1531.86  1538.0   \n",
       " 82  25159294  2019.09.25 01:53:47  sell  0.06  xauusd    1531.06  1537.0   \n",
       " 83  25159303  2019.09.25 01:54:46  sell  0.01  xauusd    1531.28  1537.0   \n",
       " \n",
       "        T/P           closeTime  closePrice  Commission  Taxes  Swap  Profit  \n",
       " 75     0.0 2019-09-24 01:10:35     1523.39         0.0      0     0   -4.88  \n",
       " 76     0.0 2019-09-24 01:12:25     1523.59         0.0      0     0   -3.16  \n",
       " 77  1508.0 2019-09-24 17:01:38     1522.35         0.0      0     0    1.35  \n",
       " 78  1508.0 2019-09-24 17:01:38     1522.31         0.0      0     0    0.88  \n",
       " 79     0.0 2019-09-24 21:18:43     1525.66         0.0      0     0   38.16  \n",
       " 80     0.0 2019-09-24 21:18:46     1525.63         0.0      0     0   11.74  \n",
       " 81     0.0 2019-09-24 21:18:49     1525.66         0.0      0     0    6.20  \n",
       " 82     0.0 2019-09-25 15:24:31     1527.40         0.0      0     0   21.96  \n",
       " 83     0.0 2019-09-25 15:24:35     1527.36         0.0      0     0    3.92  ]"
      ]
     },
     "execution_count": 56,
     "metadata": {},
     "output_type": "execute_result"
    }
   ],
   "source": [
    "dfs"
   ]
  },
  {
   "cell_type": "code",
   "execution_count": null,
   "metadata": {
    "collapsed": true
   },
   "outputs": [],
   "source": []
  }
 ],
 "metadata": {
  "kernelspec": {
   "display_name": "Python 3",
   "language": "python",
   "name": "python3"
  },
  "language_info": {
   "codemirror_mode": {
    "name": "ipython",
    "version": 3
   },
   "file_extension": ".py",
   "mimetype": "text/x-python",
   "name": "python",
   "nbconvert_exporter": "python",
   "pygments_lexer": "ipython3",
   "version": "3.6.2"
  }
 },
 "nbformat": 4,
 "nbformat_minor": 2
}
