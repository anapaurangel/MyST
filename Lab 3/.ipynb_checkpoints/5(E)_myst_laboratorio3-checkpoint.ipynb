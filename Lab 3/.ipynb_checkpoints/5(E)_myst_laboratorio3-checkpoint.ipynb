{
 "cells": [
  {
   "cell_type": "markdown",
   "metadata": {},
   "source": [
    "# Laboratorio 3: Behavioral Economics en Trading.\n",
    "\n",
    "\n",
    "- El propósito: Que utilices la información histórica de la cuenta de trading manual y, mediante la formulación y programación de 3 \"Sesgos cognitivos\", realices una evaluación del desempeño de la cuenta utilizando el marco de \"Behavioral economics\". Con la finalidad de inferir si al momento de tomar las decisiones que se tomaron en esa cuenta, se estuvo incurriendo en esos 3 \"Sesgos cognitivos\" y su impacto en el resultado final.\n",
    "\n",
    "\n",
    "Equipo 5:\n",
    "\n",
    "* Luis Ontaneda \n",
    "* Alejandro Preciado\n",
    "* Jose Antonio Quintero\n",
    "* Ana Paula Rangel\n"
   ]
  },
  {
   "cell_type": "code",
   "execution_count": 5,
   "metadata": {},
   "outputs": [],
   "source": [
    "\n",
    "def f_datosent(P0_archivo):\n",
    "    \"\"\"\n",
    "    :param p0_archivo: archivo de entrada\n",
    "    :return resultado\n",
    "    \n",
    "    debbuging\n",
    "    p0_archivo = 'archivo_tradeview_2.xlsx'\n",
    "    \n",
    "    \"\"\"\n",
    "    import pandas as pd\n",
    "    import numpy as np\n",
    "    import json\n",
    "    \n",
    "    file_type = P0_archivo[-4:]\n",
    "    # Opciones para visualizar data frames en consola\n",
    "    pd.set_option('display.max_rows',5000)\n",
    "    pd.set_option('display.max_columns',500)\n",
    "    pd.set_option('display.width',1000)\n",
    "    \n",
    "    # Ingreso de datos de entrada: Leer archivo JSON\n",
    "    archivo = P0_archivo\n",
    "    \n",
    "    if file_type == 'json':\n",
    "        with open(archivo, encoding='utf-8-sig') as json_file:\n",
    "            datos_2 = json.load(json_file)['data']\n",
    "            \n",
    "        # Seleccionar la seccion de 'closedTransactions' que es la de interes\n",
    "        df_datos = pd.DataFrame(datos_2['closedTransactions']['list'])\n",
    "        \n",
    "        # Seleccionar solo los renglones de operaciones\n",
    "        df_datos = df_datos[(df_datos['type'] == 'buy') | (df_datos['type'] == 'sell') | (df_datos['type'] == 's/l') |\n",
    "                (df_datos['type'] == 't/p')]\n",
    "        \n",
    "        # Resetear index para tener todos los numeros de indice completos\n",
    "        df_datos = df_datos.reset_index()\n",
    "        \n",
    "        # Eliminar columnas 'info' e 'index'\n",
    "        df_datos = df_datos.drop(['info', 'index'], 1)\n",
    "        \n",
    "        # Renombrar columnas\n",
    "        df_datos.rename(columns = {'SL': 'sl', 'TP':'tp', 'price':'openPrice', 'price2':'closePrice', 'item':'Instrument'},\n",
    "                        inplace=True)\n",
    "        return df_datos\n",
    "    elif file_type == 'xlsx':\n",
    "        df_datos = pd.read_excel(archivo, sheet_name = 'Hoja1', col_header=0)\n",
    "        return df_datos"
   ]
  },
  {
   "cell_type": "code",
   "execution_count": 6,
   "metadata": {},
   "outputs": [],
   "source": [
    "#import untitled1\n",
    "#f_datosent(P0_archivo=\"archivo_tradeview_0.json\")"
   ]
  },
  {
   "cell_type": "code",
   "execution_count": null,
   "metadata": {},
   "outputs": [],
   "source": [
    "df =pd.get_dummies(df, columns=[\"Symbol\"])"
   ]
  },
  {
   "cell_type": "code",
   "execution_count": 14,
   "metadata": {},
   "outputs": [],
   "source": [
    "from datetime import datetime\n",
    "import pandas as pd\n",
    "df = pd.read_excel(\"archivo_tradeview_2.xlsx\", usecols=13)\n",
    "\n",
    "dfsell = df.loc[df[\"Type\"]==\"sell\"]\n",
    "dfbuy = df.loc[df[\"Type\"]==\"buy\"]\n",
    "df[\"openTime\"] = df[\"openTime\"].apply(lambda x: datetime.strptime(x, '%Y.%m.%d %H:%M:%S'))\n",
    "weekly = df.groupby(pd.Grouper(key='openTime', freq='W'))\n",
    "weekly = [weekly.get_group(x) for x in weekly.groups]"
   ]
  },
  {
   "cell_type": "code",
   "execution_count": 54,
   "metadata": {},
   "outputs": [],
   "source": [
    "groups = df.groupby([\"Symbol\",\"Type\"])\n",
    "groups = [groups.get_group(x) for x in je.groups]"
   ]
  },
  {
   "cell_type": "code",
   "execution_count": 56,
   "metadata": {},
   "outputs": [
    {
     "data": {
      "text/html": [
       "<div>\n",
       "<style scoped>\n",
       "    .dataframe tbody tr th:only-of-type {\n",
       "        vertical-align: middle;\n",
       "    }\n",
       "\n",
       "    .dataframe tbody tr th {\n",
       "        vertical-align: top;\n",
       "    }\n",
       "\n",
       "    .dataframe thead th {\n",
       "        text-align: right;\n",
       "    }\n",
       "</style>\n",
       "<table border=\"1\" class=\"dataframe\">\n",
       "  <thead>\n",
       "    <tr style=\"text-align: right;\">\n",
       "      <th></th>\n",
       "      <th>Order</th>\n",
       "      <th>openTime</th>\n",
       "      <th>Type</th>\n",
       "      <th>Size</th>\n",
       "      <th>Symbol</th>\n",
       "      <th>openPrice</th>\n",
       "      <th>S/L</th>\n",
       "      <th>T/P</th>\n",
       "      <th>closeTime</th>\n",
       "      <th>closePrice</th>\n",
       "      <th>Commission</th>\n",
       "      <th>Taxes</th>\n",
       "      <th>Swap</th>\n",
       "      <th>Profit</th>\n",
       "    </tr>\n",
       "  </thead>\n",
       "  <tbody>\n",
       "    <tr>\n",
       "      <th>19</th>\n",
       "      <td>24518296</td>\n",
       "      <td>2019-09-03 04:49:42</td>\n",
       "      <td>buy</td>\n",
       "      <td>0.01</td>\n",
       "      <td>audusd</td>\n",
       "      <td>0.6702</td>\n",
       "      <td>0.666</td>\n",
       "      <td>0.000</td>\n",
       "      <td>2019.09.03 04:49:54</td>\n",
       "      <td>0.66991</td>\n",
       "      <td>0.0</td>\n",
       "      <td>0</td>\n",
       "      <td>0</td>\n",
       "      <td>-0.29</td>\n",
       "    </tr>\n",
       "    <tr>\n",
       "      <th>20</th>\n",
       "      <td>24518303</td>\n",
       "      <td>2019-09-03 04:49:42</td>\n",
       "      <td>buy</td>\n",
       "      <td>0.04</td>\n",
       "      <td>audusd</td>\n",
       "      <td>0.6702</td>\n",
       "      <td>0.666</td>\n",
       "      <td>0.683</td>\n",
       "      <td>2019.09.03 15:47:53</td>\n",
       "      <td>0.67284</td>\n",
       "      <td>0.0</td>\n",
       "      <td>0</td>\n",
       "      <td>0</td>\n",
       "      <td>10.56</td>\n",
       "    </tr>\n",
       "  </tbody>\n",
       "</table>\n",
       "</div>"
      ],
      "text/plain": [
       "       Order            openTime Type  Size  Symbol  openPrice    S/L    T/P  \\\n",
       "19  24518296 2019-09-03 04:49:42  buy  0.01  audusd     0.6702  0.666  0.000   \n",
       "20  24518303 2019-09-03 04:49:42  buy  0.04  audusd     0.6702  0.666  0.683   \n",
       "\n",
       "              closeTime  closePrice  Commission  Taxes  Swap  Profit  \n",
       "19  2019.09.03 04:49:54     0.66991         0.0      0     0   -0.29  \n",
       "20  2019.09.03 15:47:53     0.67284         0.0      0     0   10.56  "
      ]
     },
     "execution_count": 56,
     "metadata": {},
     "output_type": "execute_result"
    }
   ],
   "source": [
    "[\"Overconfidence\" for i in range(1,len(j)) for j in groups if j[-1] > 0]"
   ]
  },
  {
   "cell_type": "code",
   "execution_count": 81,
   "metadata": {},
   "outputs": [
    {
     "ename": "TypeError",
     "evalue": "Cannot compare type 'Timestamp' with type 'int'",
     "output_type": "error",
     "traceback": [
      "\u001b[0;31m---------------------------------------------------------------------------\u001b[0m",
      "\u001b[0;31mTypeError\u001b[0m                                 Traceback (most recent call last)",
      "\u001b[0;32m<ipython-input-81-fb10060a9b35>\u001b[0m in \u001b[0;36m<module>\u001b[0;34m()\u001b[0m\n\u001b[1;32m      1\u001b[0m \u001b[0;32mfor\u001b[0m \u001b[0mi\u001b[0m \u001b[0;32min\u001b[0m \u001b[0mgroups\u001b[0m\u001b[0;34m:\u001b[0m\u001b[0;34m\u001b[0m\u001b[0m\n\u001b[1;32m      2\u001b[0m     \u001b[0;32mfor\u001b[0m \u001b[0mj\u001b[0m \u001b[0;32min\u001b[0m \u001b[0mi\u001b[0m\u001b[0;34m.\u001b[0m\u001b[0miterrows\u001b[0m\u001b[0;34m(\u001b[0m\u001b[0;34m)\u001b[0m\u001b[0;34m:\u001b[0m\u001b[0;34m\u001b[0m\u001b[0m\n\u001b[0;32m----> 3\u001b[0;31m         \u001b[0;32mif\u001b[0m \u001b[0mj\u001b[0m\u001b[0;34m[\u001b[0m\u001b[0;36m1\u001b[0m\u001b[0;34m]\u001b[0m \u001b[0;34m>\u001b[0m \u001b[0;36m0\u001b[0m\u001b[0;34m:\u001b[0m\u001b[0;34m\u001b[0m\u001b[0m\n\u001b[0m\u001b[1;32m      4\u001b[0m             \u001b[0mk\u001b[0m \u001b[0;34m=\u001b[0m \u001b[0mj\u001b[0m\u001b[0;34m[\u001b[0m\u001b[0;36m1\u001b[0m\u001b[0;34m]\u001b[0m\u001b[0;34m\u001b[0m\u001b[0m\n",
      "\u001b[0;32m~/anaconda3/lib/python3.6/site-packages/pandas/core/ops.py\u001b[0m in \u001b[0;36mwrapper\u001b[0;34m(self, other, axis)\u001b[0m\n\u001b[1;32m    877\u001b[0m \u001b[0;34m\u001b[0m\u001b[0m\n\u001b[1;32m    878\u001b[0m             \u001b[0;32mwith\u001b[0m \u001b[0mnp\u001b[0m\u001b[0;34m.\u001b[0m\u001b[0merrstate\u001b[0m\u001b[0;34m(\u001b[0m\u001b[0mall\u001b[0m\u001b[0;34m=\u001b[0m\u001b[0;34m'ignore'\u001b[0m\u001b[0;34m)\u001b[0m\u001b[0;34m:\u001b[0m\u001b[0;34m\u001b[0m\u001b[0m\n\u001b[0;32m--> 879\u001b[0;31m                 \u001b[0mres\u001b[0m \u001b[0;34m=\u001b[0m \u001b[0mna_op\u001b[0m\u001b[0;34m(\u001b[0m\u001b[0mvalues\u001b[0m\u001b[0;34m,\u001b[0m \u001b[0mother\u001b[0m\u001b[0;34m)\u001b[0m\u001b[0;34m\u001b[0m\u001b[0m\n\u001b[0m\u001b[1;32m    880\u001b[0m             \u001b[0;32mif\u001b[0m \u001b[0mis_scalar\u001b[0m\u001b[0;34m(\u001b[0m\u001b[0mres\u001b[0m\u001b[0;34m)\u001b[0m\u001b[0;34m:\u001b[0m\u001b[0;34m\u001b[0m\u001b[0m\n\u001b[1;32m    881\u001b[0m                 raise TypeError('Could not compare {typ} type with Series'\n",
      "\u001b[0;32m~/anaconda3/lib/python3.6/site-packages/pandas/core/ops.py\u001b[0m in \u001b[0;36mna_op\u001b[0;34m(x, y)\u001b[0m\n\u001b[1;32m    781\u001b[0m \u001b[0;34m\u001b[0m\u001b[0m\n\u001b[1;32m    782\u001b[0m         \u001b[0;32mif\u001b[0m \u001b[0mis_object_dtype\u001b[0m\u001b[0;34m(\u001b[0m\u001b[0mx\u001b[0m\u001b[0;34m.\u001b[0m\u001b[0mdtype\u001b[0m\u001b[0;34m)\u001b[0m\u001b[0;34m:\u001b[0m\u001b[0;34m\u001b[0m\u001b[0m\n\u001b[0;32m--> 783\u001b[0;31m             \u001b[0mresult\u001b[0m \u001b[0;34m=\u001b[0m \u001b[0m_comp_method_OBJECT_ARRAY\u001b[0m\u001b[0;34m(\u001b[0m\u001b[0mop\u001b[0m\u001b[0;34m,\u001b[0m \u001b[0mx\u001b[0m\u001b[0;34m,\u001b[0m \u001b[0my\u001b[0m\u001b[0;34m)\u001b[0m\u001b[0;34m\u001b[0m\u001b[0m\n\u001b[0m\u001b[1;32m    784\u001b[0m         \u001b[0;32melse\u001b[0m\u001b[0;34m:\u001b[0m\u001b[0;34m\u001b[0m\u001b[0m\n\u001b[1;32m    785\u001b[0m \u001b[0;34m\u001b[0m\u001b[0m\n",
      "\u001b[0;32m~/anaconda3/lib/python3.6/site-packages/pandas/core/ops.py\u001b[0m in \u001b[0;36m_comp_method_OBJECT_ARRAY\u001b[0;34m(op, x, y)\u001b[0m\n\u001b[1;32m    761\u001b[0m         \u001b[0mresult\u001b[0m \u001b[0;34m=\u001b[0m \u001b[0mlib\u001b[0m\u001b[0;34m.\u001b[0m\u001b[0mvec_compare\u001b[0m\u001b[0;34m(\u001b[0m\u001b[0mx\u001b[0m\u001b[0;34m,\u001b[0m \u001b[0my\u001b[0m\u001b[0;34m,\u001b[0m \u001b[0mop\u001b[0m\u001b[0;34m)\u001b[0m\u001b[0;34m\u001b[0m\u001b[0m\n\u001b[1;32m    762\u001b[0m     \u001b[0;32melse\u001b[0m\u001b[0;34m:\u001b[0m\u001b[0;34m\u001b[0m\u001b[0m\n\u001b[0;32m--> 763\u001b[0;31m         \u001b[0mresult\u001b[0m \u001b[0;34m=\u001b[0m \u001b[0mlib\u001b[0m\u001b[0;34m.\u001b[0m\u001b[0mscalar_compare\u001b[0m\u001b[0;34m(\u001b[0m\u001b[0mx\u001b[0m\u001b[0;34m,\u001b[0m \u001b[0my\u001b[0m\u001b[0;34m,\u001b[0m \u001b[0mop\u001b[0m\u001b[0;34m)\u001b[0m\u001b[0;34m\u001b[0m\u001b[0m\n\u001b[0m\u001b[1;32m    764\u001b[0m     \u001b[0;32mreturn\u001b[0m \u001b[0mresult\u001b[0m\u001b[0;34m\u001b[0m\u001b[0m\n\u001b[1;32m    765\u001b[0m \u001b[0;34m\u001b[0m\u001b[0m\n",
      "\u001b[0;32mpandas/_libs/lib.pyx\u001b[0m in \u001b[0;36mpandas._libs.lib.scalar_compare\u001b[0;34m()\u001b[0m\n",
      "\u001b[0;32mpandas/_libs/tslib.pyx\u001b[0m in \u001b[0;36mpandas._libs.tslib._Timestamp.__richcmp__\u001b[0;34m()\u001b[0m\n",
      "\u001b[0;31mTypeError\u001b[0m: Cannot compare type 'Timestamp' with type 'int'"
     ]
    }
   ],
   "source": [
    "for i in groups:\n",
    "    for j in i.iterrows():\n",
    "        if j[1][] > 0:\n",
    "            k = j[1]"
   ]
  },
  {
   "cell_type": "code",
   "execution_count": 82,
   "metadata": {},
   "outputs": [
    {
     "data": {
      "text/plain": [
       "Order                    25159303\n",
       "openTime      2019-09-25 01:54:46\n",
       "Type                         sell\n",
       "Size                         0.01\n",
       "Symbol                     xauusd\n",
       "openPrice                 1531.28\n",
       "S/L                          1537\n",
       "T/P                             0\n",
       "closeTime     2019.09.25 15:24:35\n",
       "closePrice                1527.36\n",
       "Commission                      0\n",
       "Taxes                           0\n",
       "Swap                            0\n",
       "Profit                       3.92\n",
       "Name: 83, dtype: object"
      ]
     },
     "execution_count": 82,
     "metadata": {},
     "output_type": "execute_result"
    }
   ],
   "source": [
    "k"
   ]
  },
  {
   "cell_type": "code",
   "execution_count": 7,
   "metadata": {},
   "outputs": [],
   "source": [
    "gsell =[dfsell.loc[dfsell.iloc[:,i] == 1] for i in range(13,24)]\n",
    "gbuy =[dfbuy.loc[dfbuy.iloc[:,i] == 1] for i in range(13,24)]"
   ]
  },
  {
   "cell_type": "code",
   "execution_count": null,
   "metadata": {
    "collapsed": true
   },
   "outputs": [],
   "source": []
  }
 ],
 "metadata": {
  "kernelspec": {
   "display_name": "Python 3",
   "language": "python",
   "name": "python3"
  },
  "language_info": {
   "codemirror_mode": {
    "name": "ipython",
    "version": 3
   },
   "file_extension": ".py",
   "mimetype": "text/x-python",
   "name": "python",
   "nbconvert_exporter": "python",
   "pygments_lexer": "ipython3",
   "version": "3.6.4"
  }
 },
 "nbformat": 4,
 "nbformat_minor": 2
}
