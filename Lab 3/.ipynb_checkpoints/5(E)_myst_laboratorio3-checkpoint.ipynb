{
 "cells": [
  {
   "cell_type": "markdown",
   "metadata": {},
   "source": [
    "# Laboratorio 3: Behavioral Economics en Trading.\n",
    "\n",
    "\n",
    "- El propósito: Que utilices la información histórica de la cuenta de trading manual y, mediante la formulación y programación de 3 \"Sesgos cognitivos\", realices una evaluación del desempeño de la cuenta utilizando el marco de \"Behavioral economics\". Con la finalidad de inferir si al momento de tomar las decisiones que se tomaron en esa cuenta, se estuvo incurriendo en esos 3 \"Sesgos cognitivos\" y su impacto en el resultado final.\n",
    "\n",
    "\n",
    "Equipo 5:\n",
    "\n",
    "* Luis Ontaneda \n",
    "* Alejandro Preciado\n",
    "* Jose Antonio Quintero\n",
    "* Ana Paula Rangel\n"
   ]
  },
  {
   "cell_type": "code",
   "execution_count": 1,
   "metadata": {},
   "outputs": [],
   "source": [
    "\n",
    "def f_datosent(P0_archivo):\n",
    "    import pandas as pd\n",
    "    import json\n",
    "    \n",
    "    #Opciones para visualizar data drames en consola \n",
    "    pd.set_option('display.max_row',5000)\n",
    "    pd.set_option('display.max_columns',500)\n",
    "    pd.set_option('display.width',1000)\n",
    "    \n",
    "    #datos=pd.read_excel('Histórico.xlsx',sheet_name='Hoja1')\n",
    "    \n",
    "    with open(P0_archivo, encoding='utf-8-sig') as json_file:\n",
    "        datos_2 = json.load(json_file)['data']\n",
    "    \n",
    "    #Seleccionar la sección de 'closedTransactions' que es la de interés\n",
    "        df_datos=pd.DataFrame(datos_2['closedTransactions']['list'])\n",
    "    \n",
    "    #Seleccionar solo los renglones de operaciones\n",
    "    df_datos=df_datos[(df_datos['type']=='buy')|(df_datos['type']=='sell')|(df_datos['type']=='s/L')|\n",
    "            (df_datos['type']=='t/p')]\n",
    "    \n",
    "    #Resetear index para tener todos los numeros de indice completos\n",
    "    df_datos=df_datos.reset_index()\n",
    "    \n",
    "    #Eliminar columnas 'info' e index\n",
    "    df_datos=df_datos.drop(['info','index'],1)\n",
    "    \n",
    "    #renombrar columnas\n",
    "    df_datos.rename(columns={'SL':'sl','TP':'tp','price':'openPrice','price2':'closePrice',\n",
    "                             'item':'Instrument'},inplace=True)\n",
    "    \n",
    "    return(df_datos)"
   ]
  },
  {
   "cell_type": "code",
   "execution_count": 2,
   "metadata": {},
   "outputs": [
    {
     "ename": "FileNotFoundError",
     "evalue": "[Errno 2] No such file or directory: 'archivo_tradeview_0.json'",
     "output_type": "error",
     "traceback": [
      "\u001b[1;31m---------------------------------------------------------------------------\u001b[0m",
      "\u001b[1;31mFileNotFoundError\u001b[0m                         Traceback (most recent call last)",
      "\u001b[1;32m<ipython-input-2-6703fd4a19ba>\u001b[0m in \u001b[0;36m<module>\u001b[1;34m\u001b[0m\n\u001b[0;32m      1\u001b[0m \u001b[1;31m#import untitled1\u001b[0m\u001b[1;33m\u001b[0m\u001b[1;33m\u001b[0m\u001b[1;33m\u001b[0m\u001b[0m\n\u001b[1;32m----> 2\u001b[1;33m \u001b[0mf_datosent\u001b[0m\u001b[1;33m(\u001b[0m\u001b[0mP0_archivo\u001b[0m\u001b[1;33m=\u001b[0m\u001b[1;34m\"archivo_tradeview_0.json\"\u001b[0m\u001b[1;33m)\u001b[0m\u001b[1;33m\u001b[0m\u001b[1;33m\u001b[0m\u001b[0m\n\u001b[0m",
      "\u001b[1;32m<ipython-input-1-d2d1abe3a715>\u001b[0m in \u001b[0;36mf_datosent\u001b[1;34m(P0_archivo)\u001b[0m\n\u001b[0;32m     11\u001b[0m     \u001b[1;31m#datos=pd.read_excel('Histórico.xlsx',sheet_name='Hoja1')\u001b[0m\u001b[1;33m\u001b[0m\u001b[1;33m\u001b[0m\u001b[1;33m\u001b[0m\u001b[0m\n\u001b[0;32m     12\u001b[0m \u001b[1;33m\u001b[0m\u001b[0m\n\u001b[1;32m---> 13\u001b[1;33m     \u001b[1;32mwith\u001b[0m \u001b[0mopen\u001b[0m\u001b[1;33m(\u001b[0m\u001b[0mP0_archivo\u001b[0m\u001b[1;33m,\u001b[0m \u001b[0mencoding\u001b[0m\u001b[1;33m=\u001b[0m\u001b[1;34m'utf-8-sig'\u001b[0m\u001b[1;33m)\u001b[0m \u001b[1;32mas\u001b[0m \u001b[0mjson_file\u001b[0m\u001b[1;33m:\u001b[0m\u001b[1;33m\u001b[0m\u001b[1;33m\u001b[0m\u001b[0m\n\u001b[0m\u001b[0;32m     14\u001b[0m         \u001b[0mdatos_2\u001b[0m \u001b[1;33m=\u001b[0m \u001b[0mjson\u001b[0m\u001b[1;33m.\u001b[0m\u001b[0mload\u001b[0m\u001b[1;33m(\u001b[0m\u001b[0mjson_file\u001b[0m\u001b[1;33m)\u001b[0m\u001b[1;33m[\u001b[0m\u001b[1;34m'data'\u001b[0m\u001b[1;33m]\u001b[0m\u001b[1;33m\u001b[0m\u001b[1;33m\u001b[0m\u001b[0m\n\u001b[0;32m     15\u001b[0m \u001b[1;33m\u001b[0m\u001b[0m\n",
      "\u001b[1;31mFileNotFoundError\u001b[0m: [Errno 2] No such file or directory: 'archivo_tradeview_0.json'"
     ]
    }
   ],
   "source": [
    "#import untitled1\n",
    "f_datosent(P0_archivo=\"archivo_tradeview_0.json\")"
   ]
  },
  {
   "cell_type": "code",
   "execution_count": 17,
   "metadata": {},
   "outputs": [],
   "source": [
    "from datetime import datetime\n",
    "import pandas as pd\n",
    "df = pd.read_excel(\"archivo_tradeview_2.xlsx\")\n",
    "df[\"openTime\"] = df[\"openTime\"].apply(lambda x: datetime.strptime(x, '%Y.%m.%d %H:%M:%S'))\n",
    "kxmes = df.groupby(pd.Grouper(key='openTime', freq='W'))\n",
    "kxmes = [kxmes.get_group(x) for x in kxmes.groups]"
   ]
  },
  {
   "cell_type": "code",
   "execution_count": null,
   "metadata": {},
   "outputs": [],
   "source": []
  }
 ],
 "metadata": {
  "kernelspec": {
   "display_name": "Python 3",
   "language": "python",
   "name": "python3"
  },
  "language_info": {
   "codemirror_mode": {
    "name": "ipython",
    "version": 3
   },
   "file_extension": ".py",
   "mimetype": "text/x-python",
   "name": "python",
   "nbconvert_exporter": "python",
   "pygments_lexer": "ipython3",
   "version": "3.6.4"
  }
 },
 "nbformat": 4,
 "nbformat_minor": 2
}
