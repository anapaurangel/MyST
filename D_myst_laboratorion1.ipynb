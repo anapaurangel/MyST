{
 "cells": [
  {
   "cell_type": "markdown",
   "metadata": {},
   "source": [
    "# D_myst_laboratorion1.ipynb\n",
    "\n",
    "### Laboratorio 1 (Admin Pasiva Vs Admin Activa)\n",
    "    \n",
    "    Laboratorio 1: Administración activa Vs Administración pasiva del capital.\n",
    "    Recuerda que la fecha de ésta es la última en la cual puedes realizar modificaciones en repositorio del laboratorio. Este espacio sólo es para subir evidencia del laboratorio, la revisión oficial del contenido la haré siempre desde el repositorio.\n",
    "\n",
    "    Sobre este laboratorio:\n",
    "    - El propósito: Que puedas explicar las diferencias cuantitativas y cualitativas de administrar activamente o pasivamente el capital. Utilizando el caso de los ETFs con posiciones en acciones, para el caso particular de IShares y ETFs cuyos activos coticen en bolsas de valores de USA.\n",
    "\n",
    "    Recuerda que:\n",
    "    - En este espacio debes de subir el jupyter notebook de la versión final.\n",
    "\n",
    "    - Todos los integrantes del equipo deben de subir el mismo archivo.\n",
    "\n",
    "    - El nombre del archivo debe de ser como sigue: equipo_myst_laboratorio1\n",
    "\n",
    "    Ejemplo, para el equipo \"A\", el nombre del archivo que deben de subir es A_myst_laboratorio1.ipynb\n",
    "    \n",
    "    https://www.quandl.com/search?filters=%5B%22Mutual%20Funds%20%26%20ETFs%22%2C%22Free%22%2C%22United%20States%22%5D"
   ]
  },
  {
   "cell_type": "code",
   "execution_count": 20,
   "metadata": {},
   "outputs": [],
   "source": [
    "import quandl"
   ]
  },
  {
   "cell_type": "code",
   "execution_count": 21,
   "metadata": {},
   "outputs": [
    {
     "data": {
      "text/html": [
       "<div>\n",
       "<style scoped>\n",
       "    .dataframe tbody tr th:only-of-type {\n",
       "        vertical-align: middle;\n",
       "    }\n",
       "\n",
       "    .dataframe tbody tr th {\n",
       "        vertical-align: top;\n",
       "    }\n",
       "\n",
       "    .dataframe thead th {\n",
       "        text-align: right;\n",
       "    }\n",
       "</style>\n",
       "<table border=\"1\" class=\"dataframe\">\n",
       "  <thead>\n",
       "    <tr style=\"text-align: right;\">\n",
       "      <th></th>\n",
       "      <th>ticker</th>\n",
       "      <th>date</th>\n",
       "      <th>open</th>\n",
       "      <th>adj_close</th>\n",
       "    </tr>\n",
       "    <tr>\n",
       "      <th>None</th>\n",
       "      <th></th>\n",
       "      <th></th>\n",
       "      <th></th>\n",
       "      <th></th>\n",
       "    </tr>\n",
       "  </thead>\n",
       "  <tbody>\n",
       "    <tr>\n",
       "      <th>0</th>\n",
       "      <td>ZUMZ</td>\n",
       "      <td>2018-03-01</td>\n",
       "      <td>19.65</td>\n",
       "      <td>19.70</td>\n",
       "    </tr>\n",
       "    <tr>\n",
       "      <th>1</th>\n",
       "      <td>ZUMZ</td>\n",
       "      <td>2018-02-28</td>\n",
       "      <td>20.00</td>\n",
       "      <td>19.70</td>\n",
       "    </tr>\n",
       "    <tr>\n",
       "      <th>2</th>\n",
       "      <td>ZUMZ</td>\n",
       "      <td>2018-02-27</td>\n",
       "      <td>20.70</td>\n",
       "      <td>19.80</td>\n",
       "    </tr>\n",
       "    <tr>\n",
       "      <th>3</th>\n",
       "      <td>ZUMZ</td>\n",
       "      <td>2018-02-26</td>\n",
       "      <td>20.35</td>\n",
       "      <td>20.55</td>\n",
       "    </tr>\n",
       "    <tr>\n",
       "      <th>4</th>\n",
       "      <td>ZUMZ</td>\n",
       "      <td>2018-02-23</td>\n",
       "      <td>19.90</td>\n",
       "      <td>20.25</td>\n",
       "    </tr>\n",
       "  </tbody>\n",
       "</table>\n",
       "</div>"
      ],
      "text/plain": [
       "     ticker       date   open  adj_close\n",
       "None                                    \n",
       "0      ZUMZ 2018-03-01  19.65      19.70\n",
       "1      ZUMZ 2018-02-28  20.00      19.70\n",
       "2      ZUMZ 2018-02-27  20.70      19.80\n",
       "3      ZUMZ 2018-02-26  20.35      20.55\n",
       "4      ZUMZ 2018-02-23  19.90      20.25"
      ]
     },
     "execution_count": 21,
     "metadata": {},
     "output_type": "execute_result"
    }
   ],
   "source": [
    "quandl.ApiConfig.api_key = 'wzJyeSB_seJSjER5FGSA'\n",
    "\n",
    "# get the table for daily stock prices and,\n",
    "# filter the table for selected tickers, columns within a time range\n",
    "# set paginate to True because Quandl limits tables API to 10,000 rows per call\n",
    "\n",
    "data = quandl.get_table('WIKI/PRICES', ticker = [\"MRCY\",\"SIGI\",\"FCFS\",\"RGEN\",\"FCN\",\"STRA\",\"SEDG\",\"NEOG\",\"EXPO\",\"AJRD\",\"RLI\",\"CCMP\",\"LHCG\",\"GBCI\",\"AWR\",\"HMSY\",\"JBT\",\"CBU\",\"VIAV\",\"BLD\",\"AVA\",\"ADC\",\"DAR\",\"WING\",\"ARWR\",\"UNF\",\"OMCL\",\"SJI\",\"LAD\",\"JJSF\",\"BCPC\",\"SKYW\",\"FOXF\",\"QLYS\",\"MDCO\",\"EE\",\"CWT\",\"FNSR\",\"AMN\",\"CNMD\",\"SHAK\",\"MOGA\",\"ARI\",\"ENSG\",\"NEO\",\"MNRO\",\"WDFC\",\"VG\",\"ONB\",\"SSD\",\"WTS\",\"CCOI\",\"ABM\",\"COLB\",\"POWI\",\"PRLB\",\"LPSN\",\"AIN\",\"SHOO\",\"EGHT\",\"UFPI\",\"ROG\",\"RH\",\"MTH\",\"BRC\",\"EXLS\",\"SFNC\",\"INDB\",\"IRDM\",\"ITRI\",\"CTRE\",\"AKR\",\"XHR\",\"GTLS\",\"FFBC\",\"BRKS\",\"WWW\",\"IIVI\",\"IVR\",\"ITGR\",\"AAT\",\"LXP\",\"NWN\",\"KFY\",\"CVBF\",\"EVTC\",\"MEDP\",\"WRE\",\"FMBI\",\"DORM\",\"SAIA\",\"B\",\"FUL\",\"LCII\",\"WAGE\",\"FBP\",\"ABCB\",\"IOSP\",\"PRA\",\"ROIC\",\"CBM\",\"KWR\",\"SANM\",\"CUB\",\"AIT\",\"LTC\",\"NMIH\",\"ESE\",\"FCPT\",\"SCL\",\"NSA\",\"AEL\",\"AAON\",\"DRH\",\"MMSI\",\"PMT\",\"EHTH\",\"PDCE\",\"EBS\",\"MANT\",\"AEIS\",\"KN\",\"MDC\",\"ALGT\",\"UCBI\",\"LTXB\",\"FN\",\"SPSC\",\"ABG\",\"FSS\",\"XNCR\",\"AVP\",\"SFLY\",\"HMN\",\"SEM\",\"CSGS\",\"IRBT\",\"USPH\",\"CSII\",\"FELE\",\"PRGS\",\"OSIS\",\"FWRD\",\"PLXS\",\"NSIT\",\"HI\",\"NWBI\",\"ALRM\",\"AXE\",\"MYGN\",\"RWT\",\"BANR\",\"DRQ\",\"SPXC\",\"GNL\",\"GWB\",\"DEA\",\"WABC\",\"HOPE\",\"GHDX\",\"EPAY\",\"KAMN\",\"COKE\",\"WD\",\"CHSP\",\"KTB\",\"ACA\",\"MGLN\",\"CVCO\",\"CROX\",\"MATX\",\"NBTB\",\"DIOD\",\"CECO\",\"PRAA\",\"CORE\",\"ELY\",\"LGIH\",\"PLAY\",\"PFS\",\"MLI\",\"JRVR\",\"BMI\",\"LZB\",\"CRAY\",\"NYMT\",\"SAFT\",\"HUBG\",\"BLMN\",\"SUPN\",\"MINI\",\"SFBS\",\"CVGW\",\"HSC\",\"VGR\",\"BEAT\",\"FIX\",\"AX\",\"EGOV\",\"AIR\",\"FLOW\",\"PPBI\",\"DIN\",\"BHLB\",\"VVI\",\"CORT\",\"ATU\",\"GPI\",\"PLCE\",\"ROCK\",\"ECOL\",\"OPI\",\"UVV\",\"RMBS\",\"EGBN\",\"KLIC\",\"NPO\",\"EIG\",\"IRT\",\"SNBR\",\"FORM\",\"CALM\",\"MXL\",\"AMSF\",\"THRM\",\"MNTA\",\"MED\",\"CHCO\",\"UHT\",\"TNC\",\"PRFT\",\"GCI\",\"SBCF\",\"KRG\",\"MTRN\",\"BGS\",\"BCC\",\"IBP\",\"FCF\",\"STBA\",\"CTB\",\"WDR\",\"KALU\",\"OXM\",\"RCII\",\"MSTR\",\"AROC\",\"IIPR\",\"INN\",\"TRHC\",\"SYKE\",\"SRCI\",\"ANF\",\"HA\",\"ENTA\",\"IPAR\",\"PLUS\",\"NP\",\"NCI\",\"BRKL\",\"WIRE\",\"AMWD\",\"CATM\",\"ALG\",\"AVAV\",\"AZZ\",\"GTY\",\"VBTX\",\"MEI\",\"SWM\",\"STMP\",\"SBSI\",\"MTSC\",\"RGNX\",\"BCOR\",\"TGI\",\"FBC\",\"NTGR\",\"BHE\",\"PJC\",\"VRTU\",\"VREX\",\"RAVN\",\"GPMT\",\"MHO\",\"CENTA\",\"OFIX\",\"KEM\",\"NTUS\",\"UFCS\",\"HLX\",\"TMP\",\"APOG\",\"LNN\",\"RPT\",\"SCHL\",\"MATW\",\"HTLD\",\"WGO\",\"CTS\",\"BOOT\",\"ECPG\",\"SM\",\"CRY\",\"AHH\",\"XPER\",\"TTMI\",\"ADUS\",\"OFG\",\"SMP\",\"LTHM\",\"ARR\",\"CHEF\",\"DBD\",\"CASH\",\"HFWA\",\"USNA\",\"FARO\",\"WRLD\",\"LNTH\",\"TVTY\",\"NBHC\",\"NRE\",\"KRA\",\"UVE\",\"BIG\",\"TCMD\",\"GIII\",\"LMNX\",\"MLAB\",\"FOE\",\"ENVA\",\"STAR\",\"PGTI\",\"DBI\",\"TYPE\",\"SLCA\",\"SPPI\",\"STC\",\"ANIK\",\"CKH\",\"FSP\",\"PATK\",\"AMPH\",\"CYTK\",\"KELYA\",\"BPFH\",\"OIS\",\"JBSS\",\"VNDA\",\"SXI\",\"DDD\",\"TBI\",\"CCS\",\"CLDT\",\"PUMP\",\"CHCT\",\"GTX\",\"WNC\",\"EBIX\",\"GMS\",\"INVA\",\"CRVL\",\"MCS\",\"MMI\",\"SCSC\",\"NFBK\",\"CMO\",\"TIVO\",\"RLGY\",\"GES\",\"ARCB\",\"TRST\",\"ODP\",\"MRTN\",\"TPRE\",\"VRTS\",\"AXL\",\"GBX\",\"TBK\",\"ANGO\",\"AKS\",\"RGR\",\"CEVA\",\"NXGN\",\"CRZO\",\"HSTM\",\"SSP\",\"RTEC\",\"PFBC\",\"XTSLA\",\"NANO\",\"CIR\",\"PARR\",\"ORIT\",\"TILE\",\"USCR\",\"CMTL\",\"SSTK\",\"AAWW\",\"CAL\",\"SAH\",\"PAHC\",\"TTEC\",\"HMST\",\"PRSC\",\"AMBC\",\"WPG\",\"PLAB\",\"UBA\",\"CPF\",\"EXTR\",\"ASIX\",\"ANDE\",\"DCOM\",\"GLT\",\"BJRI\",\"BANC\",\"GFF\",\"AEGN\",\"WLL\",\"ATNI\",\"UEIC\",\"ASTE\",\"BOOM\",\"INTL\",\"BFS\",\"EGRX\",\"WETF\",\"WLH\",\"ENDP\",\"MGPI\",\"HLIT\",\"SRDX\",\"GCO\",\"NR\",\"SXC\",\"PBI\",\"NX\",\"ANIP\",\"RUTH\",\"CJ\",\"KOP\",\"MYE\",\"CPS\",\"ECHO\",\"BKE\",\"CUBI\",\"IPHS\",\"MCRI\",\"NBR\",\"HAFC\",\"FOSL\",\"MTRX\",\"TTGT\",\"LMAT\",\"HSKA\",\"RECN\",\"WSR\",\"VICR\",\"COHU\",\"TISI\",\"ACLS\",\"HSII\",\"ADTN\",\"HT\",\"CONN\",\"FIZZ\",\"MERC\",\"VECO\",\"DXPE\",\"AGYS\",\"RMAX\",\"ZUMZ\",\"RGS\",\"DNR\",\"NEWM\",\"MYRG\",\"UCTT\",\"CEIX\",\"ICHR\",\"RRGB\",\"CUTR\",\"TG\",\"OPB\",\"QNST\",\"ETH\",\"REGI\",\"OSUR\",\"NPK\",\"OSPN\",\"HWKN\",\"EZPW\",\"APEI\",\"UNFI\",\"BCEI\",\"MOV\",\"SPTN\",\"CHUY\",\"VIVO\",\"REX\",\"CATO\",\"DFIN\",\"PVAC\",\"LPI\",\"CCRN\",\"GPOR\",\"UIS\",\"DGII\",\"DO\",\"PGNX\",\"HAYN\",\"CHS\",\"FSB\",\"HVT\",\"LDL\",\"AVD\",\"GME\",\"IIIN\",\"FORR\",\"PKE\",\"DPLO\",\"SGH\",\"EXTN\",\"PDFS\",\"NE\",\"CAMP\",\"POWL\",\"OMI\",\"CNSL\",\"PETS\",\"HIBB\",\"HZO\",\"VSTO\",\"RES\",\"USD\",\"UFI\",\"PEI\",\"HCI\",\"DSPG\",\"MPAA\",\"UIHC\",\"AKRX\",\"AMAG\",\"FF\",\"CPSI\",\"CENX\",\"CENT\",\"CLW\",\"CRCM\",\"GPRE\",\"GHL\",\"LL\",\"CBB\",\"TLRD\",\"DAKT\",\"SCVL\",\"KLXE\",\"FRGI\",\"CYH\",\"VRTV\",\"LCI\",\"SPOK\",\"TMST\",\"TTI\",\"LOCO\",\"ARLO\",\"LQDT\",\"VRA\",\"CDR\",\"ERA\",\"SENEA\",\"IVC\",\"BGG\",\"AAOI\",\"GEOS\",\"RRD\",\"CBL\",\"UNT\",\"RYAM\",\"JCP\",\"EXPR\",\"ACOR\",\"HPR\",\"TWI\",\"BNED\",\"BELFB\",\"VSI\",\"TTS\",\"DF\",\"LXU\",\"ZEUS\",\"ASRT\",\"GIFI\",\"REI\",\"FTR\",\"KOPN\",\"SPN\",\"SUP\",\"MSFUT\",\"ASNA\",\"LKSD\",\"NLS\",\"KIRK\"], \n",
    "                        qopts = { 'columns': ['ticker', 'date', \"Open\",'adj_close'] }, \n",
    "                        date = { 'gte': '2017-03-01', 'lte': '2018-03-01' }, \n",
    "                        paginate=True)\n",
    "data.head()"
   ]
  },
  {
   "cell_type": "code",
   "execution_count": 22,
   "metadata": {},
   "outputs": [],
   "source": [
    "capital=100000000000\n",
    "comision=.005"
   ]
  },
  {
   "cell_type": "code",
   "execution_count": 24,
   "metadata": {},
   "outputs": [
    {
     "ename": "SyntaxError",
     "evalue": "invalid syntax (<ipython-input-24-a951ebd9246a>, line 1)",
     "output_type": "error",
     "traceback": [
      "\u001b[1;36m  File \u001b[1;32m\"<ipython-input-24-a951ebd9246a>\"\u001b[1;36m, line \u001b[1;32m1\u001b[0m\n\u001b[1;33m    for(i in 1:len(tk))\u001b[0m\n\u001b[1;37m              ^\u001b[0m\n\u001b[1;31mSyntaxError\u001b[0m\u001b[1;31m:\u001b[0m invalid syntax\n"
     ]
    }
   ],
   "source": [
    "for(i in 1:len(tk)):\n",
    "  data[[i]]=Bajar_Precios(Columns=cs, Ticker=tk[i], Fecha_In=fs[1], Fecha_Fn=fs[2])\n",
    "\n",
    "names(Datos)=tk"
   ]
  },
  {
   "cell_type": "code",
   "execution_count": null,
   "metadata": {},
   "outputs": [],
   "source": []
  }
 ],
 "metadata": {
  "kernelspec": {
   "display_name": "Python 2",
   "language": "python",
   "name": "python2"
  },
  "language_info": {
   "codemirror_mode": {
    "name": "ipython",
    "version": 2
   },
   "file_extension": ".py",
   "mimetype": "text/x-python",
   "name": "python",
   "nbconvert_exporter": "python",
   "pygments_lexer": "ipython2",
   "version": "2.7.15"
  }
 },
 "nbformat": 4,
 "nbformat_minor": 2
}
