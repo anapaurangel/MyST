{
 "cells": [
  {
   "cell_type": "markdown",
   "metadata": {},
   "source": [
    "# D_myst_laboratorion1.ipynb\n",
    "\n",
    "### Laboratorio 1 (Admin Pasiva Vs Admin Activa)\n",
    "    \n",
    "    Laboratorio 1: Administración activa Vs Administración pasiva del capital.\n",
    "    Recuerda que la fecha de ésta es la última en la cual puedes realizar modificaciones en repositorio del laboratorio. Este espacio sólo es para subir evidencia del laboratorio, la revisión oficial del contenido la haré siempre desde el repositorio.\n",
    "\n",
    "    Sobre este laboratorio:\n",
    "    - El propósito: Que puedas explicar las diferencias cuantitativas y cualitativas de administrar activamente o pasivamente el capital. Utilizando el caso de los ETFs con posiciones en acciones, para el caso particular de IShares y ETFs cuyos activos coticen en bolsas de valores de USA.\n",
    "\n",
    "    Recuerda que:\n",
    "    - En este espacio debes de subir el jupyter notebook de la versión final.\n",
    "\n",
    "    - Todos los integrantes del equipo deben de subir el mismo archivo.\n",
    "\n",
    "    - El nombre del archivo debe de ser como sigue: equipo_myst_laboratorio1\n",
    "\n",
    "    Ejemplo, para el equipo \"A\", el nombre del archivo que deben de subir es A_myst_laboratorio1.ipynb"
   ]
  },
  {
   "cell_type": "code",
   "execution_count": 1,
   "metadata": {},
   "outputs": [],
   "source": [
    "import quandl"
   ]
  },
  {
   "cell_type": "code",
   "execution_count": 2,
   "metadata": {},
   "outputs": [
    {
     "data": {
      "text/html": [
       "<div>\n",
       "<style scoped>\n",
       "    .dataframe tbody tr th:only-of-type {\n",
       "        vertical-align: middle;\n",
       "    }\n",
       "\n",
       "    .dataframe tbody tr th {\n",
       "        vertical-align: top;\n",
       "    }\n",
       "\n",
       "    .dataframe thead th {\n",
       "        text-align: right;\n",
       "    }\n",
       "</style>\n",
       "<table border=\"1\" class=\"dataframe\">\n",
       "  <thead>\n",
       "    <tr style=\"text-align: right;\">\n",
       "      <th></th>\n",
       "      <th>ticker</th>\n",
       "      <th>date</th>\n",
       "      <th>adj_close</th>\n",
       "    </tr>\n",
       "    <tr>\n",
       "      <th>None</th>\n",
       "      <th></th>\n",
       "      <th></th>\n",
       "      <th></th>\n",
       "    </tr>\n",
       "  </thead>\n",
       "  <tbody>\n",
       "    <tr>\n",
       "      <th>0</th>\n",
       "      <td>WMT</td>\n",
       "      <td>2016-12-30</td>\n",
       "      <td>67.742045</td>\n",
       "    </tr>\n",
       "    <tr>\n",
       "      <th>1</th>\n",
       "      <td>WMT</td>\n",
       "      <td>2016-12-29</td>\n",
       "      <td>67.879254</td>\n",
       "    </tr>\n",
       "    <tr>\n",
       "      <th>2</th>\n",
       "      <td>WMT</td>\n",
       "      <td>2016-12-28</td>\n",
       "      <td>67.928257</td>\n",
       "    </tr>\n",
       "    <tr>\n",
       "      <th>3</th>\n",
       "      <td>WMT</td>\n",
       "      <td>2016-12-27</td>\n",
       "      <td>68.310482</td>\n",
       "    </tr>\n",
       "    <tr>\n",
       "      <th>4</th>\n",
       "      <td>WMT</td>\n",
       "      <td>2016-12-23</td>\n",
       "      <td>68.153672</td>\n",
       "    </tr>\n",
       "  </tbody>\n",
       "</table>\n",
       "</div>"
      ],
      "text/plain": [
       "     ticker       date  adj_close\n",
       "None                             \n",
       "0       WMT 2016-12-30  67.742045\n",
       "1       WMT 2016-12-29  67.879254\n",
       "2       WMT 2016-12-28  67.928257\n",
       "3       WMT 2016-12-27  68.310482\n",
       "4       WMT 2016-12-23  68.153672"
      ]
     },
     "execution_count": 2,
     "metadata": {},
     "output_type": "execute_result"
    }
   ],
   "source": [
    "quandl.ApiConfig.api_key = 'wzJyeSB_seJSjER5FGSA'\n",
    "\n",
    "# get the table for daily stock prices and,\n",
    "# filter the table for selected tickers, columns within a time range\n",
    "# set paginate to True because Quandl limits tables API to 10,000 rows per call\n",
    "\n",
    "data = quandl.get_table('WIKI/PRICES', ticker = ['AAPL', 'MSFT', 'WMT'], \n",
    "                        qopts = { 'columns': ['ticker', 'date', 'adj_close'] }, \n",
    "                        date = { 'gte': '2015-12-31', 'lte': '2016-12-31' }, \n",
    "                        paginate=True)\n",
    "data.head()"
   ]
  },
  {
   "cell_type": "code",
   "execution_count": null,
   "metadata": {},
   "outputs": [],
   "source": []
  }
 ],
 "metadata": {
  "kernelspec": {
   "display_name": "Python 2",
   "language": "python",
   "name": "python2"
  },
  "language_info": {
   "codemirror_mode": {
    "name": "ipython",
    "version": 2
   },
   "file_extension": ".py",
   "mimetype": "text/x-python",
   "name": "python",
   "nbconvert_exporter": "python",
   "pygments_lexer": "ipython2",
   "version": "2.7.15"
  }
 },
 "nbformat": 4,
 "nbformat_minor": 2
}
