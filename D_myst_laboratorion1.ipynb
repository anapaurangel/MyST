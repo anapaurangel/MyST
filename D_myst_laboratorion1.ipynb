{
 "cells": [
  {
   "cell_type": "markdown",
   "metadata": {},
   "source": [
    "# D_myst_laboratorion1.ipynb\n",
    "\n",
    "### Laboratorio 1 (Admin Pasiva Vs Admin Activa)\n",
    "    \n",
    "    Laboratorio 1: Administración activa Vs Administración pasiva del capital.\n",
    "    Recuerda que la fecha de ésta es la última en la cual puedes realizar modificaciones en repositorio del laboratorio. Este espacio sólo es para subir evidencia del laboratorio, la revisión oficial del contenido la haré siempre desde el repositorio.\n",
    "\n",
    "    Sobre este laboratorio:\n",
    "    - El propósito: Que puedas explicar las diferencias cuantitativas y cualitativas de administrar activamente o pasivamente el capital. Utilizando el caso de los ETFs con posiciones en acciones, para el caso particular de IShares y ETFs cuyos activos coticen en bolsas de valores de USA.\n",
    "\n",
    "    Recuerda que:\n",
    "    - En este espacio debes de subir el jupyter notebook de la versión final.\n",
    "\n",
    "    - Todos los integrantes del equipo deben de subir el mismo archivo.\n",
    "\n",
    "    - El nombre del archivo debe de ser como sigue: equipo_myst_laboratorio1\n",
    "\n",
    "    Ejemplo, para el equipo \"A\", el nombre del archivo que deben de subir es A_myst_laboratorio1.ipynb"
   ]
  },
  {
   "cell_type": "code",
   "execution_count": null,
   "metadata": {},
   "outputs": [],
   "source": []
  }
 ],
 "metadata": {
  "kernelspec": {
   "display_name": "Python 2",
   "language": "python",
   "name": "python2"
  },
  "language_info": {
   "codemirror_mode": {
    "name": "ipython",
    "version": 2
   },
   "file_extension": ".py",
   "mimetype": "text/x-python",
   "name": "python",
   "nbconvert_exporter": "python",
   "pygments_lexer": "ipython2",
   "version": "2.7.15"
  }
 },
 "nbformat": 4,
 "nbformat_minor": 2
}
